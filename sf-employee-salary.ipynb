{
 "cells": [
  {
   "cell_type": "markdown",
   "metadata": {},
   "source": [
    "# **Introduction**"
   ]
  },
  {
   "cell_type": "markdown",
   "metadata": {},
   "source": [
    "The San Francisco Controller's Office maintains a database of the salary and benefits\n",
    "paid to City employees between fiscal years 2013 - 2017.\n",
    "\n",
    "The dataset hosted by the city of San Francisco. The organization has an open data\n",
    "platform and they update their information according the amount of data that is brought\n",
    "in.\n",
    "\n",
    "This dataset is updated annually. New data is added on a bi-annual basis when available\n",
    "for each fiscal and calendar year.\n",
    "\n",
    "The dataset is in csv file: \"employee-compensation.csv\"\n",
    "\n",
    "Our target is to predict the salary.\n",
    "\n",
    "The csv file includes 213K observations and 22 features. After cleaning the Nan's and\n",
    "defining the interested population as employees with total annual salary of at least\n",
    "35,000$, we have almost 150K observations.\n",
    "\n",
    "Three models were selected - Linear Regression, Decision Tree Regressor and Random Forest Regressor."
   ]
  },
  {
   "cell_type": "code",
   "execution_count": 1,
   "metadata": {
    "_cell_guid": "b1076dfc-b9ad-4769-8c92-a6c4dae69d19",
    "_uuid": "8f2839f25d086af736a60e9eeb907d3b93b6e0e5"
   },
   "outputs": [
    {
     "name": "stdout",
     "output_type": "stream",
     "text": [
      "['socrata_metadata.json', 'CON_DataDictionary_Employee-Compensation.xlsx', 'CON_DataDictionary_Employee-Compensation.pdf', 'employee-compensation.csv']\n"
     ]
    }
   ],
   "source": [
    "\n",
    "\n",
    "import numpy as np # linear algebra\n",
    "import pandas as pd # data processing, CSV file I/O (e.g. pd.read_csv)\n",
    "import matplotlib.pyplot as plt\n",
    "import seaborn as sns\n",
    "from pandas.plotting import scatter_matrix\n",
    "from sklearn.pipeline import Pipeline, FeatureUnion\n",
    "from sklearn.impute import SimpleImputer\n",
    "from sklearn.preprocessing import MinMaxScaler, FunctionTransformer, OneHotEncoder, KBinsDiscretizer, MaxAbsScaler, LabelEncoder\n",
    "from sklearn.model_selection import GridSearchCV, cross_val_score, train_test_split as split\n",
    "from sklearn.metrics import confusion_matrix, classification_report, accuracy_score\n",
    "from sklearn.linear_model import LinearRegression\n",
    "from sklearn.tree import DecisionTreeRegressor\n",
    "from sklearn.ensemble import RandomForestRegressor\n",
    "from sklearn.mixture import GaussianMixture\n",
    "from time import time"
   ]
  },
  {
   "cell_type": "markdown",
   "metadata": {},
   "source": [
    "# **Data Preparation**\n",
    "## **Load Data**"
   ]
  },
  {
   "cell_type": "code",
   "execution_count": 2,
   "metadata": {
    "_cell_guid": "79c7e3d0-c299-4dcb-8224-4455121ee9b0",
    "_uuid": "d629ff2d2480ee46fbb7e2d37f6b5fab8052498a"
   },
   "outputs": [],
   "source": [
    "df = pd.read_csv('employee-compensation.csv')"
   ]
  },
  {
   "cell_type": "code",
   "execution_count": 3,
   "metadata": {},
   "outputs": [
    {
     "name": "stdout",
     "output_type": "stream",
     "text": [
      "<class 'pandas.core.frame.DataFrame'>\n",
      "RangeIndex: 213202 entries, 0 to 213201\n",
      "Data columns (total 22 columns):\n",
      "Year Type                  213202 non-null object\n",
      "Year                       213202 non-null int64\n",
      "Organization Group Code    213202 non-null int64\n",
      "Organization Group         213202 non-null object\n",
      "Department Code            213202 non-null object\n",
      "Department                 213202 non-null object\n",
      "Union Code                 212987 non-null float64\n",
      "Union                      212987 non-null object\n",
      "Job Family Code            212982 non-null object\n",
      "Job Family                 212982 non-null object\n",
      "Job Code                   213202 non-null object\n",
      "Job                        213202 non-null object\n",
      "Employee Identifier        213202 non-null int64\n",
      "Salaries                   213202 non-null float64\n",
      "Overtime                   213202 non-null float64\n",
      "Other Salaries             213202 non-null float64\n",
      "Total Salary               213202 non-null float64\n",
      "Retirement                 213202 non-null float64\n",
      "Health/Dental              213202 non-null float64\n",
      "Other Benefits             213202 non-null float64\n",
      "Total Benefits             213202 non-null float64\n",
      "Total Compensation         213202 non-null float64\n",
      "dtypes: float64(10), int64(3), object(9)\n",
      "memory usage: 35.8+ MB\n"
     ]
    }
   ],
   "source": [
    "df.info()"
   ]
  },
  {
   "cell_type": "code",
   "execution_count": 4,
   "metadata": {},
   "outputs": [
    {
     "data": {
      "text/html": [
       "<div>\n",
       "<style scoped>\n",
       "    .dataframe tbody tr th:only-of-type {\n",
       "        vertical-align: middle;\n",
       "    }\n",
       "\n",
       "    .dataframe tbody tr th {\n",
       "        vertical-align: top;\n",
       "    }\n",
       "\n",
       "    .dataframe thead th {\n",
       "        text-align: right;\n",
       "    }\n",
       "</style>\n",
       "<table border=\"1\" class=\"dataframe\">\n",
       "  <thead>\n",
       "    <tr style=\"text-align: right;\">\n",
       "      <th></th>\n",
       "      <th>Year Type</th>\n",
       "      <th>Year</th>\n",
       "      <th>Organization Group Code</th>\n",
       "      <th>Organization Group</th>\n",
       "      <th>Department Code</th>\n",
       "      <th>Department</th>\n",
       "      <th>Union Code</th>\n",
       "      <th>Union</th>\n",
       "      <th>Job Family Code</th>\n",
       "      <th>Job Family</th>\n",
       "      <th>Job Code</th>\n",
       "      <th>Job</th>\n",
       "      <th>Employee Identifier</th>\n",
       "      <th>Salaries</th>\n",
       "      <th>Overtime</th>\n",
       "      <th>Other Salaries</th>\n",
       "      <th>Total Salary</th>\n",
       "      <th>Retirement</th>\n",
       "      <th>Health/Dental</th>\n",
       "      <th>Other Benefits</th>\n",
       "      <th>Total Benefits</th>\n",
       "      <th>Total Compensation</th>\n",
       "    </tr>\n",
       "  </thead>\n",
       "  <tbody>\n",
       "    <tr>\n",
       "      <th>0</th>\n",
       "      <td>Fiscal</td>\n",
       "      <td>2013</td>\n",
       "      <td>1</td>\n",
       "      <td>Public Protection</td>\n",
       "      <td>FIR</td>\n",
       "      <td>FIR Fire Department</td>\n",
       "      <td>798.0</td>\n",
       "      <td>Firefighters - Miscellaneous, Local 798</td>\n",
       "      <td>H000</td>\n",
       "      <td>Fire Services</td>\n",
       "      <td>H003</td>\n",
       "      <td>EMT/Paramedic/Firefighter</td>\n",
       "      <td>37216</td>\n",
       "      <td>123841.28</td>\n",
       "      <td>76853.77</td>\n",
       "      <td>14922.05</td>\n",
       "      <td>215617.10</td>\n",
       "      <td>24574.98</td>\n",
       "      <td>14920.13</td>\n",
       "      <td>3589.87</td>\n",
       "      <td>43084.98</td>\n",
       "      <td>258702.08</td>\n",
       "    </tr>\n",
       "    <tr>\n",
       "      <th>1</th>\n",
       "      <td>Fiscal</td>\n",
       "      <td>2014</td>\n",
       "      <td>2</td>\n",
       "      <td>Public Works, Transportation &amp; Commerce</td>\n",
       "      <td>MTA</td>\n",
       "      <td>MTA Municipal Transprtn Agncy</td>\n",
       "      <td>261.0</td>\n",
       "      <td>Laborers, Local 261</td>\n",
       "      <td>7500</td>\n",
       "      <td>Semi-Skilled &amp; General Labor</td>\n",
       "      <td>7514</td>\n",
       "      <td>General Laborer</td>\n",
       "      <td>24950</td>\n",
       "      <td>61137.60</td>\n",
       "      <td>7341.04</td>\n",
       "      <td>9218.74</td>\n",
       "      <td>77697.38</td>\n",
       "      <td>14897.71</td>\n",
       "      <td>12516.70</td>\n",
       "      <td>6117.99</td>\n",
       "      <td>33532.40</td>\n",
       "      <td>111229.78</td>\n",
       "    </tr>\n",
       "    <tr>\n",
       "      <th>2</th>\n",
       "      <td>Fiscal</td>\n",
       "      <td>2016</td>\n",
       "      <td>2</td>\n",
       "      <td>Public Works, Transportation &amp; Commerce</td>\n",
       "      <td>AIR</td>\n",
       "      <td>AIR Airport Commission</td>\n",
       "      <td>790.0</td>\n",
       "      <td>SEIU - Miscellaneous, Local 1021</td>\n",
       "      <td>1400</td>\n",
       "      <td>Clerical, Secretarial &amp; Steno</td>\n",
       "      <td>1406</td>\n",
       "      <td>Senior Clerk</td>\n",
       "      <td>27447</td>\n",
       "      <td>41192.82</td>\n",
       "      <td>0.00</td>\n",
       "      <td>390.00</td>\n",
       "      <td>41582.82</td>\n",
       "      <td>6996.41</td>\n",
       "      <td>11308.96</td>\n",
       "      <td>3200.69</td>\n",
       "      <td>21506.06</td>\n",
       "      <td>63088.88</td>\n",
       "    </tr>\n",
       "    <tr>\n",
       "      <th>3</th>\n",
       "      <td>Fiscal</td>\n",
       "      <td>2015</td>\n",
       "      <td>2</td>\n",
       "      <td>Public Works, Transportation &amp; Commerce</td>\n",
       "      <td>MTA</td>\n",
       "      <td>MTA Municipal Transprtn Agncy</td>\n",
       "      <td>253.0</td>\n",
       "      <td>Transport Workers - Transit Operators, Local 2...</td>\n",
       "      <td>9100</td>\n",
       "      <td>Street Transit</td>\n",
       "      <td>9163</td>\n",
       "      <td>Transit Operator</td>\n",
       "      <td>42001</td>\n",
       "      <td>66993.68</td>\n",
       "      <td>26633.83</td>\n",
       "      <td>4494.98</td>\n",
       "      <td>98122.49</td>\n",
       "      <td>21231.91</td>\n",
       "      <td>13417.45</td>\n",
       "      <td>7449.63</td>\n",
       "      <td>42098.99</td>\n",
       "      <td>140221.48</td>\n",
       "    </tr>\n",
       "    <tr>\n",
       "      <th>4</th>\n",
       "      <td>Fiscal</td>\n",
       "      <td>2013</td>\n",
       "      <td>2</td>\n",
       "      <td>Public Works, Transportation &amp; Commerce</td>\n",
       "      <td>DPW</td>\n",
       "      <td>DPW GSA - Public Works</td>\n",
       "      <td>21.0</td>\n",
       "      <td>Prof &amp; Tech Engineers - Miscellaneous, Local 21</td>\n",
       "      <td>5200</td>\n",
       "      <td>Professional Engineering</td>\n",
       "      <td>5201</td>\n",
       "      <td>Junior Engineer</td>\n",
       "      <td>22142</td>\n",
       "      <td>74260.80</td>\n",
       "      <td>0.00</td>\n",
       "      <td>0.00</td>\n",
       "      <td>74260.80</td>\n",
       "      <td>13522.95</td>\n",
       "      <td>11989.39</td>\n",
       "      <td>5977.19</td>\n",
       "      <td>31489.53</td>\n",
       "      <td>105750.33</td>\n",
       "    </tr>\n",
       "  </tbody>\n",
       "</table>\n",
       "</div>"
      ],
      "text/plain": [
       "  Year Type  Year        ...          Total Benefits Total Compensation\n",
       "0    Fiscal  2013        ...                43084.98          258702.08\n",
       "1    Fiscal  2014        ...                33532.40          111229.78\n",
       "2    Fiscal  2016        ...                21506.06           63088.88\n",
       "3    Fiscal  2015        ...                42098.99          140221.48\n",
       "4    Fiscal  2013        ...                31489.53          105750.33\n",
       "\n",
       "[5 rows x 22 columns]"
      ]
     },
     "execution_count": 4,
     "metadata": {},
     "output_type": "execute_result"
    }
   ],
   "source": [
    "df.head()"
   ]
  },
  {
   "cell_type": "markdown",
   "metadata": {},
   "source": [
    "## **Check for missing values (NaN)**"
   ]
  },
  {
   "cell_type": "code",
   "execution_count": 5,
   "metadata": {},
   "outputs": [
    {
     "name": "stdout",
     "output_type": "stream",
     "text": [
      "Year Type                    0\n",
      "Year                         0\n",
      "Organization Group Code      0\n",
      "Organization Group           0\n",
      "Department Code              0\n",
      "Department                   0\n",
      "Union Code                 215\n",
      "Union                      215\n",
      "Job Family Code            220\n",
      "Job Family                 220\n",
      "Job Code                     0\n",
      "Job                          0\n",
      "Employee Identifier          0\n",
      "Salaries                     0\n",
      "Overtime                     0\n",
      "Other Salaries               0\n",
      "Total Salary                 0\n",
      "Retirement                   0\n",
      "Health/Dental                0\n",
      "Other Benefits               0\n",
      "Total Benefits               0\n",
      "Total Compensation           0\n",
      "dtype: int64\n"
     ]
    },
    {
     "data": {
      "text/html": [
       "<div>\n",
       "<style scoped>\n",
       "    .dataframe tbody tr th:only-of-type {\n",
       "        vertical-align: middle;\n",
       "    }\n",
       "\n",
       "    .dataframe tbody tr th {\n",
       "        vertical-align: top;\n",
       "    }\n",
       "\n",
       "    .dataframe thead th {\n",
       "        text-align: right;\n",
       "    }\n",
       "</style>\n",
       "<table border=\"1\" class=\"dataframe\">\n",
       "  <thead>\n",
       "    <tr style=\"text-align: right;\">\n",
       "      <th></th>\n",
       "      <th>Year Type</th>\n",
       "      <th>Year</th>\n",
       "      <th>Organization Group Code</th>\n",
       "      <th>Organization Group</th>\n",
       "      <th>Department Code</th>\n",
       "      <th>Department</th>\n",
       "      <th>Union Code</th>\n",
       "      <th>Union</th>\n",
       "      <th>Job Family Code</th>\n",
       "      <th>Job Family</th>\n",
       "      <th>Job Code</th>\n",
       "      <th>Job</th>\n",
       "      <th>Employee Identifier</th>\n",
       "      <th>Salaries</th>\n",
       "      <th>Overtime</th>\n",
       "      <th>Other Salaries</th>\n",
       "      <th>Total Salary</th>\n",
       "      <th>Retirement</th>\n",
       "      <th>Health/Dental</th>\n",
       "      <th>Other Benefits</th>\n",
       "      <th>Total Benefits</th>\n",
       "      <th>Total Compensation</th>\n",
       "    </tr>\n",
       "  </thead>\n",
       "  <tbody>\n",
       "    <tr>\n",
       "      <th>2772</th>\n",
       "      <td>Fiscal</td>\n",
       "      <td>2017</td>\n",
       "      <td>5</td>\n",
       "      <td>Culture &amp; Recreation</td>\n",
       "      <td>REC</td>\n",
       "      <td>REC Recreation &amp; Park Commsn</td>\n",
       "      <td>NaN</td>\n",
       "      <td>NaN</td>\n",
       "      <td>NaN</td>\n",
       "      <td>NaN</td>\n",
       "      <td>3278</td>\n",
       "      <td>Recreation Facility Assistant</td>\n",
       "      <td>18828</td>\n",
       "      <td>13569.05</td>\n",
       "      <td>0.00</td>\n",
       "      <td>370.42</td>\n",
       "      <td>13939.47</td>\n",
       "      <td>0.00</td>\n",
       "      <td>5409.33</td>\n",
       "      <td>1081.93</td>\n",
       "      <td>6491.26</td>\n",
       "      <td>20430.73</td>\n",
       "    </tr>\n",
       "    <tr>\n",
       "      <th>4484</th>\n",
       "      <td>Fiscal</td>\n",
       "      <td>2017</td>\n",
       "      <td>4</td>\n",
       "      <td>Community Health</td>\n",
       "      <td>DPH</td>\n",
       "      <td>DPH Public Health</td>\n",
       "      <td>NaN</td>\n",
       "      <td>NaN</td>\n",
       "      <td>NaN</td>\n",
       "      <td>NaN</td>\n",
       "      <td>1010</td>\n",
       "      <td>Information Systems Trainee</td>\n",
       "      <td>46555</td>\n",
       "      <td>25821.40</td>\n",
       "      <td>0.00</td>\n",
       "      <td>0.00</td>\n",
       "      <td>25821.40</td>\n",
       "      <td>4707.26</td>\n",
       "      <td>6381.72</td>\n",
       "      <td>2060.13</td>\n",
       "      <td>13149.11</td>\n",
       "      <td>38970.51</td>\n",
       "    </tr>\n",
       "    <tr>\n",
       "      <th>4687</th>\n",
       "      <td>Fiscal</td>\n",
       "      <td>2016</td>\n",
       "      <td>2</td>\n",
       "      <td>Public Works, Transportation &amp; Commerce</td>\n",
       "      <td>MTA</td>\n",
       "      <td>MTA Municipal Transprtn Agncy</td>\n",
       "      <td>NaN</td>\n",
       "      <td>NaN</td>\n",
       "      <td>NaN</td>\n",
       "      <td>NaN</td>\n",
       "      <td>9152</td>\n",
       "      <td>Transportation Controller Trainee</td>\n",
       "      <td>8869</td>\n",
       "      <td>17626.21</td>\n",
       "      <td>834.82</td>\n",
       "      <td>1349.21</td>\n",
       "      <td>19810.24</td>\n",
       "      <td>3536.07</td>\n",
       "      <td>2464.33</td>\n",
       "      <td>1561.30</td>\n",
       "      <td>7561.70</td>\n",
       "      <td>27371.94</td>\n",
       "    </tr>\n",
       "    <tr>\n",
       "      <th>4732</th>\n",
       "      <td>Fiscal</td>\n",
       "      <td>2017</td>\n",
       "      <td>5</td>\n",
       "      <td>Culture &amp; Recreation</td>\n",
       "      <td>REC</td>\n",
       "      <td>REC Recreation &amp; Park Commsn</td>\n",
       "      <td>NaN</td>\n",
       "      <td>NaN</td>\n",
       "      <td>NaN</td>\n",
       "      <td>NaN</td>\n",
       "      <td>3278</td>\n",
       "      <td>Recreation Facility Assistant</td>\n",
       "      <td>25231</td>\n",
       "      <td>6929.23</td>\n",
       "      <td>0.00</td>\n",
       "      <td>201.08</td>\n",
       "      <td>7130.31</td>\n",
       "      <td>0.00</td>\n",
       "      <td>2762.33</td>\n",
       "      <td>553.43</td>\n",
       "      <td>3315.76</td>\n",
       "      <td>10446.07</td>\n",
       "    </tr>\n",
       "    <tr>\n",
       "      <th>5193</th>\n",
       "      <td>Fiscal</td>\n",
       "      <td>2017</td>\n",
       "      <td>5</td>\n",
       "      <td>Culture &amp; Recreation</td>\n",
       "      <td>REC</td>\n",
       "      <td>REC Recreation &amp; Park Commsn</td>\n",
       "      <td>NaN</td>\n",
       "      <td>NaN</td>\n",
       "      <td>NaN</td>\n",
       "      <td>NaN</td>\n",
       "      <td>3278</td>\n",
       "      <td>Recreation Facility Assistant</td>\n",
       "      <td>33565</td>\n",
       "      <td>14958.18</td>\n",
       "      <td>0.00</td>\n",
       "      <td>628.42</td>\n",
       "      <td>15586.60</td>\n",
       "      <td>0.00</td>\n",
       "      <td>5963.08</td>\n",
       "      <td>1209.77</td>\n",
       "      <td>7172.85</td>\n",
       "      <td>22759.45</td>\n",
       "    </tr>\n",
       "  </tbody>\n",
       "</table>\n",
       "</div>"
      ],
      "text/plain": [
       "     Year Type  Year        ...          Total Benefits Total Compensation\n",
       "2772    Fiscal  2017        ...                 6491.26           20430.73\n",
       "4484    Fiscal  2017        ...                13149.11           38970.51\n",
       "4687    Fiscal  2016        ...                 7561.70           27371.94\n",
       "4732    Fiscal  2017        ...                 3315.76           10446.07\n",
       "5193    Fiscal  2017        ...                 7172.85           22759.45\n",
       "\n",
       "[5 rows x 22 columns]"
      ]
     },
     "execution_count": 5,
     "metadata": {},
     "output_type": "execute_result"
    }
   ],
   "source": [
    "#Checking for nulls\n",
    "print(df.isnull().sum())\n",
    "df[df.Union.isnull() == True].head()"
   ]
  },
  {
   "cell_type": "code",
   "execution_count": 6,
   "metadata": {},
   "outputs": [
    {
     "name": "stderr",
     "output_type": "stream",
     "text": [
      "/opt/conda/lib/python3.6/site-packages/ipykernel_launcher.py:3: UserWarning: Boolean Series key will be reindexed to match DataFrame index.\n",
      "  This is separate from the ipykernel package so we can avoid doing imports until\n"
     ]
    },
    {
     "data": {
      "text/plain": [
       "(3, 22)"
      ]
     },
     "execution_count": 6,
     "metadata": {},
     "output_type": "execute_result"
    }
   ],
   "source": [
    "#Checking what are the jobs that have nulls\n",
    "df[df.Union.isnull() == True]['Organization Group'].value_counts()\n",
    "df[df.Union.isnull() == True][df['Organization Group'] == 'Community Health'].Job.value_counts()\n",
    "df[df.Job == 'Technology Expert II'].shape"
   ]
  },
  {
   "cell_type": "markdown",
   "metadata": {},
   "source": [
    "# **Exploratory Visualization**\n",
    "## **Heatmap**"
   ]
  },
  {
   "cell_type": "code",
   "execution_count": 7,
   "metadata": {},
   "outputs": [
    {
     "data": {
      "text/plain": [
       "<matplotlib.axes._subplots.AxesSubplot at 0x7f1eddc317f0>"
      ]
     },
     "execution_count": 7,
     "metadata": {},
     "output_type": "execute_result"
    },
    {
     "data": {
      "image/png": "[encoded data removed]",
      "text/plain": [
       "<Figure size 432x288 with 2 Axes>"
      ]
     },
     "metadata": {},
     "output_type": "display_data"
    }
   ],
   "source": [
    "sns.heatmap(df.corr())"
   ]
  },
  {
   "cell_type": "markdown",
   "metadata": {},
   "source": [
    "## **Scatter Matrix**"
   ]
  },
  {
   "cell_type": "code",
   "execution_count": 8,
   "metadata": {},
   "outputs": [
    {
     "data": {
      "image/png": "[encoded data removed]",
      "text/plain": [
       "<Figure size 432x288 with 9 Axes>"
      ]
     },
     "metadata": {},
     "output_type": "display_data"
    }
   ],
   "source": [
    "salaries_sm = scatter_matrix(df[['Salaries', 'Total Salary', 'Total Compensation']])\n",
    "#['Salaries', 'Overtime', 'Other Salaries', 'Total Salary', 'Retirement', 'Health/Dental', 'Other Benefits', 'Total Benefits', 'Total Compensation']"
   ]
  },
  {
   "cell_type": "code",
   "execution_count": 9,
   "metadata": {},
   "outputs": [
    {
     "data": {
      "image/png": "[encoded data removed]",
      "text/plain": [
       "<Figure size 432x288 with 16 Axes>"
      ]
     },
     "metadata": {},
     "output_type": "display_data"
    }
   ],
   "source": [
    "benefits_sm = scatter_matrix(df[['Retirement', 'Health/Dental', 'Other Benefits', 'Salaries']])"
   ]
  },
  {
   "cell_type": "markdown",
   "metadata": {},
   "source": [
    "## **Target**"
   ]
  },
  {
   "cell_type": "code",
   "execution_count": 10,
   "metadata": {},
   "outputs": [
    {
     "name": "stderr",
     "output_type": "stream",
     "text": [
      "/opt/conda/lib/python3.6/site-packages/scipy/stats/stats.py:1713: FutureWarning: Using a non-tuple sequence for multidimensional indexing is deprecated; use `arr[tuple(seq)]` instead of `arr[seq]`. In the future this will be interpreted as an array index, `arr[np.array(seq)]`, which will result either in an error or a different result.\n",
      "  return np.add.reduce(sorted[indexer] * weights, axis=axis) / sumval\n"
     ]
    },
    {
     "data": {
      "text/plain": [
       "<matplotlib.axes._subplots.AxesSubplot at 0x7f1eda933f28>"
      ]
     },
     "execution_count": 10,
     "metadata": {},
     "output_type": "execute_result"
    },
    {
     "data": {
      "image/png": "[encoded data removed]",
      "text/plain": [
       "<Figure size 432x288 with 1 Axes>"
      ]
     },
     "metadata": {},
     "output_type": "display_data"
    }
   ],
   "source": [
    "ax = sns.kdeplot(df['Salaries'])\n",
    "ax#.set_xlim(20000,50000)"
   ]
  },
  {
   "cell_type": "code",
   "execution_count": 11,
   "metadata": {},
   "outputs": [
    {
     "data": {
      "text/plain": [
       "count    213202.000000\n",
       "mean      63818.588137\n",
       "std       45437.255368\n",
       "min      -68771.780000\n",
       "25%       23165.535000\n",
       "50%       63210.840000\n",
       "75%       93215.010000\n",
       "max      533985.940000\n",
       "Name: Salaries, dtype: float64"
      ]
     },
     "execution_count": 11,
     "metadata": {},
     "output_type": "execute_result"
    }
   ],
   "source": [
    "df['Salaries'].describe()"
   ]
  },
  {
   "cell_type": "code",
   "execution_count": 12,
   "metadata": {},
   "outputs": [
    {
     "name": "stderr",
     "output_type": "stream",
     "text": [
      "/opt/conda/lib/python3.6/site-packages/scipy/stats/stats.py:1713: FutureWarning: Using a non-tuple sequence for multidimensional indexing is deprecated; use `arr[tuple(seq)]` instead of `arr[seq]`. In the future this will be interpreted as an array index, `arr[np.array(seq)]`, which will result either in an error or a different result.\n",
      "  return np.add.reduce(sorted[indexer] * weights, axis=axis) / sumval\n"
     ]
    },
    {
     "data": {
      "image/png": "[encoded data removed]",
      "text/plain": [
       "<Figure size 432x288 with 1 Axes>"
      ]
     },
     "metadata": {},
     "output_type": "display_data"
    }
   ],
   "source": [
    "salary = ['Salaries', 'Total Salary', 'Total Compensation']\n",
    "\n",
    "for col in salary:\n",
    "    ax_salary = sns.kdeplot(df[col])\n",
    "    ax_salary#.set_xlim(-25000,75000)"
   ]
  },
  {
   "cell_type": "code",
   "execution_count": 13,
   "metadata": {},
   "outputs": [
    {
     "name": "stderr",
     "output_type": "stream",
     "text": [
      "/opt/conda/lib/python3.6/site-packages/scipy/stats/stats.py:1713: FutureWarning: Using a non-tuple sequence for multidimensional indexing is deprecated; use `arr[tuple(seq)]` instead of `arr[seq]`. In the future this will be interpreted as an array index, `arr[np.array(seq)]`, which will result either in an error or a different result.\n",
      "  return np.add.reduce(sorted[indexer] * weights, axis=axis) / sumval\n"
     ]
    },
    {
     "data": {
      "image/png": "[encoded data removed]",
      "text/plain": [
       "<Figure size 432x288 with 1 Axes>"
      ]
     },
     "metadata": {},
     "output_type": "display_data"
    }
   ],
   "source": [
    "benefits = ['Retirement', 'Health/Dental', 'Other Benefits', 'Total Benefits'] \n",
    "\n",
    "for col in benefits:\n",
    "    ax_benefits = sns.kdeplot(df[col])\n",
    "    ax_benefits#.set_xlim(-25000,75000)"
   ]
  },
  {
   "cell_type": "markdown",
   "metadata": {},
   "source": [
    "## **Sample the data** \n",
    "### by removing salaries lower than 35,000 $"
   ]
  },
  {
   "cell_type": "code",
   "execution_count": 14,
   "metadata": {},
   "outputs": [
    {
     "data": {
      "text/plain": [
       "Year Type                  65232\n",
       "Year                       65232\n",
       "Organization Group Code    65232\n",
       "Organization Group         65232\n",
       "Department Code            65232\n",
       "Department                 65232\n",
       "Union Code                 65044\n",
       "Union                      65044\n",
       "Job Family Code            65044\n",
       "Job Family                 65044\n",
       "Job Code                   65232\n",
       "Job                        65232\n",
       "Employee Identifier        65232\n",
       "Salaries                   65232\n",
       "Overtime                   65232\n",
       "Other Salaries             65232\n",
       "Total Salary               65232\n",
       "Retirement                 65232\n",
       "Health/Dental              65232\n",
       "Other Benefits             65232\n",
       "Total Benefits             65232\n",
       "Total Compensation         65232\n",
       "dtype: int64"
      ]
     },
     "execution_count": 14,
     "metadata": {},
     "output_type": "execute_result"
    }
   ],
   "source": [
    "# Removing Salaries lower than 35000 \n",
    "df[df['Salaries'] < 35000].count()\n",
    "#ax.set_xlim(20000,50000)\n",
    "#df['Job'][df.Salaries < 0].value_counts()"
   ]
  },
  {
   "cell_type": "code",
   "execution_count": 15,
   "metadata": {},
   "outputs": [],
   "source": [
    "df2 = df[df['Salaries'] > 35000]"
   ]
  },
  {
   "cell_type": "code",
   "execution_count": 16,
   "metadata": {},
   "outputs": [
    {
     "data": {
      "text/html": [
       "<div>\n",
       "<style scoped>\n",
       "    .dataframe tbody tr th:only-of-type {\n",
       "        vertical-align: middle;\n",
       "    }\n",
       "\n",
       "    .dataframe tbody tr th {\n",
       "        vertical-align: top;\n",
       "    }\n",
       "\n",
       "    .dataframe thead th {\n",
       "        text-align: right;\n",
       "    }\n",
       "</style>\n",
       "<table border=\"1\" class=\"dataframe\">\n",
       "  <thead>\n",
       "    <tr style=\"text-align: right;\">\n",
       "      <th></th>\n",
       "      <th>Organization Count</th>\n",
       "      <th>Organization %</th>\n",
       "    </tr>\n",
       "  </thead>\n",
       "  <tbody>\n",
       "    <tr>\n",
       "      <th>Public Works, Transportation &amp; Commerce</th>\n",
       "      <td>17066</td>\n",
       "      <td>0.253622</td>\n",
       "    </tr>\n",
       "    <tr>\n",
       "      <th>Community Health</th>\n",
       "      <td>13552</td>\n",
       "      <td>0.293836</td>\n",
       "    </tr>\n",
       "    <tr>\n",
       "      <th>Culture &amp; Recreation</th>\n",
       "      <td>12220</td>\n",
       "      <td>0.619110</td>\n",
       "    </tr>\n",
       "    <tr>\n",
       "      <th>Human Welfare &amp; Neighborhood Development</th>\n",
       "      <td>8911</td>\n",
       "      <td>0.454782</td>\n",
       "    </tr>\n",
       "    <tr>\n",
       "      <th>Public Protection</th>\n",
       "      <td>6655</td>\n",
       "      <td>0.163297</td>\n",
       "    </tr>\n",
       "    <tr>\n",
       "      <th>General Administration &amp; Finance</th>\n",
       "      <td>6577</td>\n",
       "      <td>0.338323</td>\n",
       "    </tr>\n",
       "    <tr>\n",
       "      <th>General City Responsibilities</th>\n",
       "      <td>251</td>\n",
       "      <td>0.943609</td>\n",
       "    </tr>\n",
       "  </tbody>\n",
       "</table>\n",
       "</div>"
      ],
      "text/plain": [
       "                                          Organization Count  Organization %\n",
       "Public Works, Transportation & Commerce                17066        0.253622\n",
       "Community Health                                       13552        0.293836\n",
       "Culture & Recreation                                   12220        0.619110\n",
       "Human Welfare & Neighborhood Development                8911        0.454782\n",
       "Public Protection                                       6655        0.163297\n",
       "General Administration & Finance                        6577        0.338323\n",
       "General City Responsibilities                            251        0.943609"
      ]
     },
     "execution_count": 16,
     "metadata": {},
     "output_type": "execute_result"
    }
   ],
   "source": [
    "# What and how many organizations we are losing by reducing the data to salaries < 35,000$\n",
    "org_x = df[df.Salaries<35000]['Organization Group'].value_counts()\n",
    "org_y = df['Organization Group'].value_counts()\n",
    "org_z = pd.concat([org_x, (org_x/org_y)], axis=1, join='inner', sort=False)\n",
    "org_z.columns = ['Organization Count', 'Organization %']\n",
    "org_z"
   ]
  },
  {
   "cell_type": "code",
   "execution_count": 17,
   "metadata": {},
   "outputs": [
    {
     "data": {
      "image/png": "[encoded data removed]",
      "text/plain": [
       "<Figure size 432x288 with 1 Axes>"
      ]
     },
     "metadata": {},
     "output_type": "display_data"
    }
   ],
   "source": [
    "org_ax = org_z['Organization Count'].plot('bar')\n",
    "for p in org_ax.patches:\n",
    "    org_ax.annotate(int(p.get_height()), (p.get_x(), p.get_height() * 1.01))"
   ]
  },
  {
   "cell_type": "code",
   "execution_count": 18,
   "metadata": {},
   "outputs": [
    {
     "data": {
      "text/html": [
       "<div>\n",
       "<style scoped>\n",
       "    .dataframe tbody tr th:only-of-type {\n",
       "        vertical-align: middle;\n",
       "    }\n",
       "\n",
       "    .dataframe tbody tr th {\n",
       "        vertical-align: top;\n",
       "    }\n",
       "\n",
       "    .dataframe thead th {\n",
       "        text-align: right;\n",
       "    }\n",
       "</style>\n",
       "<table border=\"1\" class=\"dataframe\">\n",
       "  <thead>\n",
       "    <tr style=\"text-align: right;\">\n",
       "      <th></th>\n",
       "      <th>Department Count</th>\n",
       "      <th>Department %</th>\n",
       "    </tr>\n",
       "  </thead>\n",
       "  <tbody>\n",
       "    <tr>\n",
       "      <th>DPH Public Health</th>\n",
       "      <td>13552</td>\n",
       "      <td>0.293836</td>\n",
       "    </tr>\n",
       "    <tr>\n",
       "      <th>REC Recreation &amp; Park Commsn</th>\n",
       "      <td>8805</td>\n",
       "      <td>0.710941</td>\n",
       "    </tr>\n",
       "    <tr>\n",
       "      <th>HSA Human Services Agency</th>\n",
       "      <td>8107</td>\n",
       "      <td>0.467128</td>\n",
       "    </tr>\n",
       "    <tr>\n",
       "      <th>MTA Municipal Transprtn Agncy</th>\n",
       "      <td>7482</td>\n",
       "      <td>0.240896</td>\n",
       "    </tr>\n",
       "    <tr>\n",
       "      <th>POL Police</th>\n",
       "      <td>2889</td>\n",
       "      <td>0.170222</td>\n",
       "    </tr>\n",
       "    <tr>\n",
       "      <th>DPW GSA - Public Works</th>\n",
       "      <td>2594</td>\n",
       "      <td>0.314539</td>\n",
       "    </tr>\n",
       "    <tr>\n",
       "      <th>AIR Airport Commission</th>\n",
       "      <td>2461</td>\n",
       "      <td>0.247014</td>\n",
       "    </tr>\n",
       "    <tr>\n",
       "      <th>LIB Public Library</th>\n",
       "      <td>2118</td>\n",
       "      <td>0.437603</td>\n",
       "    </tr>\n",
       "    <tr>\n",
       "      <th>ADM Gen Svcs Agency-City Admin</th>\n",
       "      <td>1771</td>\n",
       "      <td>0.329243</td>\n",
       "    </tr>\n",
       "    <tr>\n",
       "      <th>PUB Public Utilities Bureaus</th>\n",
       "      <td>1494</td>\n",
       "      <td>0.307724</td>\n",
       "    </tr>\n",
       "  </tbody>\n",
       "</table>\n",
       "</div>"
      ],
      "text/plain": [
       "                                Department Count  Department %\n",
       "DPH Public Health                          13552      0.293836\n",
       "REC Recreation & Park Commsn                8805      0.710941\n",
       "HSA Human Services Agency                   8107      0.467128\n",
       "MTA Municipal Transprtn Agncy               7482      0.240896\n",
       "POL Police                                  2889      0.170222\n",
       "DPW GSA - Public Works                      2594      0.314539\n",
       "AIR Airport Commission                      2461      0.247014\n",
       "LIB Public Library                          2118      0.437603\n",
       "ADM Gen Svcs Agency-City Admin              1771      0.329243\n",
       "PUB Public Utilities Bureaus                1494      0.307724"
      ]
     },
     "execution_count": 18,
     "metadata": {},
     "output_type": "execute_result"
    }
   ],
   "source": [
    "# What and how many departments we are losing by reducing the data to salaries < 35,000$\n",
    "dep_x = df[df.Salaries<35000].Department.value_counts()\n",
    "dep_y = df.Department.value_counts()\n",
    "dep_z = pd.concat([dep_x, (dep_x/dep_y)], axis=1, join='inner', sort=False)\n",
    "dep_z.columns = ['Department Count', 'Department %']\n",
    "dep_z.head(10)"
   ]
  },
  {
   "cell_type": "code",
   "execution_count": 19,
   "metadata": {},
   "outputs": [
    {
     "data": {
      "text/html": [
       "<div>\n",
       "<style scoped>\n",
       "    .dataframe tbody tr th:only-of-type {\n",
       "        vertical-align: middle;\n",
       "    }\n",
       "\n",
       "    .dataframe tbody tr th {\n",
       "        vertical-align: top;\n",
       "    }\n",
       "\n",
       "    .dataframe thead th {\n",
       "        text-align: right;\n",
       "    }\n",
       "</style>\n",
       "<table border=\"1\" class=\"dataframe\">\n",
       "  <thead>\n",
       "    <tr style=\"text-align: right;\">\n",
       "      <th></th>\n",
       "      <th>Job Count</th>\n",
       "      <th>Job %</th>\n",
       "    </tr>\n",
       "  </thead>\n",
       "  <tbody>\n",
       "    <tr>\n",
       "      <th>Special Nurse</th>\n",
       "      <td>5042</td>\n",
       "      <td>0.657967</td>\n",
       "    </tr>\n",
       "    <tr>\n",
       "      <th>Public Svc Aide-Public Works</th>\n",
       "      <td>4166</td>\n",
       "      <td>0.998801</td>\n",
       "    </tr>\n",
       "    <tr>\n",
       "      <th>Public Service Trainee</th>\n",
       "      <td>4038</td>\n",
       "      <td>0.956645</td>\n",
       "    </tr>\n",
       "    <tr>\n",
       "      <th>Recreation Leader</th>\n",
       "      <td>3669</td>\n",
       "      <td>0.996469</td>\n",
       "    </tr>\n",
       "    <tr>\n",
       "      <th>Transit Operator</th>\n",
       "      <td>3148</td>\n",
       "      <td>0.240507</td>\n",
       "    </tr>\n",
       "    <tr>\n",
       "      <th>Library Page</th>\n",
       "      <td>1291</td>\n",
       "      <td>0.909155</td>\n",
       "    </tr>\n",
       "    <tr>\n",
       "      <th>Junior Clerk</th>\n",
       "      <td>1143</td>\n",
       "      <td>0.932300</td>\n",
       "    </tr>\n",
       "    <tr>\n",
       "      <th>Stdntdsgntrain1, Arch/Eng/Plng</th>\n",
       "      <td>1110</td>\n",
       "      <td>0.951973</td>\n",
       "    </tr>\n",
       "    <tr>\n",
       "      <th>Police Officer</th>\n",
       "      <td>1002</td>\n",
       "      <td>0.264101</td>\n",
       "    </tr>\n",
       "    <tr>\n",
       "      <th>Publ Svc Aide-Asst To Prof</th>\n",
       "      <td>1001</td>\n",
       "      <td>0.952426</td>\n",
       "    </tr>\n",
       "  </tbody>\n",
       "</table>\n",
       "</div>"
      ],
      "text/plain": [
       "                                Job Count     Job %\n",
       "Special Nurse                        5042  0.657967\n",
       "Public Svc Aide-Public Works         4166  0.998801\n",
       "Public Service Trainee               4038  0.956645\n",
       "Recreation Leader                    3669  0.996469\n",
       "Transit Operator                     3148  0.240507\n",
       "Library Page                         1291  0.909155\n",
       "Junior Clerk                         1143  0.932300\n",
       "Stdntdsgntrain1, Arch/Eng/Plng       1110  0.951973\n",
       "Police Officer                       1002  0.264101\n",
       "Publ Svc Aide-Asst To Prof           1001  0.952426"
      ]
     },
     "execution_count": 19,
     "metadata": {},
     "output_type": "execute_result"
    }
   ],
   "source": [
    "# What and how many jobs we are losing by reducing the data to salaries < 35,000$\n",
    "job_x = df[df.Salaries<35000].Job.value_counts()\n",
    "job_y = df.Job.value_counts()\n",
    "job_z = pd.concat([job_x, (job_x/job_y)], axis=1, join='inner', sort=False)\n",
    "job_z.columns = ['Job Count', 'Job %']\n",
    "job_z.head(10)"
   ]
  },
  {
   "cell_type": "markdown",
   "metadata": {},
   "source": [
    "## ** Continuing with Exploratory Visualization**\n",
    "### ** Distribution of salaries by organizations **"
   ]
  },
  {
   "cell_type": "code",
   "execution_count": 20,
   "metadata": {},
   "outputs": [
    {
     "name": "stderr",
     "output_type": "stream",
     "text": [
      "/opt/conda/lib/python3.6/site-packages/scipy/stats/stats.py:1713: FutureWarning: Using a non-tuple sequence for multidimensional indexing is deprecated; use `arr[tuple(seq)]` instead of `arr[seq]`. In the future this will be interpreted as an array index, `arr[np.array(seq)]`, which will result either in an error or a different result.\n",
      "  return np.add.reduce(sorted[indexer] * weights, axis=axis) / sumval\n"
     ]
    },
    {
     "data": {
      "image/png": "[encoded data removed]",
      "text/plain": [
       "<Figure size 1080x576 with 1 Axes>"
      ]
     },
     "metadata": {},
     "output_type": "display_data"
    }
   ],
   "source": [
    "plt.figure(figsize=(15,8))\n",
    "for col in list(df2['Organization Group'].unique()):\n",
    "    ax = sns.kdeplot(df2['Salaries'][df2['Organization Group'] == col], label = col)\n",
    "#ax.set_ylim(0,0.0001)"
   ]
  },
  {
   "cell_type": "markdown",
   "metadata": {},
   "source": [
    "### ** Distribution of salaries by years **"
   ]
  },
  {
   "cell_type": "code",
   "execution_count": 21,
   "metadata": {},
   "outputs": [
    {
     "name": "stderr",
     "output_type": "stream",
     "text": [
      "/opt/conda/lib/python3.6/site-packages/scipy/stats/stats.py:1713: FutureWarning: Using a non-tuple sequence for multidimensional indexing is deprecated; use `arr[tuple(seq)]` instead of `arr[seq]`. In the future this will be interpreted as an array index, `arr[np.array(seq)]`, which will result either in an error or a different result.\n",
      "  return np.add.reduce(sorted[indexer] * weights, axis=axis) / sumval\n"
     ]
    },
    {
     "data": {
      "image/png": "[encoded data removed]",
      "text/plain": [
       "<Figure size 1080x576 with 1 Axes>"
      ]
     },
     "metadata": {},
     "output_type": "display_data"
    }
   ],
   "source": [
    "plt.figure(figsize=(15,8))\n",
    "for col in list(df2['Year'].unique()):\n",
    "    sns.kdeplot(df2['Salaries'][df2['Year'] == col], label = col)"
   ]
  },
  {
   "cell_type": "markdown",
   "metadata": {},
   "source": [
    "### ** Distribution of overtime by organizations **"
   ]
  },
  {
   "cell_type": "code",
   "execution_count": 22,
   "metadata": {},
   "outputs": [
    {
     "name": "stderr",
     "output_type": "stream",
     "text": [
      "/opt/conda/lib/python3.6/site-packages/scipy/stats/stats.py:1713: FutureWarning: Using a non-tuple sequence for multidimensional indexing is deprecated; use `arr[tuple(seq)]` instead of `arr[seq]`. In the future this will be interpreted as an array index, `arr[np.array(seq)]`, which will result either in an error or a different result.\n",
      "  return np.add.reduce(sorted[indexer] * weights, axis=axis) / sumval\n"
     ]
    },
    {
     "data": {
      "image/png": "[encoded data removed]",
      "text/plain": [
       "<Figure size 1080x576 with 1 Axes>"
      ]
     },
     "metadata": {},
     "output_type": "display_data"
    }
   ],
   "source": [
    "plt.figure(figsize=(15,8))\n",
    "for col in list(df2['Organization Group'].unique()):\n",
    "    sns.kdeplot(df2['Overtime'][df2['Organization Group'] == col], label = col).set_xlim(-25000,25000)"
   ]
  },
  {
   "cell_type": "markdown",
   "metadata": {},
   "source": [
    "### ** Most compensating jobs **"
   ]
  },
  {
   "cell_type": "code",
   "execution_count": 23,
   "metadata": {},
   "outputs": [
    {
     "data": {
      "text/plain": [
       "<matplotlib.axes._subplots.AxesSubplot at 0x7f1ecf372128>"
      ]
     },
     "execution_count": 23,
     "metadata": {},
     "output_type": "execute_result"
    },
    {
     "data": {
      "image/png": "[encoded data removed]",
      "text/plain": [
       "<Figure size 432x288 with 1 Axes>"
      ]
     },
     "metadata": {},
     "output_type": "display_data"
    }
   ],
   "source": [
    "df_groupby_Job = df.groupby('Job').mean()\n",
    "df_groupby_Job['Total Compensation'].sort_values(ascending = False).head(5).plot('bar')"
   ]
  },
  {
   "cell_type": "code",
   "execution_count": 24,
   "metadata": {},
   "outputs": [
    {
     "data": {
      "text/plain": [
       "<matplotlib.axes._subplots.AxesSubplot at 0x7f1ecf33d668>"
      ]
     },
     "execution_count": 24,
     "metadata": {},
     "output_type": "execute_result"
    },
    {
     "data": {
      "image/png": "[encoded data removed]",
      "text/plain": [
       "<Figure size 432x288 with 1 Axes>"
      ]
     },
     "metadata": {},
     "output_type": "display_data"
    }
   ],
   "source": [
    "df_groupby_Job['Total Compensation No Extras'] = df_groupby_Job['Total Compensation'] - df_groupby_Job['Overtime'] - df_groupby_Job['Other Salaries']\n",
    "df_groupby_Job['Total Compensation No Extras'].sort_values(ascending = False).head(5).plot('bar')"
   ]
  },
  {
   "cell_type": "markdown",
   "metadata": {},
   "source": [
    "# ** Preprocessing **\n",
    "### ** Replacing sequential features to categorial features **"
   ]
  },
  {
   "cell_type": "code",
   "execution_count": 25,
   "metadata": {},
   "outputs": [
    {
     "name": "stderr",
     "output_type": "stream",
     "text": [
      "/opt/conda/lib/python3.6/site-packages/ipykernel_launcher.py:1: SettingWithCopyWarning: \n",
      "A value is trying to be set on a copy of a slice from a DataFrame.\n",
      "Try using .loc[row_indexer,col_indexer] = value instead\n",
      "\n",
      "See the caveats in the documentation: http://pandas.pydata.org/pandas-docs/stable/indexing.html#indexing-view-versus-copy\n",
      "  \"\"\"Entry point for launching an IPython kernel.\n",
      "/opt/conda/lib/python3.6/site-packages/ipykernel_launcher.py:5: SettingWithCopyWarning: \n",
      "A value is trying to be set on a copy of a slice from a DataFrame.\n",
      "Try using .loc[row_indexer,col_indexer] = value instead\n",
      "\n",
      "See the caveats in the documentation: http://pandas.pydata.org/pandas-docs/stable/indexing.html#indexing-view-versus-copy\n",
      "  \"\"\"\n"
     ]
    }
   ],
   "source": [
    "df2['Overtime Amount'] = pd.Series(df2.Overtime / df2.Salaries)\n",
    "#df2['Overtime Amount'].sort_values(ascending = False)#.hist()\n",
    "\n",
    "df2['Overtime Amount'] = pd.cut(df2['Overtime Amount'], 5, labels = ['few overtime', 'less than average overtime', 'average overtime',\n",
    "                                                                     'more than average overtime', 'many overtime'])\n",
    "#df2['Overtime Amount']"
   ]
  },
  {
   "cell_type": "code",
   "execution_count": 26,
   "metadata": {},
   "outputs": [
    {
     "name": "stderr",
     "output_type": "stream",
     "text": [
      "/opt/conda/lib/python3.6/site-packages/ipykernel_launcher.py:1: SettingWithCopyWarning: \n",
      "A value is trying to be set on a copy of a slice from a DataFrame.\n",
      "Try using .loc[row_indexer,col_indexer] = value instead\n",
      "\n",
      "See the caveats in the documentation: http://pandas.pydata.org/pandas-docs/stable/indexing.html#indexing-view-versus-copy\n",
      "  \"\"\"Entry point for launching an IPython kernel.\n",
      "/opt/conda/lib/python3.6/site-packages/ipykernel_launcher.py:5: SettingWithCopyWarning: \n",
      "A value is trying to be set on a copy of a slice from a DataFrame.\n",
      "Try using .loc[row_indexer,col_indexer] = value instead\n",
      "\n",
      "See the caveats in the documentation: http://pandas.pydata.org/pandas-docs/stable/indexing.html#indexing-view-versus-copy\n",
      "  \"\"\"\n"
     ]
    }
   ],
   "source": [
    "df2['Retirement Amount'] = pd.Series(df2.Retirement / df2.Salaries)\n",
    "#df2['Retirement Amount'].sort_values(ascending = False)#.hist()\n",
    "\n",
    "df2['Retirement Amount'] = pd.cut(df2['Retirement Amount'], 5, labels = ['few retirement', 'less than average retirement', 'average retirement',\n",
    "                                                                     'more than average retirement', 'many retirement'])\n",
    "#df2['Retirement Amount']"
   ]
  },
  {
   "cell_type": "code",
   "execution_count": 27,
   "metadata": {},
   "outputs": [
    {
     "name": "stderr",
     "output_type": "stream",
     "text": [
      "/opt/conda/lib/python3.6/site-packages/ipykernel_launcher.py:1: SettingWithCopyWarning: \n",
      "A value is trying to be set on a copy of a slice from a DataFrame.\n",
      "Try using .loc[row_indexer,col_indexer] = value instead\n",
      "\n",
      "See the caveats in the documentation: http://pandas.pydata.org/pandas-docs/stable/indexing.html#indexing-view-versus-copy\n",
      "  \"\"\"Entry point for launching an IPython kernel.\n",
      "/opt/conda/lib/python3.6/site-packages/ipykernel_launcher.py:6: SettingWithCopyWarning: \n",
      "A value is trying to be set on a copy of a slice from a DataFrame.\n",
      "Try using .loc[row_indexer,col_indexer] = value instead\n",
      "\n",
      "See the caveats in the documentation: http://pandas.pydata.org/pandas-docs/stable/indexing.html#indexing-view-versus-copy\n",
      "  \n"
     ]
    }
   ],
   "source": [
    "df2['Health/Dental Amount'] = pd.Series(df2['Health/Dental'] / df2.Salaries)\n",
    "#df2['Health/Dental Amount'].sort_values(ascending = False)#.hist()\n",
    "\n",
    "df2['Health/Dental Amount'] = pd.cut(df2['Health/Dental Amount'], 5, labels = ['few Health/Dental', 'less than average Health/Dental', \n",
    "                                                                               'average Health/Dental', 'more than average Health/Dental', \n",
    "                                                                               'many Health/Dental'])\n",
    "#df2['Health/Dental Amount']"
   ]
  },
  {
   "cell_type": "code",
   "execution_count": 28,
   "metadata": {},
   "outputs": [
    {
     "name": "stderr",
     "output_type": "stream",
     "text": [
      "/opt/conda/lib/python3.6/site-packages/ipykernel_launcher.py:1: SettingWithCopyWarning: \n",
      "A value is trying to be set on a copy of a slice from a DataFrame.\n",
      "Try using .loc[row_indexer,col_indexer] = value instead\n",
      "\n",
      "See the caveats in the documentation: http://pandas.pydata.org/pandas-docs/stable/indexing.html#indexing-view-versus-copy\n",
      "  \"\"\"Entry point for launching an IPython kernel.\n",
      "/opt/conda/lib/python3.6/site-packages/ipykernel_launcher.py:6: SettingWithCopyWarning: \n",
      "A value is trying to be set on a copy of a slice from a DataFrame.\n",
      "Try using .loc[row_indexer,col_indexer] = value instead\n",
      "\n",
      "See the caveats in the documentation: http://pandas.pydata.org/pandas-docs/stable/indexing.html#indexing-view-versus-copy\n",
      "  \n"
     ]
    }
   ],
   "source": [
    "df2['Other Benefits Amount'] = pd.Series(df2['Other Benefits'] / df2.Salaries)\n",
    "#df2['Other Benefits Amount'].sort_values(ascending = False)#.hist()\n",
    "\n",
    "df2['Other Benefits Amount'] = pd.cut(df2['Other Benefits Amount'], 5, labels = ['few Other Benefits', 'less than average Other Benefits', \n",
    "                                                                                 'average Other Benefits', 'more than average Other Benefits', \n",
    "                                                                                 'many Other Benefits'])\n",
    "#df2['Other Benefits Amount']"
   ]
  },
  {
   "cell_type": "code",
   "execution_count": 29,
   "metadata": {},
   "outputs": [
    {
     "data": {
      "text/html": [
       "<div>\n",
       "<style scoped>\n",
       "    .dataframe tbody tr th:only-of-type {\n",
       "        vertical-align: middle;\n",
       "    }\n",
       "\n",
       "    .dataframe tbody tr th {\n",
       "        vertical-align: top;\n",
       "    }\n",
       "\n",
       "    .dataframe thead th {\n",
       "        text-align: right;\n",
       "    }\n",
       "</style>\n",
       "<table border=\"1\" class=\"dataframe\">\n",
       "  <thead>\n",
       "    <tr style=\"text-align: right;\">\n",
       "      <th></th>\n",
       "      <th>Year Type</th>\n",
       "      <th>Year</th>\n",
       "      <th>Organization Group Code</th>\n",
       "      <th>Organization Group</th>\n",
       "      <th>Department Code</th>\n",
       "      <th>Department</th>\n",
       "      <th>Union Code</th>\n",
       "      <th>Union</th>\n",
       "      <th>Job Family Code</th>\n",
       "      <th>Job Family</th>\n",
       "      <th>Job Code</th>\n",
       "      <th>Job</th>\n",
       "      <th>Employee Identifier</th>\n",
       "      <th>Salaries</th>\n",
       "      <th>Overtime</th>\n",
       "      <th>Other Salaries</th>\n",
       "      <th>Total Salary</th>\n",
       "      <th>Retirement</th>\n",
       "      <th>Health/Dental</th>\n",
       "      <th>Other Benefits</th>\n",
       "      <th>Total Benefits</th>\n",
       "      <th>Total Compensation</th>\n",
       "      <th>Overtime Amount</th>\n",
       "      <th>Retirement Amount</th>\n",
       "      <th>Health/Dental Amount</th>\n",
       "      <th>Other Benefits Amount</th>\n",
       "    </tr>\n",
       "  </thead>\n",
       "  <tbody>\n",
       "    <tr>\n",
       "      <th>0</th>\n",
       "      <td>Fiscal</td>\n",
       "      <td>2013</td>\n",
       "      <td>1</td>\n",
       "      <td>Public Protection</td>\n",
       "      <td>FIR</td>\n",
       "      <td>FIR Fire Department</td>\n",
       "      <td>798.0</td>\n",
       "      <td>Firefighters - Miscellaneous, Local 798</td>\n",
       "      <td>H000</td>\n",
       "      <td>Fire Services</td>\n",
       "      <td>H003</td>\n",
       "      <td>EMT/Paramedic/Firefighter</td>\n",
       "      <td>37216</td>\n",
       "      <td>123841.28</td>\n",
       "      <td>76853.77</td>\n",
       "      <td>14922.05</td>\n",
       "      <td>215617.10</td>\n",
       "      <td>24574.98</td>\n",
       "      <td>14920.13</td>\n",
       "      <td>3589.87</td>\n",
       "      <td>43084.98</td>\n",
       "      <td>258702.08</td>\n",
       "      <td>less than average overtime</td>\n",
       "      <td>average retirement</td>\n",
       "      <td>less than average Health/Dental</td>\n",
       "      <td>few Other Benefits</td>\n",
       "    </tr>\n",
       "    <tr>\n",
       "      <th>1</th>\n",
       "      <td>Fiscal</td>\n",
       "      <td>2014</td>\n",
       "      <td>2</td>\n",
       "      <td>Public Works, Transportation &amp; Commerce</td>\n",
       "      <td>MTA</td>\n",
       "      <td>MTA Municipal Transprtn Agncy</td>\n",
       "      <td>261.0</td>\n",
       "      <td>Laborers, Local 261</td>\n",
       "      <td>7500</td>\n",
       "      <td>Semi-Skilled &amp; General Labor</td>\n",
       "      <td>7514</td>\n",
       "      <td>General Laborer</td>\n",
       "      <td>24950</td>\n",
       "      <td>61137.60</td>\n",
       "      <td>7341.04</td>\n",
       "      <td>9218.74</td>\n",
       "      <td>77697.38</td>\n",
       "      <td>14897.71</td>\n",
       "      <td>12516.70</td>\n",
       "      <td>6117.99</td>\n",
       "      <td>33532.40</td>\n",
       "      <td>111229.78</td>\n",
       "      <td>few overtime</td>\n",
       "      <td>more than average retirement</td>\n",
       "      <td>average Health/Dental</td>\n",
       "      <td>less than average Other Benefits</td>\n",
       "    </tr>\n",
       "    <tr>\n",
       "      <th>2</th>\n",
       "      <td>Fiscal</td>\n",
       "      <td>2016</td>\n",
       "      <td>2</td>\n",
       "      <td>Public Works, Transportation &amp; Commerce</td>\n",
       "      <td>AIR</td>\n",
       "      <td>AIR Airport Commission</td>\n",
       "      <td>790.0</td>\n",
       "      <td>SEIU - Miscellaneous, Local 1021</td>\n",
       "      <td>1400</td>\n",
       "      <td>Clerical, Secretarial &amp; Steno</td>\n",
       "      <td>1406</td>\n",
       "      <td>Senior Clerk</td>\n",
       "      <td>27447</td>\n",
       "      <td>41192.82</td>\n",
       "      <td>0.00</td>\n",
       "      <td>390.00</td>\n",
       "      <td>41582.82</td>\n",
       "      <td>6996.41</td>\n",
       "      <td>11308.96</td>\n",
       "      <td>3200.69</td>\n",
       "      <td>21506.06</td>\n",
       "      <td>63088.88</td>\n",
       "      <td>few overtime</td>\n",
       "      <td>average retirement</td>\n",
       "      <td>more than average Health/Dental</td>\n",
       "      <td>less than average Other Benefits</td>\n",
       "    </tr>\n",
       "    <tr>\n",
       "      <th>3</th>\n",
       "      <td>Fiscal</td>\n",
       "      <td>2015</td>\n",
       "      <td>2</td>\n",
       "      <td>Public Works, Transportation &amp; Commerce</td>\n",
       "      <td>MTA</td>\n",
       "      <td>MTA Municipal Transprtn Agncy</td>\n",
       "      <td>253.0</td>\n",
       "      <td>Transport Workers - Transit Operators, Local 2...</td>\n",
       "      <td>9100</td>\n",
       "      <td>Street Transit</td>\n",
       "      <td>9163</td>\n",
       "      <td>Transit Operator</td>\n",
       "      <td>42001</td>\n",
       "      <td>66993.68</td>\n",
       "      <td>26633.83</td>\n",
       "      <td>4494.98</td>\n",
       "      <td>98122.49</td>\n",
       "      <td>21231.91</td>\n",
       "      <td>13417.45</td>\n",
       "      <td>7449.63</td>\n",
       "      <td>42098.99</td>\n",
       "      <td>140221.48</td>\n",
       "      <td>less than average overtime</td>\n",
       "      <td>more than average retirement</td>\n",
       "      <td>average Health/Dental</td>\n",
       "      <td>less than average Other Benefits</td>\n",
       "    </tr>\n",
       "    <tr>\n",
       "      <th>4</th>\n",
       "      <td>Fiscal</td>\n",
       "      <td>2013</td>\n",
       "      <td>2</td>\n",
       "      <td>Public Works, Transportation &amp; Commerce</td>\n",
       "      <td>DPW</td>\n",
       "      <td>DPW GSA - Public Works</td>\n",
       "      <td>21.0</td>\n",
       "      <td>Prof &amp; Tech Engineers - Miscellaneous, Local 21</td>\n",
       "      <td>5200</td>\n",
       "      <td>Professional Engineering</td>\n",
       "      <td>5201</td>\n",
       "      <td>Junior Engineer</td>\n",
       "      <td>22142</td>\n",
       "      <td>74260.80</td>\n",
       "      <td>0.00</td>\n",
       "      <td>0.00</td>\n",
       "      <td>74260.80</td>\n",
       "      <td>13522.95</td>\n",
       "      <td>11989.39</td>\n",
       "      <td>5977.19</td>\n",
       "      <td>31489.53</td>\n",
       "      <td>105750.33</td>\n",
       "      <td>few overtime</td>\n",
       "      <td>average retirement</td>\n",
       "      <td>average Health/Dental</td>\n",
       "      <td>less than average Other Benefits</td>\n",
       "    </tr>\n",
       "  </tbody>\n",
       "</table>\n",
       "</div>"
      ],
      "text/plain": [
       "  Year Type                ...                            Other Benefits Amount\n",
       "0    Fiscal                ...                               few Other Benefits\n",
       "1    Fiscal                ...                 less than average Other Benefits\n",
       "2    Fiscal                ...                 less than average Other Benefits\n",
       "3    Fiscal                ...                 less than average Other Benefits\n",
       "4    Fiscal                ...                 less than average Other Benefits\n",
       "\n",
       "[5 rows x 26 columns]"
      ]
     },
     "execution_count": 29,
     "metadata": {},
     "output_type": "execute_result"
    }
   ],
   "source": [
    "df2.head()"
   ]
  },
  {
   "cell_type": "markdown",
   "metadata": {},
   "source": [
    "## **Split features and targets from the data**"
   ]
  },
  {
   "cell_type": "code",
   "execution_count": 30,
   "metadata": {},
   "outputs": [
    {
     "name": "stdout",
     "output_type": "stream",
     "text": [
      "(147970, 10) (147970,)\n"
     ]
    }
   ],
   "source": [
    "X = df2.drop(['Year Type', 'Organization Group', 'Department', 'Union', 'Job Family', 'Job', 'Employee Identifier', 'Salaries', 'Overtime', \n",
    "              'Other Salaries', 'Total Salary', 'Retirement', 'Health/Dental', 'Other Benefits', 'Total Benefits', 'Total Compensation'\n",
    "             ], axis = 1)\n",
    "y = df2.Salaries\n",
    "print(X.shape,\n",
    "      y.shape)"
   ]
  },
  {
   "cell_type": "code",
   "execution_count": 31,
   "metadata": {},
   "outputs": [
    {
     "data": {
      "text/html": [
       "<div>\n",
       "<style scoped>\n",
       "    .dataframe tbody tr th:only-of-type {\n",
       "        vertical-align: middle;\n",
       "    }\n",
       "\n",
       "    .dataframe tbody tr th {\n",
       "        vertical-align: top;\n",
       "    }\n",
       "\n",
       "    .dataframe thead th {\n",
       "        text-align: right;\n",
       "    }\n",
       "</style>\n",
       "<table border=\"1\" class=\"dataframe\">\n",
       "  <thead>\n",
       "    <tr style=\"text-align: right;\">\n",
       "      <th></th>\n",
       "      <th>Year</th>\n",
       "      <th>Organization Group Code</th>\n",
       "      <th>Department Code</th>\n",
       "      <th>Union Code</th>\n",
       "      <th>Job Family Code</th>\n",
       "      <th>Job Code</th>\n",
       "      <th>Overtime Amount</th>\n",
       "      <th>Retirement Amount</th>\n",
       "      <th>Health/Dental Amount</th>\n",
       "      <th>Other Benefits Amount</th>\n",
       "    </tr>\n",
       "  </thead>\n",
       "  <tbody>\n",
       "    <tr>\n",
       "      <th>0</th>\n",
       "      <td>2013</td>\n",
       "      <td>1</td>\n",
       "      <td>FIR</td>\n",
       "      <td>798.0</td>\n",
       "      <td>H000</td>\n",
       "      <td>H003</td>\n",
       "      <td>less than average overtime</td>\n",
       "      <td>average retirement</td>\n",
       "      <td>less than average Health/Dental</td>\n",
       "      <td>few Other Benefits</td>\n",
       "    </tr>\n",
       "    <tr>\n",
       "      <th>1</th>\n",
       "      <td>2014</td>\n",
       "      <td>2</td>\n",
       "      <td>MTA</td>\n",
       "      <td>261.0</td>\n",
       "      <td>7500</td>\n",
       "      <td>7514</td>\n",
       "      <td>few overtime</td>\n",
       "      <td>more than average retirement</td>\n",
       "      <td>average Health/Dental</td>\n",
       "      <td>less than average Other Benefits</td>\n",
       "    </tr>\n",
       "    <tr>\n",
       "      <th>2</th>\n",
       "      <td>2016</td>\n",
       "      <td>2</td>\n",
       "      <td>AIR</td>\n",
       "      <td>790.0</td>\n",
       "      <td>1400</td>\n",
       "      <td>1406</td>\n",
       "      <td>few overtime</td>\n",
       "      <td>average retirement</td>\n",
       "      <td>more than average Health/Dental</td>\n",
       "      <td>less than average Other Benefits</td>\n",
       "    </tr>\n",
       "    <tr>\n",
       "      <th>3</th>\n",
       "      <td>2015</td>\n",
       "      <td>2</td>\n",
       "      <td>MTA</td>\n",
       "      <td>253.0</td>\n",
       "      <td>9100</td>\n",
       "      <td>9163</td>\n",
       "      <td>less than average overtime</td>\n",
       "      <td>more than average retirement</td>\n",
       "      <td>average Health/Dental</td>\n",
       "      <td>less than average Other Benefits</td>\n",
       "    </tr>\n",
       "    <tr>\n",
       "      <th>4</th>\n",
       "      <td>2013</td>\n",
       "      <td>2</td>\n",
       "      <td>DPW</td>\n",
       "      <td>21.0</td>\n",
       "      <td>5200</td>\n",
       "      <td>5201</td>\n",
       "      <td>few overtime</td>\n",
       "      <td>average retirement</td>\n",
       "      <td>average Health/Dental</td>\n",
       "      <td>less than average Other Benefits</td>\n",
       "    </tr>\n",
       "  </tbody>\n",
       "</table>\n",
       "</div>"
      ],
      "text/plain": [
       "   Year                ...                            Other Benefits Amount\n",
       "0  2013                ...                               few Other Benefits\n",
       "1  2014                ...                 less than average Other Benefits\n",
       "2  2016                ...                 less than average Other Benefits\n",
       "3  2015                ...                 less than average Other Benefits\n",
       "4  2013                ...                 less than average Other Benefits\n",
       "\n",
       "[5 rows x 10 columns]"
      ]
     },
     "execution_count": 31,
     "metadata": {},
     "output_type": "execute_result"
    }
   ],
   "source": [
    "X.head()"
   ]
  },
  {
   "cell_type": "markdown",
   "metadata": {},
   "source": [
    "# **Training/Predicting Pipeline**"
   ]
  },
  {
   "cell_type": "code",
   "execution_count": 32,
   "metadata": {},
   "outputs": [],
   "source": [
    "#Set a pipeline for filling the nulls\n",
    "def get_Job_Family_Code(df):\n",
    "    return df[['Job Family Code']]\n",
    "\n",
    "FullTransformerJobFamilyCode  = Pipeline([(\"Select_Columns\",  FunctionTransformer(func=get_Job_Family_Code, validate=False)),\n",
    "                                          (\"Fill_Null\", SimpleImputer(missing_values=np.nan, strategy='constant', fill_value='No Value')),\n",
    "                                          (\"One_Hot_Encoder\", OneHotEncoder(sparse = False, handle_unknown='ignore'))\n",
    "                                         ])\n",
    "#pd.DataFrame(FullTransformerJobFamilyCode.fit_transform(X[:6950], y[:6950]))"
   ]
  },
  {
   "cell_type": "code",
   "execution_count": 33,
   "metadata": {},
   "outputs": [],
   "source": [
    "#Set a pipeline for filling the nulls\n",
    "def get_features_Union_Code(df):\n",
    "    return df[['Union Code']]\n",
    "\n",
    "FullTransformerUnionCode  = Pipeline([(\"Select_Columns\",  FunctionTransformer(func=get_features_Union_Code, validate=False)),\n",
    "                                      (\"Fill_Null\", SimpleImputer(missing_values=np.nan, strategy='constant', fill_value=0)),\n",
    "                                      (\"One_Hot_Encoder\", OneHotEncoder(sparse = False, handle_unknown='ignore'))\n",
    "                                     ])\n",
    "#pd.DataFrame(FullTransformerUnionCode.fit_transform(X[:6950], y[:6950]))"
   ]
  },
  {
   "cell_type": "code",
   "execution_count": 34,
   "metadata": {},
   "outputs": [],
   "source": [
    "#Set a pipeline for one hot encoding\n",
    "def get_features_onehot(df):\n",
    "    return df.drop(['Union Code', 'Job Family Code'], axis=1)\n",
    "\n",
    "FullTransformerOneHotEncoding  = Pipeline([(\"Select_Columns\",  FunctionTransformer(func=get_features_onehot, validate=False)),\n",
    "                                           (\"One_Hot_Encoder\", OneHotEncoder(sparse = False, handle_unknown='ignore'))])\n",
    "\n",
    "#pd.DataFrame(FullTransformerOneHotEncoding.fit_transform(X[:7000], y[:7000]))"
   ]
  },
  {
   "cell_type": "code",
   "execution_count": 35,
   "metadata": {},
   "outputs": [],
   "source": [
    "FeatureUnionTransformer = FeatureUnion([(\"FTJobFamilyCode\",  FullTransformerJobFamilyCode),\n",
    "                                        (\"FTUnionCode\",      FullTransformerUnionCode),\n",
    "                                        (\"FTOneHotEncoding\", FullTransformerOneHotEncoding)\n",
    "                                       ])\n",
    "\n",
    "#pd.DataFrame(FeatureUnionTransformer.fit_transform(X[:7000], y[:7000]))"
   ]
  },
  {
   "cell_type": "markdown",
   "metadata": {},
   "source": [
    "# **Prediction and submission**"
   ]
  },
  {
   "cell_type": "code",
   "execution_count": 36,
   "metadata": {},
   "outputs": [
    {
     "name": "stdout",
     "output_type": "stream",
     "text": [
      "(110977, 10) (110977,)\n",
      "(36993, 10) (36993,)\n"
     ]
    }
   ],
   "source": [
    "X_train, X_test, y_train, y_test = split(X, y)\n",
    "print(X_train.shape, y_train.shape)\n",
    "print(X_test.shape, y_test.shape)"
   ]
  },
  {
   "cell_type": "markdown",
   "metadata": {},
   "source": [
    "## **Linear Regression**\n",
    "### Fitting the Model"
   ]
  },
  {
   "cell_type": "code",
   "execution_count": 37,
   "metadata": {},
   "outputs": [],
   "source": [
    "lr = LinearRegression()"
   ]
  },
  {
   "cell_type": "code",
   "execution_count": 38,
   "metadata": {},
   "outputs": [],
   "source": [
    "FeatureUnionTransformer.fit_transform(X_train)\n",
    "X_train_transformed = FeatureUnionTransformer.transform(X_train)\n",
    "X_test_transformed = FeatureUnionTransformer.transform(X_test)"
   ]
  },
  {
   "cell_type": "code",
   "execution_count": 39,
   "metadata": {},
   "outputs": [],
   "source": [
    "scores = cross_val_score(lr, X_train_transformed, y_train, \n",
    "                         scoring='neg_mean_squared_error', cv=10)"
   ]
  },
  {
   "cell_type": "code",
   "execution_count": 40,
   "metadata": {},
   "outputs": [],
   "source": [
    "def show_results(scores):\n",
    "    scores_ = (-scores)**0.5\n",
    "    print(scores_)\n",
    "    print(\"Mean:\", scores_.mean())\n",
    "    print(\"Std:\", scores_.std()) "
   ]
  },
  {
   "cell_type": "code",
   "execution_count": 41,
   "metadata": {},
   "outputs": [
    {
     "name": "stdout",
     "output_type": "stream",
     "text": [
      "[8.99081393e+13 3.65642966e+14 5.70943334e+14 6.28036016e+14\n",
      " 1.58828773e+14 5.74748659e+14 2.13652236e+14 3.66013044e+14\n",
      " 4.81524441e+14 2.18386981e+14]\n",
      "Mean: 366768458852526.75\n",
      "Std: 182133698979068.44\n"
     ]
    }
   ],
   "source": [
    "show_results(scores)"
   ]
  },
  {
   "cell_type": "markdown",
   "metadata": {},
   "source": [
    "### Plotting target of train set and prediction"
   ]
  },
  {
   "cell_type": "code",
   "execution_count": 42,
   "metadata": {},
   "outputs": [],
   "source": [
    "y_train_pred = lr.fit(X_train_transformed, y_train).predict(X_train_transformed)"
   ]
  },
  {
   "cell_type": "code",
   "execution_count": 43,
   "metadata": {},
   "outputs": [
    {
     "name": "stderr",
     "output_type": "stream",
     "text": [
      "/opt/conda/lib/python3.6/site-packages/matplotlib/figure.py:98: MatplotlibDeprecationWarning: \n",
      "Adding an axes using the same arguments as a previous axes currently reuses the earlier instance.  In a future version, a new instance will always be created and returned.  Meanwhile, this warning can be suppressed, and the future behavior ensured, by passing a unique label to each axes instance.\n",
      "  \"Adding an axes using the same arguments as a previous axes \"\n"
     ]
    },
    {
     "data": {
      "text/plain": [
       "<matplotlib.legend.Legend at 0x7f1ecf348f60>"
      ]
     },
     "execution_count": 43,
     "metadata": {},
     "output_type": "execute_result"
    },
    {
     "data": {
      "image/png": "[encoded data removed]",
      "text/plain": [
       "<Figure size 432x288 with 1 Axes>"
      ]
     },
     "metadata": {},
     "output_type": "display_data"
    }
   ],
   "source": [
    "plt.plot(y_train, y_train_pred, '.', label='Data')\n",
    "plt.plot([0, 500000], [0, 500000], label='Ideal')\n",
    "plt.axes().set_aspect('equal')\n",
    "plt.legend()"
   ]
  },
  {
   "cell_type": "markdown",
   "metadata": {},
   "source": [
    "### Finding observation with worst result"
   ]
  },
  {
   "cell_type": "code",
   "execution_count": 44,
   "metadata": {},
   "outputs": [
    {
     "data": {
      "text/plain": [
       "1654"
      ]
     },
     "execution_count": 44,
     "metadata": {},
     "output_type": "execute_result"
    }
   ],
   "source": [
    "index = (((y_train.values) - y_train_pred)**2).argmax()\n",
    "index"
   ]
  },
  {
   "cell_type": "code",
   "execution_count": 45,
   "metadata": {},
   "outputs": [
    {
     "data": {
      "text/plain": [
       "105616.0"
      ]
     },
     "execution_count": 45,
     "metadata": {},
     "output_type": "execute_result"
    }
   ],
   "source": [
    "y_train_pred[index]"
   ]
  },
  {
   "cell_type": "code",
   "execution_count": 46,
   "metadata": {},
   "outputs": [
    {
     "data": {
      "text/plain": [
       "Year                                               2017\n",
       "Organization Group Code                               2\n",
       "Department Code                                     MTA\n",
       "Union Code                                          253\n",
       "Job Family Code                                    9100\n",
       "Job Code                                           9163\n",
       "Overtime Amount                            few overtime\n",
       "Retirement Amount          more than average retirement\n",
       "Health/Dental Amount                  few Health/Dental\n",
       "Other Benefits Amount                few Other Benefits\n",
       "Name: 43777, dtype: object"
      ]
     },
     "execution_count": 46,
     "metadata": {},
     "output_type": "execute_result"
    }
   ],
   "source": [
    "X_train.iloc[index]"
   ]
  },
  {
   "cell_type": "markdown",
   "metadata": {},
   "source": [
    "### Plotting target of test set and prediction"
   ]
  },
  {
   "cell_type": "code",
   "execution_count": 47,
   "metadata": {},
   "outputs": [],
   "source": [
    "y_pred = lr.fit(X_train_transformed, y_train).predict(X_test_transformed)"
   ]
  },
  {
   "cell_type": "code",
   "execution_count": 48,
   "metadata": {},
   "outputs": [
    {
     "name": "stderr",
     "output_type": "stream",
     "text": [
      "/opt/conda/lib/python3.6/site-packages/matplotlib/figure.py:98: MatplotlibDeprecationWarning: \n",
      "Adding an axes using the same arguments as a previous axes currently reuses the earlier instance.  In a future version, a new instance will always be created and returned.  Meanwhile, this warning can be suppressed, and the future behavior ensured, by passing a unique label to each axes instance.\n",
      "  \"Adding an axes using the same arguments as a previous axes \"\n"
     ]
    },
    {
     "data": {
      "text/plain": [
       "(0, 500000)"
      ]
     },
     "execution_count": 48,
     "metadata": {},
     "output_type": "execute_result"
    },
    {
     "data": {
      "image/png": "[encoded data removed]",
      "text/plain": [
       "<Figure size 432x288 with 1 Axes>"
      ]
     },
     "metadata": {},
     "output_type": "display_data"
    }
   ],
   "source": [
    "plt.plot(y_test, y_pred, '.', label='Data')\n",
    "plt.plot([0, 500000], [0, 500000], label='Ideal')\n",
    "plt.axes().set_aspect('equal')\n",
    "plt.legend()\n",
    "plt.xlim(0,500000)\n",
    "plt.ylim(0,500000)"
   ]
  },
  {
   "cell_type": "markdown",
   "metadata": {},
   "source": [
    "## **Decision Tree Regressor**\n",
    "### Fitting the Model"
   ]
  },
  {
   "cell_type": "code",
   "execution_count": 49,
   "metadata": {},
   "outputs": [],
   "source": [
    "dt = DecisionTreeRegressor(max_depth=5)"
   ]
  },
  {
   "cell_type": "code",
   "execution_count": 50,
   "metadata": {},
   "outputs": [],
   "source": [
    "scores = cross_val_score(dt, X_train_transformed, y_train, \n",
    "                         scoring='neg_mean_squared_error', cv=10)"
   ]
  },
  {
   "cell_type": "code",
   "execution_count": 51,
   "metadata": {},
   "outputs": [
    {
     "name": "stdout",
     "output_type": "stream",
     "text": [
      "[21664.9523194  21858.81903351 22620.03928473 22236.68494099\n",
      " 22493.2642965  22305.59825161 22034.75833712 21880.66895561\n",
      " 21842.98536561 22001.57076034]\n",
      "Mean: 22093.934154541017\n",
      "Std: 293.4664028514571\n"
     ]
    }
   ],
   "source": [
    "show_results(scores)"
   ]
  },
  {
   "cell_type": "markdown",
   "metadata": {},
   "source": [
    "### Plotting target of train set and prediction"
   ]
  },
  {
   "cell_type": "code",
   "execution_count": 52,
   "metadata": {},
   "outputs": [],
   "source": [
    "y_train_pred = dt.fit(X_train_transformed, y_train).predict(X_train_transformed)"
   ]
  },
  {
   "cell_type": "code",
   "execution_count": 53,
   "metadata": {},
   "outputs": [
    {
     "name": "stderr",
     "output_type": "stream",
     "text": [
      "/opt/conda/lib/python3.6/site-packages/matplotlib/figure.py:98: MatplotlibDeprecationWarning: \n",
      "Adding an axes using the same arguments as a previous axes currently reuses the earlier instance.  In a future version, a new instance will always be created and returned.  Meanwhile, this warning can be suppressed, and the future behavior ensured, by passing a unique label to each axes instance.\n",
      "  \"Adding an axes using the same arguments as a previous axes \"\n"
     ]
    },
    {
     "data": {
      "text/plain": [
       "<matplotlib.legend.Legend at 0x7f1ecdb57748>"
      ]
     },
     "execution_count": 53,
     "metadata": {},
     "output_type": "execute_result"
    },
    {
     "data": {
      "image/png": "[encoded data removed]",
      "text/plain": [
       "<Figure size 432x288 with 1 Axes>"
      ]
     },
     "metadata": {},
     "output_type": "display_data"
    }
   ],
   "source": [
    "plt.plot(y_train, y_train_pred, '.', label='Data')\n",
    "plt.plot([0, 500000], [0, 500000], label='Ideal')\n",
    "plt.axes().set_aspect('equal')\n",
    "plt.legend()"
   ]
  },
  {
   "cell_type": "markdown",
   "metadata": {},
   "source": [
    "### Plotting target of test set and prediction"
   ]
  },
  {
   "cell_type": "code",
   "execution_count": 54,
   "metadata": {},
   "outputs": [],
   "source": [
    "y_pred = dt.fit(X_train_transformed, y_train).predict(X_test_transformed)"
   ]
  },
  {
   "cell_type": "code",
   "execution_count": 55,
   "metadata": {},
   "outputs": [
    {
     "name": "stderr",
     "output_type": "stream",
     "text": [
      "/opt/conda/lib/python3.6/site-packages/matplotlib/figure.py:98: MatplotlibDeprecationWarning: \n",
      "Adding an axes using the same arguments as a previous axes currently reuses the earlier instance.  In a future version, a new instance will always be created and returned.  Meanwhile, this warning can be suppressed, and the future behavior ensured, by passing a unique label to each axes instance.\n",
      "  \"Adding an axes using the same arguments as a previous axes \"\n"
     ]
    },
    {
     "data": {
      "text/plain": [
       "<matplotlib.legend.Legend at 0x7f1ecdabe518>"
      ]
     },
     "execution_count": 55,
     "metadata": {},
     "output_type": "execute_result"
    },
    {
     "data": {
      "image/png": "[encoded data removed]",
      "text/plain": [
       "<Figure size 432x288 with 1 Axes>"
      ]
     },
     "metadata": {},
     "output_type": "display_data"
    }
   ],
   "source": [
    "plt.plot(y_test, y_pred, '.', label='Data')\n",
    "plt.plot([0, 500000], [0, 500000], label='Ideal')\n",
    "plt.axes().set_aspect('equal')\n",
    "plt.legend()"
   ]
  },
  {
   "cell_type": "markdown",
   "metadata": {},
   "source": [
    "## **Random Forest Regressor**\n",
    "### Fitting the Model"
   ]
  },
  {
   "cell_type": "code",
   "execution_count": 56,
   "metadata": {},
   "outputs": [],
   "source": [
    "rf = RandomForestRegressor(max_depth=20, n_estimators=10, n_jobs=-1)"
   ]
  },
  {
   "cell_type": "code",
   "execution_count": 57,
   "metadata": {},
   "outputs": [
    {
     "name": "stdout",
     "output_type": "stream",
     "text": [
      "Calculation time: 991.56 [sec]\n"
     ]
    }
   ],
   "source": [
    "t1 = time()\n",
    "\n",
    "scores = cross_val_score(rf, X_train_transformed, y_train, \n",
    "                         scoring='neg_mean_squared_error', cv=10)\n",
    "\n",
    "print (\"Calculation time: {:.2f} [sec]\".format(time()-t1))"
   ]
  },
  {
   "cell_type": "code",
   "execution_count": 58,
   "metadata": {},
   "outputs": [
    {
     "name": "stdout",
     "output_type": "stream",
     "text": [
      "[18945.06667746 18915.78053665 18957.47245554 19175.07720404\n",
      " 19232.1196001  19505.22405542 19450.84004066 19055.54001438\n",
      " 18868.68919211 19251.8654902 ]\n",
      "Mean: 19135.76752665715\n",
      "Std: 213.1652031193\n"
     ]
    }
   ],
   "source": [
    "show_results(scores)"
   ]
  },
  {
   "cell_type": "markdown",
   "metadata": {},
   "source": [
    "### Plotting target of train set and prediction"
   ]
  },
  {
   "cell_type": "code",
   "execution_count": 59,
   "metadata": {},
   "outputs": [],
   "source": [
    "y_train_pred = rf.fit(X_train_transformed, y_train).predict(X_train_transformed)"
   ]
  },
  {
   "cell_type": "code",
   "execution_count": 60,
   "metadata": {},
   "outputs": [
    {
     "name": "stderr",
     "output_type": "stream",
     "text": [
      "/opt/conda/lib/python3.6/site-packages/matplotlib/figure.py:98: MatplotlibDeprecationWarning: \n",
      "Adding an axes using the same arguments as a previous axes currently reuses the earlier instance.  In a future version, a new instance will always be created and returned.  Meanwhile, this warning can be suppressed, and the future behavior ensured, by passing a unique label to each axes instance.\n",
      "  \"Adding an axes using the same arguments as a previous axes \"\n"
     ]
    },
    {
     "data": {
      "text/plain": [
       "<matplotlib.legend.Legend at 0x7f1ecd9e4b38>"
      ]
     },
     "execution_count": 60,
     "metadata": {},
     "output_type": "execute_result"
    },
    {
     "data": {
      "image/png": "[encoded data removed]",
      "text/plain": [
       "<Figure size 432x288 with 1 Axes>"
      ]
     },
     "metadata": {},
     "output_type": "display_data"
    }
   ],
   "source": [
    "plt.plot(y_train, y_train_pred, '.', label='Data')\n",
    "plt.plot([0, 500000], [0, 500000], label='Ideal')\n",
    "plt.axes().set_aspect('equal')\n",
    "plt.legend()"
   ]
  },
  {
   "cell_type": "markdown",
   "metadata": {},
   "source": [
    "### Plotting target of test set and prediction"
   ]
  },
  {
   "cell_type": "code",
   "execution_count": 61,
   "metadata": {},
   "outputs": [],
   "source": [
    "y_pred = rf.fit(X_train_transformed, y_train).predict(X_test_transformed)"
   ]
  },
  {
   "cell_type": "code",
   "execution_count": 62,
   "metadata": {},
   "outputs": [
    {
     "name": "stderr",
     "output_type": "stream",
     "text": [
      "/opt/conda/lib/python3.6/site-packages/matplotlib/figure.py:98: MatplotlibDeprecationWarning: \n",
      "Adding an axes using the same arguments as a previous axes currently reuses the earlier instance.  In a future version, a new instance will always be created and returned.  Meanwhile, this warning can be suppressed, and the future behavior ensured, by passing a unique label to each axes instance.\n",
      "  \"Adding an axes using the same arguments as a previous axes \"\n"
     ]
    },
    {
     "data": {
      "text/plain": [
       "<matplotlib.legend.Legend at 0x7f1ecd9c83c8>"
      ]
     },
     "execution_count": 62,
     "metadata": {},
     "output_type": "execute_result"
    },
    {
     "data": {
      "image/png": "[encoded data removed]",
      "text/plain": [
       "<Figure size 432x288 with 1 Axes>"
      ]
     },
     "metadata": {},
     "output_type": "display_data"
    }
   ],
   "source": [
    "plt.plot(y_test, y_pred, '.', label='Data')\n",
    "plt.plot([0, 500000], [0, 500000], label='Ideal')\n",
    "plt.axes().set_aspect('equal')\n",
    "plt.legend()"
   ]
  },
  {
   "cell_type": "markdown",
   "metadata": {},
   "source": [
    "# Phase II\n",
    "# **Prediction and submission with original data**"
   ]
  },
  {
   "cell_type": "markdown",
   "metadata": {},
   "source": [
    "## Some preprocessing"
   ]
  },
  {
   "cell_type": "code",
   "execution_count": 63,
   "metadata": {},
   "outputs": [],
   "source": [
    "df3 = df2.copy()"
   ]
  },
  {
   "cell_type": "code",
   "execution_count": 64,
   "metadata": {},
   "outputs": [
    {
     "data": {
      "text/plain": [
       "Year Type                   0\n",
       "Year                        0\n",
       "Organization Group Code     0\n",
       "Organization Group          0\n",
       "Department Code             0\n",
       "Department                  0\n",
       "Union Code                 27\n",
       "Union                      27\n",
       "Job Family Code            32\n",
       "Job Family                 32\n",
       "Job Code                    0\n",
       "Job                         0\n",
       "Employee Identifier         0\n",
       "Salaries                    0\n",
       "Overtime                    0\n",
       "Other Salaries              0\n",
       "Total Salary                0\n",
       "Retirement                  0\n",
       "Health/Dental               0\n",
       "Other Benefits              0\n",
       "Total Benefits              0\n",
       "Total Compensation          0\n",
       "Overtime Amount             0\n",
       "Retirement Amount           0\n",
       "Health/Dental Amount        0\n",
       "Other Benefits Amount       0\n",
       "dtype: int64"
      ]
     },
     "execution_count": 64,
     "metadata": {},
     "output_type": "execute_result"
    }
   ],
   "source": [
    "df3.isnull().sum()"
   ]
  },
  {
   "cell_type": "code",
   "execution_count": 65,
   "metadata": {},
   "outputs": [
    {
     "data": {
      "text/plain": [
       "Year Type                  0\n",
       "Year                       0\n",
       "Organization Group Code    0\n",
       "Organization Group         0\n",
       "Department Code            0\n",
       "Department                 0\n",
       "Union Code                 0\n",
       "Union                      0\n",
       "Job Family Code            0\n",
       "Job Family                 0\n",
       "Job Code                   0\n",
       "Job                        0\n",
       "Employee Identifier        0\n",
       "Salaries                   0\n",
       "Overtime                   0\n",
       "Other Salaries             0\n",
       "Total Salary               0\n",
       "Retirement                 0\n",
       "Health/Dental              0\n",
       "Other Benefits             0\n",
       "Total Benefits             0\n",
       "Total Compensation         0\n",
       "Overtime Amount            0\n",
       "Retirement Amount          0\n",
       "Health/Dental Amount       0\n",
       "Other Benefits Amount      0\n",
       "dtype: int64"
      ]
     },
     "execution_count": 65,
     "metadata": {},
     "output_type": "execute_result"
    }
   ],
   "source": [
    "# Filling the nulls\n",
    "df3['Union Code'] = df3['Union Code'].fillna(0)\n",
    "df3[['Union', 'Job Family Code', 'Job Family']] = df3[['Union', 'Job Family Code', 'Job Family']].fillna('No Value')\n",
    "df3.isnull().sum()"
   ]
  },
  {
   "cell_type": "code",
   "execution_count": 66,
   "metadata": {},
   "outputs": [],
   "source": [
    "#Get dummies\n",
    "df3 = pd.get_dummies(df3, columns=['Year', 'Organization Group Code', 'Department Code', 'Union Code', 'Job Family Code', 'Job Code'])"
   ]
  },
  {
   "cell_type": "code",
   "execution_count": 67,
   "metadata": {},
   "outputs": [
    {
     "data": {
      "text/html": [
       "<div>\n",
       "<style scoped>\n",
       "    .dataframe tbody tr th:only-of-type {\n",
       "        vertical-align: middle;\n",
       "    }\n",
       "\n",
       "    .dataframe tbody tr th {\n",
       "        vertical-align: top;\n",
       "    }\n",
       "\n",
       "    .dataframe thead th {\n",
       "        text-align: right;\n",
       "    }\n",
       "</style>\n",
       "<table border=\"1\" class=\"dataframe\">\n",
       "  <thead>\n",
       "    <tr style=\"text-align: right;\">\n",
       "      <th></th>\n",
       "      <th>Year Type</th>\n",
       "      <th>Organization Group</th>\n",
       "      <th>Department</th>\n",
       "      <th>Union</th>\n",
       "      <th>Job Family</th>\n",
       "      <th>Job</th>\n",
       "      <th>Employee Identifier</th>\n",
       "      <th>Salaries</th>\n",
       "      <th>Overtime</th>\n",
       "      <th>Other Salaries</th>\n",
       "      <th>Total Salary</th>\n",
       "      <th>Retirement</th>\n",
       "      <th>Health/Dental</th>\n",
       "      <th>Other Benefits</th>\n",
       "      <th>Total Benefits</th>\n",
       "      <th>Total Compensation</th>\n",
       "      <th>Overtime Amount</th>\n",
       "      <th>Retirement Amount</th>\n",
       "      <th>Health/Dental Amount</th>\n",
       "      <th>Other Benefits Amount</th>\n",
       "      <th>Year_2013</th>\n",
       "      <th>Year_2014</th>\n",
       "      <th>Year_2015</th>\n",
       "      <th>Year_2016</th>\n",
       "      <th>Year_2017</th>\n",
       "      <th>Organization Group Code_1</th>\n",
       "      <th>Organization Group Code_2</th>\n",
       "      <th>Organization Group Code_3</th>\n",
       "      <th>Organization Group Code_4</th>\n",
       "      <th>Organization Group Code_5</th>\n",
       "      <th>Organization Group Code_6</th>\n",
       "      <th>Organization Group Code_7</th>\n",
       "      <th>Department Code_AAM</th>\n",
       "      <th>Department Code_ADM</th>\n",
       "      <th>Department Code_ADP</th>\n",
       "      <th>Department Code_AIR</th>\n",
       "      <th>Department Code_ART</th>\n",
       "      <th>Department Code_ASR</th>\n",
       "      <th>Department Code_BOS</th>\n",
       "      <th>Department Code_CAT</th>\n",
       "      <th>...</th>\n",
       "      <th>Job Code_H006</th>\n",
       "      <th>Job Code_H008</th>\n",
       "      <th>Job Code_H010</th>\n",
       "      <th>Job Code_H020</th>\n",
       "      <th>Job Code_H022</th>\n",
       "      <th>Job Code_H030</th>\n",
       "      <th>Job Code_H032</th>\n",
       "      <th>Job Code_H033</th>\n",
       "      <th>Job Code_H040</th>\n",
       "      <th>Job Code_H050</th>\n",
       "      <th>Job Code_H051</th>\n",
       "      <th>Job Code_H053</th>\n",
       "      <th>Job Code_H110</th>\n",
       "      <th>Job Code_H120</th>\n",
       "      <th>Job Code_O030</th>\n",
       "      <th>Job Code_O035</th>\n",
       "      <th>Job Code_O535</th>\n",
       "      <th>Job Code_O590</th>\n",
       "      <th>Job Code_O615</th>\n",
       "      <th>Job Code_O695</th>\n",
       "      <th>Job Code_O775</th>\n",
       "      <th>Job Code_O840</th>\n",
       "      <th>Job Code_O865</th>\n",
       "      <th>Job Code_O890</th>\n",
       "      <th>Job Code_O970</th>\n",
       "      <th>Job Code_O990</th>\n",
       "      <th>Job Code_P103</th>\n",
       "      <th>Job Code_Q002</th>\n",
       "      <th>Job Code_Q003</th>\n",
       "      <th>Job Code_Q004</th>\n",
       "      <th>Job Code_Q035</th>\n",
       "      <th>Job Code_Q036</th>\n",
       "      <th>Job Code_Q037</th>\n",
       "      <th>Job Code_Q050</th>\n",
       "      <th>Job Code_Q051</th>\n",
       "      <th>Job Code_Q052</th>\n",
       "      <th>Job Code_Q060</th>\n",
       "      <th>Job Code_Q061</th>\n",
       "      <th>Job Code_Q062</th>\n",
       "      <th>Job Code_Q082</th>\n",
       "    </tr>\n",
       "  </thead>\n",
       "  <tbody>\n",
       "    <tr>\n",
       "      <th>0</th>\n",
       "      <td>Fiscal</td>\n",
       "      <td>Public Protection</td>\n",
       "      <td>FIR Fire Department</td>\n",
       "      <td>Firefighters - Miscellaneous, Local 798</td>\n",
       "      <td>Fire Services</td>\n",
       "      <td>EMT/Paramedic/Firefighter</td>\n",
       "      <td>37216</td>\n",
       "      <td>123841.28</td>\n",
       "      <td>76853.77</td>\n",
       "      <td>14922.05</td>\n",
       "      <td>215617.10</td>\n",
       "      <td>24574.98</td>\n",
       "      <td>14920.13</td>\n",
       "      <td>3589.87</td>\n",
       "      <td>43084.98</td>\n",
       "      <td>258702.08</td>\n",
       "      <td>less than average overtime</td>\n",
       "      <td>average retirement</td>\n",
       "      <td>less than average Health/Dental</td>\n",
       "      <td>few Other Benefits</td>\n",
       "      <td>1</td>\n",
       "      <td>0</td>\n",
       "      <td>0</td>\n",
       "      <td>0</td>\n",
       "      <td>0</td>\n",
       "      <td>1</td>\n",
       "      <td>0</td>\n",
       "      <td>0</td>\n",
       "      <td>0</td>\n",
       "      <td>0</td>\n",
       "      <td>0</td>\n",
       "      <td>0</td>\n",
       "      <td>0</td>\n",
       "      <td>0</td>\n",
       "      <td>0</td>\n",
       "      <td>0</td>\n",
       "      <td>0</td>\n",
       "      <td>0</td>\n",
       "      <td>0</td>\n",
       "      <td>0</td>\n",
       "      <td>...</td>\n",
       "      <td>0</td>\n",
       "      <td>0</td>\n",
       "      <td>0</td>\n",
       "      <td>0</td>\n",
       "      <td>0</td>\n",
       "      <td>0</td>\n",
       "      <td>0</td>\n",
       "      <td>0</td>\n",
       "      <td>0</td>\n",
       "      <td>0</td>\n",
       "      <td>0</td>\n",
       "      <td>0</td>\n",
       "      <td>0</td>\n",
       "      <td>0</td>\n",
       "      <td>0</td>\n",
       "      <td>0</td>\n",
       "      <td>0</td>\n",
       "      <td>0</td>\n",
       "      <td>0</td>\n",
       "      <td>0</td>\n",
       "      <td>0</td>\n",
       "      <td>0</td>\n",
       "      <td>0</td>\n",
       "      <td>0</td>\n",
       "      <td>0</td>\n",
       "      <td>0</td>\n",
       "      <td>0</td>\n",
       "      <td>0</td>\n",
       "      <td>0</td>\n",
       "      <td>0</td>\n",
       "      <td>0</td>\n",
       "      <td>0</td>\n",
       "      <td>0</td>\n",
       "      <td>0</td>\n",
       "      <td>0</td>\n",
       "      <td>0</td>\n",
       "      <td>0</td>\n",
       "      <td>0</td>\n",
       "      <td>0</td>\n",
       "      <td>0</td>\n",
       "    </tr>\n",
       "    <tr>\n",
       "      <th>1</th>\n",
       "      <td>Fiscal</td>\n",
       "      <td>Public Works, Transportation &amp; Commerce</td>\n",
       "      <td>MTA Municipal Transprtn Agncy</td>\n",
       "      <td>Laborers, Local 261</td>\n",
       "      <td>Semi-Skilled &amp; General Labor</td>\n",
       "      <td>General Laborer</td>\n",
       "      <td>24950</td>\n",
       "      <td>61137.60</td>\n",
       "      <td>7341.04</td>\n",
       "      <td>9218.74</td>\n",
       "      <td>77697.38</td>\n",
       "      <td>14897.71</td>\n",
       "      <td>12516.70</td>\n",
       "      <td>6117.99</td>\n",
       "      <td>33532.40</td>\n",
       "      <td>111229.78</td>\n",
       "      <td>few overtime</td>\n",
       "      <td>more than average retirement</td>\n",
       "      <td>average Health/Dental</td>\n",
       "      <td>less than average Other Benefits</td>\n",
       "      <td>0</td>\n",
       "      <td>1</td>\n",
       "      <td>0</td>\n",
       "      <td>0</td>\n",
       "      <td>0</td>\n",
       "      <td>0</td>\n",
       "      <td>1</td>\n",
       "      <td>0</td>\n",
       "      <td>0</td>\n",
       "      <td>0</td>\n",
       "      <td>0</td>\n",
       "      <td>0</td>\n",
       "      <td>0</td>\n",
       "      <td>0</td>\n",
       "      <td>0</td>\n",
       "      <td>0</td>\n",
       "      <td>0</td>\n",
       "      <td>0</td>\n",
       "      <td>0</td>\n",
       "      <td>0</td>\n",
       "      <td>...</td>\n",
       "      <td>0</td>\n",
       "      <td>0</td>\n",
       "      <td>0</td>\n",
       "      <td>0</td>\n",
       "      <td>0</td>\n",
       "      <td>0</td>\n",
       "      <td>0</td>\n",
       "      <td>0</td>\n",
       "      <td>0</td>\n",
       "      <td>0</td>\n",
       "      <td>0</td>\n",
       "      <td>0</td>\n",
       "      <td>0</td>\n",
       "      <td>0</td>\n",
       "      <td>0</td>\n",
       "      <td>0</td>\n",
       "      <td>0</td>\n",
       "      <td>0</td>\n",
       "      <td>0</td>\n",
       "      <td>0</td>\n",
       "      <td>0</td>\n",
       "      <td>0</td>\n",
       "      <td>0</td>\n",
       "      <td>0</td>\n",
       "      <td>0</td>\n",
       "      <td>0</td>\n",
       "      <td>0</td>\n",
       "      <td>0</td>\n",
       "      <td>0</td>\n",
       "      <td>0</td>\n",
       "      <td>0</td>\n",
       "      <td>0</td>\n",
       "      <td>0</td>\n",
       "      <td>0</td>\n",
       "      <td>0</td>\n",
       "      <td>0</td>\n",
       "      <td>0</td>\n",
       "      <td>0</td>\n",
       "      <td>0</td>\n",
       "      <td>0</td>\n",
       "    </tr>\n",
       "    <tr>\n",
       "      <th>2</th>\n",
       "      <td>Fiscal</td>\n",
       "      <td>Public Works, Transportation &amp; Commerce</td>\n",
       "      <td>AIR Airport Commission</td>\n",
       "      <td>SEIU - Miscellaneous, Local 1021</td>\n",
       "      <td>Clerical, Secretarial &amp; Steno</td>\n",
       "      <td>Senior Clerk</td>\n",
       "      <td>27447</td>\n",
       "      <td>41192.82</td>\n",
       "      <td>0.00</td>\n",
       "      <td>390.00</td>\n",
       "      <td>41582.82</td>\n",
       "      <td>6996.41</td>\n",
       "      <td>11308.96</td>\n",
       "      <td>3200.69</td>\n",
       "      <td>21506.06</td>\n",
       "      <td>63088.88</td>\n",
       "      <td>few overtime</td>\n",
       "      <td>average retirement</td>\n",
       "      <td>more than average Health/Dental</td>\n",
       "      <td>less than average Other Benefits</td>\n",
       "      <td>0</td>\n",
       "      <td>0</td>\n",
       "      <td>0</td>\n",
       "      <td>1</td>\n",
       "      <td>0</td>\n",
       "      <td>0</td>\n",
       "      <td>1</td>\n",
       "      <td>0</td>\n",
       "      <td>0</td>\n",
       "      <td>0</td>\n",
       "      <td>0</td>\n",
       "      <td>0</td>\n",
       "      <td>0</td>\n",
       "      <td>0</td>\n",
       "      <td>0</td>\n",
       "      <td>1</td>\n",
       "      <td>0</td>\n",
       "      <td>0</td>\n",
       "      <td>0</td>\n",
       "      <td>0</td>\n",
       "      <td>...</td>\n",
       "      <td>0</td>\n",
       "      <td>0</td>\n",
       "      <td>0</td>\n",
       "      <td>0</td>\n",
       "      <td>0</td>\n",
       "      <td>0</td>\n",
       "      <td>0</td>\n",
       "      <td>0</td>\n",
       "      <td>0</td>\n",
       "      <td>0</td>\n",
       "      <td>0</td>\n",
       "      <td>0</td>\n",
       "      <td>0</td>\n",
       "      <td>0</td>\n",
       "      <td>0</td>\n",
       "      <td>0</td>\n",
       "      <td>0</td>\n",
       "      <td>0</td>\n",
       "      <td>0</td>\n",
       "      <td>0</td>\n",
       "      <td>0</td>\n",
       "      <td>0</td>\n",
       "      <td>0</td>\n",
       "      <td>0</td>\n",
       "      <td>0</td>\n",
       "      <td>0</td>\n",
       "      <td>0</td>\n",
       "      <td>0</td>\n",
       "      <td>0</td>\n",
       "      <td>0</td>\n",
       "      <td>0</td>\n",
       "      <td>0</td>\n",
       "      <td>0</td>\n",
       "      <td>0</td>\n",
       "      <td>0</td>\n",
       "      <td>0</td>\n",
       "      <td>0</td>\n",
       "      <td>0</td>\n",
       "      <td>0</td>\n",
       "      <td>0</td>\n",
       "    </tr>\n",
       "    <tr>\n",
       "      <th>3</th>\n",
       "      <td>Fiscal</td>\n",
       "      <td>Public Works, Transportation &amp; Commerce</td>\n",
       "      <td>MTA Municipal Transprtn Agncy</td>\n",
       "      <td>Transport Workers - Transit Operators, Local 2...</td>\n",
       "      <td>Street Transit</td>\n",
       "      <td>Transit Operator</td>\n",
       "      <td>42001</td>\n",
       "      <td>66993.68</td>\n",
       "      <td>26633.83</td>\n",
       "      <td>4494.98</td>\n",
       "      <td>98122.49</td>\n",
       "      <td>21231.91</td>\n",
       "      <td>13417.45</td>\n",
       "      <td>7449.63</td>\n",
       "      <td>42098.99</td>\n",
       "      <td>140221.48</td>\n",
       "      <td>less than average overtime</td>\n",
       "      <td>more than average retirement</td>\n",
       "      <td>average Health/Dental</td>\n",
       "      <td>less than average Other Benefits</td>\n",
       "      <td>0</td>\n",
       "      <td>0</td>\n",
       "      <td>1</td>\n",
       "      <td>0</td>\n",
       "      <td>0</td>\n",
       "      <td>0</td>\n",
       "      <td>1</td>\n",
       "      <td>0</td>\n",
       "      <td>0</td>\n",
       "      <td>0</td>\n",
       "      <td>0</td>\n",
       "      <td>0</td>\n",
       "      <td>0</td>\n",
       "      <td>0</td>\n",
       "      <td>0</td>\n",
       "      <td>0</td>\n",
       "      <td>0</td>\n",
       "      <td>0</td>\n",
       "      <td>0</td>\n",
       "      <td>0</td>\n",
       "      <td>...</td>\n",
       "      <td>0</td>\n",
       "      <td>0</td>\n",
       "      <td>0</td>\n",
       "      <td>0</td>\n",
       "      <td>0</td>\n",
       "      <td>0</td>\n",
       "      <td>0</td>\n",
       "      <td>0</td>\n",
       "      <td>0</td>\n",
       "      <td>0</td>\n",
       "      <td>0</td>\n",
       "      <td>0</td>\n",
       "      <td>0</td>\n",
       "      <td>0</td>\n",
       "      <td>0</td>\n",
       "      <td>0</td>\n",
       "      <td>0</td>\n",
       "      <td>0</td>\n",
       "      <td>0</td>\n",
       "      <td>0</td>\n",
       "      <td>0</td>\n",
       "      <td>0</td>\n",
       "      <td>0</td>\n",
       "      <td>0</td>\n",
       "      <td>0</td>\n",
       "      <td>0</td>\n",
       "      <td>0</td>\n",
       "      <td>0</td>\n",
       "      <td>0</td>\n",
       "      <td>0</td>\n",
       "      <td>0</td>\n",
       "      <td>0</td>\n",
       "      <td>0</td>\n",
       "      <td>0</td>\n",
       "      <td>0</td>\n",
       "      <td>0</td>\n",
       "      <td>0</td>\n",
       "      <td>0</td>\n",
       "      <td>0</td>\n",
       "      <td>0</td>\n",
       "    </tr>\n",
       "    <tr>\n",
       "      <th>4</th>\n",
       "      <td>Fiscal</td>\n",
       "      <td>Public Works, Transportation &amp; Commerce</td>\n",
       "      <td>DPW GSA - Public Works</td>\n",
       "      <td>Prof &amp; Tech Engineers - Miscellaneous, Local 21</td>\n",
       "      <td>Professional Engineering</td>\n",
       "      <td>Junior Engineer</td>\n",
       "      <td>22142</td>\n",
       "      <td>74260.80</td>\n",
       "      <td>0.00</td>\n",
       "      <td>0.00</td>\n",
       "      <td>74260.80</td>\n",
       "      <td>13522.95</td>\n",
       "      <td>11989.39</td>\n",
       "      <td>5977.19</td>\n",
       "      <td>31489.53</td>\n",
       "      <td>105750.33</td>\n",
       "      <td>few overtime</td>\n",
       "      <td>average retirement</td>\n",
       "      <td>average Health/Dental</td>\n",
       "      <td>less than average Other Benefits</td>\n",
       "      <td>1</td>\n",
       "      <td>0</td>\n",
       "      <td>0</td>\n",
       "      <td>0</td>\n",
       "      <td>0</td>\n",
       "      <td>0</td>\n",
       "      <td>1</td>\n",
       "      <td>0</td>\n",
       "      <td>0</td>\n",
       "      <td>0</td>\n",
       "      <td>0</td>\n",
       "      <td>0</td>\n",
       "      <td>0</td>\n",
       "      <td>0</td>\n",
       "      <td>0</td>\n",
       "      <td>0</td>\n",
       "      <td>0</td>\n",
       "      <td>0</td>\n",
       "      <td>0</td>\n",
       "      <td>0</td>\n",
       "      <td>...</td>\n",
       "      <td>0</td>\n",
       "      <td>0</td>\n",
       "      <td>0</td>\n",
       "      <td>0</td>\n",
       "      <td>0</td>\n",
       "      <td>0</td>\n",
       "      <td>0</td>\n",
       "      <td>0</td>\n",
       "      <td>0</td>\n",
       "      <td>0</td>\n",
       "      <td>0</td>\n",
       "      <td>0</td>\n",
       "      <td>0</td>\n",
       "      <td>0</td>\n",
       "      <td>0</td>\n",
       "      <td>0</td>\n",
       "      <td>0</td>\n",
       "      <td>0</td>\n",
       "      <td>0</td>\n",
       "      <td>0</td>\n",
       "      <td>0</td>\n",
       "      <td>0</td>\n",
       "      <td>0</td>\n",
       "      <td>0</td>\n",
       "      <td>0</td>\n",
       "      <td>0</td>\n",
       "      <td>0</td>\n",
       "      <td>0</td>\n",
       "      <td>0</td>\n",
       "      <td>0</td>\n",
       "      <td>0</td>\n",
       "      <td>0</td>\n",
       "      <td>0</td>\n",
       "      <td>0</td>\n",
       "      <td>0</td>\n",
       "      <td>0</td>\n",
       "      <td>0</td>\n",
       "      <td>0</td>\n",
       "      <td>0</td>\n",
       "      <td>0</td>\n",
       "    </tr>\n",
       "  </tbody>\n",
       "</table>\n",
       "</div>"
      ],
      "text/plain": [
       "  Year Type      ...      Job Code_Q082\n",
       "0    Fiscal      ...                  0\n",
       "1    Fiscal      ...                  0\n",
       "2    Fiscal      ...                  0\n",
       "3    Fiscal      ...                  0\n",
       "4    Fiscal      ...                  0\n",
       "\n",
       "[5 rows x 1325 columns]"
      ]
     },
     "execution_count": 67,
     "metadata": {},
     "output_type": "execute_result"
    }
   ],
   "source": [
    "df3.head()"
   ]
  },
  {
   "cell_type": "markdown",
   "metadata": {},
   "source": [
    "## **Split features and targets from the data**"
   ]
  },
  {
   "cell_type": "code",
   "execution_count": 68,
   "metadata": {},
   "outputs": [
    {
     "name": "stdout",
     "output_type": "stream",
     "text": [
      "(147970, 1310) (147970,)\n"
     ]
    }
   ],
   "source": [
    "X_og = df3.drop(['Year Type', 'Organization Group', 'Department', 'Union', 'Job Family', 'Job', 'Employee Identifier', 'Salaries', 'Total Salary',\n",
    "                 'Total Benefits', 'Total Compensation', 'Overtime Amount', 'Retirement Amount', 'Health/Dental Amount', 'Other Benefits Amount'\n",
    "                ], axis = 1)\n",
    "y_og = df3.Salaries\n",
    "print(X_og.shape,\n",
    "      y_og.shape)"
   ]
  },
  {
   "cell_type": "code",
   "execution_count": 69,
   "metadata": {},
   "outputs": [
    {
     "data": {
      "text/html": [
       "<div>\n",
       "<style scoped>\n",
       "    .dataframe tbody tr th:only-of-type {\n",
       "        vertical-align: middle;\n",
       "    }\n",
       "\n",
       "    .dataframe tbody tr th {\n",
       "        vertical-align: top;\n",
       "    }\n",
       "\n",
       "    .dataframe thead th {\n",
       "        text-align: right;\n",
       "    }\n",
       "</style>\n",
       "<table border=\"1\" class=\"dataframe\">\n",
       "  <thead>\n",
       "    <tr style=\"text-align: right;\">\n",
       "      <th></th>\n",
       "      <th>Overtime</th>\n",
       "      <th>Other Salaries</th>\n",
       "      <th>Retirement</th>\n",
       "      <th>Health/Dental</th>\n",
       "      <th>Other Benefits</th>\n",
       "      <th>Year_2013</th>\n",
       "      <th>Year_2014</th>\n",
       "      <th>Year_2015</th>\n",
       "      <th>Year_2016</th>\n",
       "      <th>Year_2017</th>\n",
       "      <th>Organization Group Code_1</th>\n",
       "      <th>Organization Group Code_2</th>\n",
       "      <th>Organization Group Code_3</th>\n",
       "      <th>Organization Group Code_4</th>\n",
       "      <th>Organization Group Code_5</th>\n",
       "      <th>Organization Group Code_6</th>\n",
       "      <th>Organization Group Code_7</th>\n",
       "      <th>Department Code_AAM</th>\n",
       "      <th>Department Code_ADM</th>\n",
       "      <th>Department Code_ADP</th>\n",
       "      <th>Department Code_AIR</th>\n",
       "      <th>Department Code_ART</th>\n",
       "      <th>Department Code_ASR</th>\n",
       "      <th>Department Code_BOS</th>\n",
       "      <th>Department Code_CAT</th>\n",
       "      <th>Department Code_CFC</th>\n",
       "      <th>Department Code_CHF</th>\n",
       "      <th>Department Code_CII</th>\n",
       "      <th>Department Code_CLP</th>\n",
       "      <th>Department Code_CON</th>\n",
       "      <th>Department Code_CPC</th>\n",
       "      <th>Department Code_CRT</th>\n",
       "      <th>Department Code_CSC</th>\n",
       "      <th>Department Code_CSS</th>\n",
       "      <th>Department Code_CWP</th>\n",
       "      <th>Department Code_DAT</th>\n",
       "      <th>Department Code_DBI</th>\n",
       "      <th>Department Code_DPH</th>\n",
       "      <th>Department Code_DPW</th>\n",
       "      <th>Department Code_DSS</th>\n",
       "      <th>...</th>\n",
       "      <th>Job Code_H006</th>\n",
       "      <th>Job Code_H008</th>\n",
       "      <th>Job Code_H010</th>\n",
       "      <th>Job Code_H020</th>\n",
       "      <th>Job Code_H022</th>\n",
       "      <th>Job Code_H030</th>\n",
       "      <th>Job Code_H032</th>\n",
       "      <th>Job Code_H033</th>\n",
       "      <th>Job Code_H040</th>\n",
       "      <th>Job Code_H050</th>\n",
       "      <th>Job Code_H051</th>\n",
       "      <th>Job Code_H053</th>\n",
       "      <th>Job Code_H110</th>\n",
       "      <th>Job Code_H120</th>\n",
       "      <th>Job Code_O030</th>\n",
       "      <th>Job Code_O035</th>\n",
       "      <th>Job Code_O535</th>\n",
       "      <th>Job Code_O590</th>\n",
       "      <th>Job Code_O615</th>\n",
       "      <th>Job Code_O695</th>\n",
       "      <th>Job Code_O775</th>\n",
       "      <th>Job Code_O840</th>\n",
       "      <th>Job Code_O865</th>\n",
       "      <th>Job Code_O890</th>\n",
       "      <th>Job Code_O970</th>\n",
       "      <th>Job Code_O990</th>\n",
       "      <th>Job Code_P103</th>\n",
       "      <th>Job Code_Q002</th>\n",
       "      <th>Job Code_Q003</th>\n",
       "      <th>Job Code_Q004</th>\n",
       "      <th>Job Code_Q035</th>\n",
       "      <th>Job Code_Q036</th>\n",
       "      <th>Job Code_Q037</th>\n",
       "      <th>Job Code_Q050</th>\n",
       "      <th>Job Code_Q051</th>\n",
       "      <th>Job Code_Q052</th>\n",
       "      <th>Job Code_Q060</th>\n",
       "      <th>Job Code_Q061</th>\n",
       "      <th>Job Code_Q062</th>\n",
       "      <th>Job Code_Q082</th>\n",
       "    </tr>\n",
       "  </thead>\n",
       "  <tbody>\n",
       "    <tr>\n",
       "      <th>0</th>\n",
       "      <td>76853.77</td>\n",
       "      <td>14922.05</td>\n",
       "      <td>24574.98</td>\n",
       "      <td>14920.13</td>\n",
       "      <td>3589.87</td>\n",
       "      <td>1</td>\n",
       "      <td>0</td>\n",
       "      <td>0</td>\n",
       "      <td>0</td>\n",
       "      <td>0</td>\n",
       "      <td>1</td>\n",
       "      <td>0</td>\n",
       "      <td>0</td>\n",
       "      <td>0</td>\n",
       "      <td>0</td>\n",
       "      <td>0</td>\n",
       "      <td>0</td>\n",
       "      <td>0</td>\n",
       "      <td>0</td>\n",
       "      <td>0</td>\n",
       "      <td>0</td>\n",
       "      <td>0</td>\n",
       "      <td>0</td>\n",
       "      <td>0</td>\n",
       "      <td>0</td>\n",
       "      <td>0</td>\n",
       "      <td>0</td>\n",
       "      <td>0</td>\n",
       "      <td>0</td>\n",
       "      <td>0</td>\n",
       "      <td>0</td>\n",
       "      <td>0</td>\n",
       "      <td>0</td>\n",
       "      <td>0</td>\n",
       "      <td>0</td>\n",
       "      <td>0</td>\n",
       "      <td>0</td>\n",
       "      <td>0</td>\n",
       "      <td>0</td>\n",
       "      <td>0</td>\n",
       "      <td>...</td>\n",
       "      <td>0</td>\n",
       "      <td>0</td>\n",
       "      <td>0</td>\n",
       "      <td>0</td>\n",
       "      <td>0</td>\n",
       "      <td>0</td>\n",
       "      <td>0</td>\n",
       "      <td>0</td>\n",
       "      <td>0</td>\n",
       "      <td>0</td>\n",
       "      <td>0</td>\n",
       "      <td>0</td>\n",
       "      <td>0</td>\n",
       "      <td>0</td>\n",
       "      <td>0</td>\n",
       "      <td>0</td>\n",
       "      <td>0</td>\n",
       "      <td>0</td>\n",
       "      <td>0</td>\n",
       "      <td>0</td>\n",
       "      <td>0</td>\n",
       "      <td>0</td>\n",
       "      <td>0</td>\n",
       "      <td>0</td>\n",
       "      <td>0</td>\n",
       "      <td>0</td>\n",
       "      <td>0</td>\n",
       "      <td>0</td>\n",
       "      <td>0</td>\n",
       "      <td>0</td>\n",
       "      <td>0</td>\n",
       "      <td>0</td>\n",
       "      <td>0</td>\n",
       "      <td>0</td>\n",
       "      <td>0</td>\n",
       "      <td>0</td>\n",
       "      <td>0</td>\n",
       "      <td>0</td>\n",
       "      <td>0</td>\n",
       "      <td>0</td>\n",
       "    </tr>\n",
       "    <tr>\n",
       "      <th>1</th>\n",
       "      <td>7341.04</td>\n",
       "      <td>9218.74</td>\n",
       "      <td>14897.71</td>\n",
       "      <td>12516.70</td>\n",
       "      <td>6117.99</td>\n",
       "      <td>0</td>\n",
       "      <td>1</td>\n",
       "      <td>0</td>\n",
       "      <td>0</td>\n",
       "      <td>0</td>\n",
       "      <td>0</td>\n",
       "      <td>1</td>\n",
       "      <td>0</td>\n",
       "      <td>0</td>\n",
       "      <td>0</td>\n",
       "      <td>0</td>\n",
       "      <td>0</td>\n",
       "      <td>0</td>\n",
       "      <td>0</td>\n",
       "      <td>0</td>\n",
       "      <td>0</td>\n",
       "      <td>0</td>\n",
       "      <td>0</td>\n",
       "      <td>0</td>\n",
       "      <td>0</td>\n",
       "      <td>0</td>\n",
       "      <td>0</td>\n",
       "      <td>0</td>\n",
       "      <td>0</td>\n",
       "      <td>0</td>\n",
       "      <td>0</td>\n",
       "      <td>0</td>\n",
       "      <td>0</td>\n",
       "      <td>0</td>\n",
       "      <td>0</td>\n",
       "      <td>0</td>\n",
       "      <td>0</td>\n",
       "      <td>0</td>\n",
       "      <td>0</td>\n",
       "      <td>0</td>\n",
       "      <td>...</td>\n",
       "      <td>0</td>\n",
       "      <td>0</td>\n",
       "      <td>0</td>\n",
       "      <td>0</td>\n",
       "      <td>0</td>\n",
       "      <td>0</td>\n",
       "      <td>0</td>\n",
       "      <td>0</td>\n",
       "      <td>0</td>\n",
       "      <td>0</td>\n",
       "      <td>0</td>\n",
       "      <td>0</td>\n",
       "      <td>0</td>\n",
       "      <td>0</td>\n",
       "      <td>0</td>\n",
       "      <td>0</td>\n",
       "      <td>0</td>\n",
       "      <td>0</td>\n",
       "      <td>0</td>\n",
       "      <td>0</td>\n",
       "      <td>0</td>\n",
       "      <td>0</td>\n",
       "      <td>0</td>\n",
       "      <td>0</td>\n",
       "      <td>0</td>\n",
       "      <td>0</td>\n",
       "      <td>0</td>\n",
       "      <td>0</td>\n",
       "      <td>0</td>\n",
       "      <td>0</td>\n",
       "      <td>0</td>\n",
       "      <td>0</td>\n",
       "      <td>0</td>\n",
       "      <td>0</td>\n",
       "      <td>0</td>\n",
       "      <td>0</td>\n",
       "      <td>0</td>\n",
       "      <td>0</td>\n",
       "      <td>0</td>\n",
       "      <td>0</td>\n",
       "    </tr>\n",
       "    <tr>\n",
       "      <th>2</th>\n",
       "      <td>0.00</td>\n",
       "      <td>390.00</td>\n",
       "      <td>6996.41</td>\n",
       "      <td>11308.96</td>\n",
       "      <td>3200.69</td>\n",
       "      <td>0</td>\n",
       "      <td>0</td>\n",
       "      <td>0</td>\n",
       "      <td>1</td>\n",
       "      <td>0</td>\n",
       "      <td>0</td>\n",
       "      <td>1</td>\n",
       "      <td>0</td>\n",
       "      <td>0</td>\n",
       "      <td>0</td>\n",
       "      <td>0</td>\n",
       "      <td>0</td>\n",
       "      <td>0</td>\n",
       "      <td>0</td>\n",
       "      <td>0</td>\n",
       "      <td>1</td>\n",
       "      <td>0</td>\n",
       "      <td>0</td>\n",
       "      <td>0</td>\n",
       "      <td>0</td>\n",
       "      <td>0</td>\n",
       "      <td>0</td>\n",
       "      <td>0</td>\n",
       "      <td>0</td>\n",
       "      <td>0</td>\n",
       "      <td>0</td>\n",
       "      <td>0</td>\n",
       "      <td>0</td>\n",
       "      <td>0</td>\n",
       "      <td>0</td>\n",
       "      <td>0</td>\n",
       "      <td>0</td>\n",
       "      <td>0</td>\n",
       "      <td>0</td>\n",
       "      <td>0</td>\n",
       "      <td>...</td>\n",
       "      <td>0</td>\n",
       "      <td>0</td>\n",
       "      <td>0</td>\n",
       "      <td>0</td>\n",
       "      <td>0</td>\n",
       "      <td>0</td>\n",
       "      <td>0</td>\n",
       "      <td>0</td>\n",
       "      <td>0</td>\n",
       "      <td>0</td>\n",
       "      <td>0</td>\n",
       "      <td>0</td>\n",
       "      <td>0</td>\n",
       "      <td>0</td>\n",
       "      <td>0</td>\n",
       "      <td>0</td>\n",
       "      <td>0</td>\n",
       "      <td>0</td>\n",
       "      <td>0</td>\n",
       "      <td>0</td>\n",
       "      <td>0</td>\n",
       "      <td>0</td>\n",
       "      <td>0</td>\n",
       "      <td>0</td>\n",
       "      <td>0</td>\n",
       "      <td>0</td>\n",
       "      <td>0</td>\n",
       "      <td>0</td>\n",
       "      <td>0</td>\n",
       "      <td>0</td>\n",
       "      <td>0</td>\n",
       "      <td>0</td>\n",
       "      <td>0</td>\n",
       "      <td>0</td>\n",
       "      <td>0</td>\n",
       "      <td>0</td>\n",
       "      <td>0</td>\n",
       "      <td>0</td>\n",
       "      <td>0</td>\n",
       "      <td>0</td>\n",
       "    </tr>\n",
       "    <tr>\n",
       "      <th>3</th>\n",
       "      <td>26633.83</td>\n",
       "      <td>4494.98</td>\n",
       "      <td>21231.91</td>\n",
       "      <td>13417.45</td>\n",
       "      <td>7449.63</td>\n",
       "      <td>0</td>\n",
       "      <td>0</td>\n",
       "      <td>1</td>\n",
       "      <td>0</td>\n",
       "      <td>0</td>\n",
       "      <td>0</td>\n",
       "      <td>1</td>\n",
       "      <td>0</td>\n",
       "      <td>0</td>\n",
       "      <td>0</td>\n",
       "      <td>0</td>\n",
       "      <td>0</td>\n",
       "      <td>0</td>\n",
       "      <td>0</td>\n",
       "      <td>0</td>\n",
       "      <td>0</td>\n",
       "      <td>0</td>\n",
       "      <td>0</td>\n",
       "      <td>0</td>\n",
       "      <td>0</td>\n",
       "      <td>0</td>\n",
       "      <td>0</td>\n",
       "      <td>0</td>\n",
       "      <td>0</td>\n",
       "      <td>0</td>\n",
       "      <td>0</td>\n",
       "      <td>0</td>\n",
       "      <td>0</td>\n",
       "      <td>0</td>\n",
       "      <td>0</td>\n",
       "      <td>0</td>\n",
       "      <td>0</td>\n",
       "      <td>0</td>\n",
       "      <td>0</td>\n",
       "      <td>0</td>\n",
       "      <td>...</td>\n",
       "      <td>0</td>\n",
       "      <td>0</td>\n",
       "      <td>0</td>\n",
       "      <td>0</td>\n",
       "      <td>0</td>\n",
       "      <td>0</td>\n",
       "      <td>0</td>\n",
       "      <td>0</td>\n",
       "      <td>0</td>\n",
       "      <td>0</td>\n",
       "      <td>0</td>\n",
       "      <td>0</td>\n",
       "      <td>0</td>\n",
       "      <td>0</td>\n",
       "      <td>0</td>\n",
       "      <td>0</td>\n",
       "      <td>0</td>\n",
       "      <td>0</td>\n",
       "      <td>0</td>\n",
       "      <td>0</td>\n",
       "      <td>0</td>\n",
       "      <td>0</td>\n",
       "      <td>0</td>\n",
       "      <td>0</td>\n",
       "      <td>0</td>\n",
       "      <td>0</td>\n",
       "      <td>0</td>\n",
       "      <td>0</td>\n",
       "      <td>0</td>\n",
       "      <td>0</td>\n",
       "      <td>0</td>\n",
       "      <td>0</td>\n",
       "      <td>0</td>\n",
       "      <td>0</td>\n",
       "      <td>0</td>\n",
       "      <td>0</td>\n",
       "      <td>0</td>\n",
       "      <td>0</td>\n",
       "      <td>0</td>\n",
       "      <td>0</td>\n",
       "    </tr>\n",
       "    <tr>\n",
       "      <th>4</th>\n",
       "      <td>0.00</td>\n",
       "      <td>0.00</td>\n",
       "      <td>13522.95</td>\n",
       "      <td>11989.39</td>\n",
       "      <td>5977.19</td>\n",
       "      <td>1</td>\n",
       "      <td>0</td>\n",
       "      <td>0</td>\n",
       "      <td>0</td>\n",
       "      <td>0</td>\n",
       "      <td>0</td>\n",
       "      <td>1</td>\n",
       "      <td>0</td>\n",
       "      <td>0</td>\n",
       "      <td>0</td>\n",
       "      <td>0</td>\n",
       "      <td>0</td>\n",
       "      <td>0</td>\n",
       "      <td>0</td>\n",
       "      <td>0</td>\n",
       "      <td>0</td>\n",
       "      <td>0</td>\n",
       "      <td>0</td>\n",
       "      <td>0</td>\n",
       "      <td>0</td>\n",
       "      <td>0</td>\n",
       "      <td>0</td>\n",
       "      <td>0</td>\n",
       "      <td>0</td>\n",
       "      <td>0</td>\n",
       "      <td>0</td>\n",
       "      <td>0</td>\n",
       "      <td>0</td>\n",
       "      <td>0</td>\n",
       "      <td>0</td>\n",
       "      <td>0</td>\n",
       "      <td>0</td>\n",
       "      <td>0</td>\n",
       "      <td>1</td>\n",
       "      <td>0</td>\n",
       "      <td>...</td>\n",
       "      <td>0</td>\n",
       "      <td>0</td>\n",
       "      <td>0</td>\n",
       "      <td>0</td>\n",
       "      <td>0</td>\n",
       "      <td>0</td>\n",
       "      <td>0</td>\n",
       "      <td>0</td>\n",
       "      <td>0</td>\n",
       "      <td>0</td>\n",
       "      <td>0</td>\n",
       "      <td>0</td>\n",
       "      <td>0</td>\n",
       "      <td>0</td>\n",
       "      <td>0</td>\n",
       "      <td>0</td>\n",
       "      <td>0</td>\n",
       "      <td>0</td>\n",
       "      <td>0</td>\n",
       "      <td>0</td>\n",
       "      <td>0</td>\n",
       "      <td>0</td>\n",
       "      <td>0</td>\n",
       "      <td>0</td>\n",
       "      <td>0</td>\n",
       "      <td>0</td>\n",
       "      <td>0</td>\n",
       "      <td>0</td>\n",
       "      <td>0</td>\n",
       "      <td>0</td>\n",
       "      <td>0</td>\n",
       "      <td>0</td>\n",
       "      <td>0</td>\n",
       "      <td>0</td>\n",
       "      <td>0</td>\n",
       "      <td>0</td>\n",
       "      <td>0</td>\n",
       "      <td>0</td>\n",
       "      <td>0</td>\n",
       "      <td>0</td>\n",
       "    </tr>\n",
       "  </tbody>\n",
       "</table>\n",
       "</div>"
      ],
      "text/plain": [
       "   Overtime  Other Salaries      ...        Job Code_Q062  Job Code_Q082\n",
       "0  76853.77        14922.05      ...                    0              0\n",
       "1   7341.04         9218.74      ...                    0              0\n",
       "2      0.00          390.00      ...                    0              0\n",
       "3  26633.83         4494.98      ...                    0              0\n",
       "4      0.00            0.00      ...                    0              0\n",
       "\n",
       "[5 rows x 1310 columns]"
      ]
     },
     "execution_count": 69,
     "metadata": {},
     "output_type": "execute_result"
    }
   ],
   "source": [
    "X_og.head()"
   ]
  },
  {
   "cell_type": "code",
   "execution_count": 70,
   "metadata": {},
   "outputs": [
    {
     "name": "stdout",
     "output_type": "stream",
     "text": [
      "(110977, 1310) (110977,)\n",
      "(36993, 1310) (36993,)\n"
     ]
    }
   ],
   "source": [
    "X_train_og, X_test_og, y_train_og, y_test_og = split(X_og, y_og)\n",
    "print(X_train_og.shape, y_train_og.shape)\n",
    "print(X_test_og.shape, y_test_og.shape)"
   ]
  },
  {
   "cell_type": "markdown",
   "metadata": {},
   "source": [
    "## **Linear Regression**"
   ]
  },
  {
   "cell_type": "code",
   "execution_count": 71,
   "metadata": {},
   "outputs": [],
   "source": [
    "scores = cross_val_score(lr, X_train_og, y_train_og, \n",
    "                         scoring='neg_mean_squared_error', cv=10)"
   ]
  },
  {
   "cell_type": "code",
   "execution_count": 72,
   "metadata": {},
   "outputs": [
    {
     "name": "stdout",
     "output_type": "stream",
     "text": [
      "[7528.77064939 7619.57892124 7812.40032604 7669.31314428 7905.59939098\n",
      " 7574.45772462 7652.55145169 8015.80737276 7570.64559917 7598.31590262]\n",
      "Mean: 7694.74404827842\n",
      "Std: 153.6802385214628\n"
     ]
    }
   ],
   "source": [
    "show_results(scores)"
   ]
  },
  {
   "cell_type": "markdown",
   "metadata": {},
   "source": [
    "### Train set"
   ]
  },
  {
   "cell_type": "code",
   "execution_count": 73,
   "metadata": {},
   "outputs": [],
   "source": [
    "y_train_pred_og = lr.fit(X_train_og, y_train_og).predict(X_train_og)"
   ]
  },
  {
   "cell_type": "code",
   "execution_count": 74,
   "metadata": {},
   "outputs": [
    {
     "name": "stderr",
     "output_type": "stream",
     "text": [
      "/opt/conda/lib/python3.6/site-packages/matplotlib/figure.py:98: MatplotlibDeprecationWarning: \n",
      "Adding an axes using the same arguments as a previous axes currently reuses the earlier instance.  In a future version, a new instance will always be created and returned.  Meanwhile, this warning can be suppressed, and the future behavior ensured, by passing a unique label to each axes instance.\n",
      "  \"Adding an axes using the same arguments as a previous axes \"\n"
     ]
    },
    {
     "data": {
      "text/plain": [
       "<matplotlib.legend.Legend at 0x7f1ecd953be0>"
      ]
     },
     "execution_count": 74,
     "metadata": {},
     "output_type": "execute_result"
    },
    {
     "data": {
      "image/png": "[encoded data removed]",
      "text/plain": [
       "<Figure size 432x288 with 1 Axes>"
      ]
     },
     "metadata": {},
     "output_type": "display_data"
    }
   ],
   "source": [
    "plt.plot(y_train_og, y_train_pred_og, '.', label='Data')\n",
    "plt.plot([0, 400000], [0, 400000], label='Ideal')\n",
    "plt.axes().set_aspect('equal')\n",
    "plt.legend()"
   ]
  },
  {
   "cell_type": "markdown",
   "metadata": {},
   "source": [
    "### Test set"
   ]
  },
  {
   "cell_type": "code",
   "execution_count": 75,
   "metadata": {},
   "outputs": [],
   "source": [
    "y_pred_og = lr.fit(X_train_og, y_train_og).predict(X_test_og)"
   ]
  },
  {
   "cell_type": "code",
   "execution_count": 76,
   "metadata": {},
   "outputs": [
    {
     "name": "stderr",
     "output_type": "stream",
     "text": [
      "/opt/conda/lib/python3.6/site-packages/matplotlib/figure.py:98: MatplotlibDeprecationWarning: \n",
      "Adding an axes using the same arguments as a previous axes currently reuses the earlier instance.  In a future version, a new instance will always be created and returned.  Meanwhile, this warning can be suppressed, and the future behavior ensured, by passing a unique label to each axes instance.\n",
      "  \"Adding an axes using the same arguments as a previous axes \"\n"
     ]
    },
    {
     "data": {
      "text/plain": [
       "<matplotlib.legend.Legend at 0x7f1ecd8b4978>"
      ]
     },
     "execution_count": 76,
     "metadata": {},
     "output_type": "execute_result"
    },
    {
     "data": {
      "image/png": "[encoded data removed]",
      "text/plain": [
       "<Figure size 432x288 with 1 Axes>"
      ]
     },
     "metadata": {},
     "output_type": "display_data"
    }
   ],
   "source": [
    "plt.plot(y_test_og, y_pred_og, '.', label='Data')\n",
    "plt.plot([0, 400000], [0, 400000], label='Ideal')\n",
    "plt.axes().set_aspect('equal')\n",
    "plt.legend()"
   ]
  },
  {
   "cell_type": "markdown",
   "metadata": {},
   "source": [
    "## **Decision Tree Regressor**"
   ]
  },
  {
   "cell_type": "code",
   "execution_count": 77,
   "metadata": {},
   "outputs": [],
   "source": [
    "dt = DecisionTreeRegressor(max_depth=10)"
   ]
  },
  {
   "cell_type": "code",
   "execution_count": 78,
   "metadata": {},
   "outputs": [
    {
     "name": "stdout",
     "output_type": "stream",
     "text": [
      "Calculation time: 96.17 [sec]\n"
     ]
    }
   ],
   "source": [
    "t1 = time()\n",
    "\n",
    "scores = cross_val_score(dt, X_train_og, y_train_og, \n",
    "                         scoring='neg_mean_squared_error', cv=10)\n",
    "\n",
    "print (\"Calculation time: {:.2f} [sec]\".format(time()-t1))"
   ]
  },
  {
   "cell_type": "code",
   "execution_count": 79,
   "metadata": {},
   "outputs": [
    {
     "name": "stdout",
     "output_type": "stream",
     "text": [
      "[5578.64650355 5701.09388317 5611.16661629 5417.98008365 5667.11390853\n",
      " 5727.77206576 5517.87856563 5748.34934084 5318.19152647 5550.71776591]\n",
      "Mean: 5583.8910259791855\n",
      "Std: 131.43937257044192\n"
     ]
    }
   ],
   "source": [
    "show_results(scores)"
   ]
  },
  {
   "cell_type": "markdown",
   "metadata": {},
   "source": [
    "### Train set"
   ]
  },
  {
   "cell_type": "code",
   "execution_count": 80,
   "metadata": {},
   "outputs": [],
   "source": [
    "y_train_pred_og = dt.fit(X_train_og, y_train_og).predict(X_train_og)"
   ]
  },
  {
   "cell_type": "code",
   "execution_count": 81,
   "metadata": {},
   "outputs": [
    {
     "name": "stderr",
     "output_type": "stream",
     "text": [
      "/opt/conda/lib/python3.6/site-packages/matplotlib/figure.py:98: MatplotlibDeprecationWarning: \n",
      "Adding an axes using the same arguments as a previous axes currently reuses the earlier instance.  In a future version, a new instance will always be created and returned.  Meanwhile, this warning can be suppressed, and the future behavior ensured, by passing a unique label to each axes instance.\n",
      "  \"Adding an axes using the same arguments as a previous axes \"\n"
     ]
    },
    {
     "data": {
      "text/plain": [
       "<matplotlib.legend.Legend at 0x7f1ecd819d30>"
      ]
     },
     "execution_count": 81,
     "metadata": {},
     "output_type": "execute_result"
    },
    {
     "data": {
      "image/png": "[encoded data removed]",
      "text/plain": [
       "<Figure size 432x288 with 1 Axes>"
      ]
     },
     "metadata": {},
     "output_type": "display_data"
    }
   ],
   "source": [
    "plt.plot(y_train_og, y_train_pred_og, '.', label='Data')\n",
    "plt.plot([0, 400000], [0, 400000], label='Ideal')\n",
    "plt.axes().set_aspect('equal')\n",
    "plt.legend()"
   ]
  },
  {
   "cell_type": "markdown",
   "metadata": {},
   "source": [
    "### Test set"
   ]
  },
  {
   "cell_type": "code",
   "execution_count": 82,
   "metadata": {},
   "outputs": [],
   "source": [
    "y_pred_og = dt.fit(X_train_og, y_train_og).predict(X_test_og)"
   ]
  },
  {
   "cell_type": "code",
   "execution_count": 83,
   "metadata": {},
   "outputs": [
    {
     "name": "stderr",
     "output_type": "stream",
     "text": [
      "/opt/conda/lib/python3.6/site-packages/matplotlib/figure.py:98: MatplotlibDeprecationWarning: \n",
      "Adding an axes using the same arguments as a previous axes currently reuses the earlier instance.  In a future version, a new instance will always be created and returned.  Meanwhile, this warning can be suppressed, and the future behavior ensured, by passing a unique label to each axes instance.\n",
      "  \"Adding an axes using the same arguments as a previous axes \"\n"
     ]
    },
    {
     "data": {
      "text/plain": [
       "<matplotlib.legend.Legend at 0x7f1ecd7fcba8>"
      ]
     },
     "execution_count": 83,
     "metadata": {},
     "output_type": "execute_result"
    },
    {
     "data": {
      "image/png": "[encoded data removed]",
      "text/plain": [
       "<Figure size 432x288 with 1 Axes>"
      ]
     },
     "metadata": {},
     "output_type": "display_data"
    }
   ],
   "source": [
    "plt.plot(y_test_og, y_pred_og, '.', label='Data')\n",
    "plt.plot([0, 400000], [0, 400000], label='Ideal')\n",
    "plt.axes().set_aspect('equal')\n",
    "plt.legend()"
   ]
  },
  {
   "cell_type": "markdown",
   "metadata": {},
   "source": [
    "## Random Forest Regressor"
   ]
  },
  {
   "cell_type": "code",
   "execution_count": 84,
   "metadata": {},
   "outputs": [],
   "source": [
    "rf = RandomForestRegressor(max_depth=20, n_estimators=10, n_jobs=-1)"
   ]
  },
  {
   "cell_type": "code",
   "execution_count": 85,
   "metadata": {},
   "outputs": [
    {
     "name": "stdout",
     "output_type": "stream",
     "text": [
      "Calculation time: 322.13 [sec]\n"
     ]
    }
   ],
   "source": [
    "t1 = time()\n",
    "\n",
    "scores = cross_val_score(rf, X_train_og, y_train_og, \n",
    "                         scoring='neg_mean_squared_error', cv=10)\n",
    "\n",
    "print (\"Calculation time: {:.2f} [sec]\".format(time()-t1))"
   ]
  },
  {
   "cell_type": "code",
   "execution_count": 86,
   "metadata": {},
   "outputs": [
    {
     "name": "stdout",
     "output_type": "stream",
     "text": [
      "[3637.00533279 3887.47842205 3694.75285602 3600.891201   3890.76674412\n",
      " 3912.35279196 3652.17177041 4021.47466845 3521.28759037 3898.00444002]\n",
      "Mean: 3771.618581718558\n",
      "Std: 159.98043801001717\n"
     ]
    }
   ],
   "source": [
    "show_results(scores)"
   ]
  },
  {
   "cell_type": "markdown",
   "metadata": {},
   "source": [
    "### Train set"
   ]
  },
  {
   "cell_type": "code",
   "execution_count": 87,
   "metadata": {},
   "outputs": [],
   "source": [
    "y_train_pred_og = rf.fit(X_train_og, y_train_og).predict(X_train_og)"
   ]
  },
  {
   "cell_type": "code",
   "execution_count": 88,
   "metadata": {},
   "outputs": [
    {
     "name": "stderr",
     "output_type": "stream",
     "text": [
      "/opt/conda/lib/python3.6/site-packages/matplotlib/figure.py:98: MatplotlibDeprecationWarning: \n",
      "Adding an axes using the same arguments as a previous axes currently reuses the earlier instance.  In a future version, a new instance will always be created and returned.  Meanwhile, this warning can be suppressed, and the future behavior ensured, by passing a unique label to each axes instance.\n",
      "  \"Adding an axes using the same arguments as a previous axes \"\n"
     ]
    },
    {
     "data": {
      "text/plain": [
       "<matplotlib.legend.Legend at 0x7f1edb25c8d0>"
      ]
     },
     "execution_count": 88,
     "metadata": {},
     "output_type": "execute_result"
    },
    {
     "data": {
      "image/png": "[encoded data removed]",
      "text/plain": [
       "<Figure size 432x288 with 1 Axes>"
      ]
     },
     "metadata": {},
     "output_type": "display_data"
    }
   ],
   "source": [
    "plt.plot(y_train_og, y_train_pred_og, '.', label='Data')\n",
    "plt.plot([0, 500000], [0, 500000], label='Ideal')\n",
    "plt.axes().set_aspect('equal')\n",
    "plt.legend()"
   ]
  },
  {
   "cell_type": "markdown",
   "metadata": {},
   "source": [
    "### Test set"
   ]
  },
  {
   "cell_type": "code",
   "execution_count": 89,
   "metadata": {},
   "outputs": [],
   "source": [
    "y_pred_og = rf.fit(X_train_og, y_train_og).predict(X_test_og)"
   ]
  },
  {
   "cell_type": "code",
   "execution_count": 90,
   "metadata": {},
   "outputs": [
    {
     "name": "stderr",
     "output_type": "stream",
     "text": [
      "/opt/conda/lib/python3.6/site-packages/matplotlib/figure.py:98: MatplotlibDeprecationWarning: \n",
      "Adding an axes using the same arguments as a previous axes currently reuses the earlier instance.  In a future version, a new instance will always be created and returned.  Meanwhile, this warning can be suppressed, and the future behavior ensured, by passing a unique label to each axes instance.\n",
      "  \"Adding an axes using the same arguments as a previous axes \"\n"
     ]
    },
    {
     "data": {
      "text/plain": [
       "<matplotlib.legend.Legend at 0x7f1edb23bc88>"
      ]
     },
     "execution_count": 90,
     "metadata": {},
     "output_type": "execute_result"
    },
    {
     "data": {
      "image/png": "[encoded data removed]",
      "text/plain": [
       "<Figure size 432x288 with 1 Axes>"
      ]
     },
     "metadata": {},
     "output_type": "display_data"
    }
   ],
   "source": [
    "plt.plot(y_test_og, y_pred_og, '.', label='Data')\n",
    "plt.plot([0, 500000], [0, 500000], label='Ideal')\n",
    "plt.axes().set_aspect('equal')\n",
    "plt.legend()"
   ]
  },
  {
   "cell_type": "markdown",
   "metadata": {},
   "source": [
    "### Finding best max_depth for DT model"
   ]
  },
  {
   "cell_type": "code",
   "execution_count": 91,
   "metadata": {},
   "outputs": [],
   "source": [
    "#def show_results_scores(scores):\n",
    "#    scores_ = (-scores)**0.5\n",
    "#    return scores_.mean()\n",
    "#\n",
    "#t1 = time()\n",
    "#\n",
    "#max_depths = np.linspace(1, 25, 25, endpoint=True)\n",
    "#train_results = []\n",
    "#for max_depth in max_depths:\n",
    "#    dt = DecisionTreeRegressor(max_depth=max_depth)\n",
    "#    # Add score to previous train results\n",
    "#    scores = cross_val_score(dt, X_train_og, y_train_og, scoring='neg_mean_squared_error', cv=10)\n",
    "#    train_results.append(show_results_scores(scores))\n",
    "#print (\"Calculation time: {:.2f} [sec]\".format(time()-t1))\n",
    "#    \n",
    "#from matplotlib.legend_handler import HandlerLine2D\n",
    "#line1, = plt.plot(max_depths, train_results, 'b', label=\"Train Score\")\n",
    "#plt.legend(handler_map={line1: HandlerLine2D(numpoints=2)})\n",
    "#plt.ylabel('Score')\n",
    "#plt.xlabel('Tree depth')\n",
    "#plt.show()"
   ]
  },
  {
   "cell_type": "code",
   "execution_count": 92,
   "metadata": {},
   "outputs": [],
   "source": [
    "#t1 = time()\n",
    "#\n",
    "#min_samples_splits = np.linspace(0.1, 1.0, 10, endpoint=True)\n",
    "#train_results = []\n",
    "#for min_samples_split in min_samples_splits:\n",
    "#    dt = DecisionTreeRegressor(min_samples_split=min_samples_split)\n",
    "#    # Add score to previous train results\n",
    "#    scores = cross_val_score(dt, X_train_og, y_train_og, scoring='neg_mean_squared_error', cv=10)\n",
    "#    train_results.append(show_results_scores(scores))\n",
    "#print (\"Calculation time: {:.2f} [sec]\".format(time()-t1))\n",
    "#\n",
    "#from matplotlib.legend_handler import HandlerLine2D\n",
    "#line1, = plt.plot(min_samples_splits, train_results, 'b', label=\"Train Score\")\n",
    "#plt.legend(handler_map={line1: HandlerLine2D(numpoints=2)})\n",
    "#plt.ylabel('Score')\n",
    "#plt.xlabel('min samples split')\n",
    "#plt.show()"
   ]
  },
  {
   "cell_type": "markdown",
   "metadata": {},
   "source": [
    "### DT model - Grid Search"
   ]
  },
  {
   "cell_type": "code",
   "execution_count": 93,
   "metadata": {},
   "outputs": [],
   "source": [
    "#t1 = time()\n",
    "#dt_gs = GridSearchCV(dt, \n",
    "#                      param_grid={'max_depth': range(1, 21),\n",
    "#                                  'min_samples_split': range(5, 31),                                  \n",
    "#                                  'min_samples_leaf': range(5, 31)},\n",
    "#                      cv=10)\n",
    "#dt_gs.fit(X_train_og, y_train_og)\n",
    "#print (\"Calculation time: {:.2f} [sec]\".format(time()-t1))\n",
    "#print (\"Best parameters:\", dt_gs.best_params_)"
   ]
  },
  {
   "cell_type": "markdown",
   "metadata": {},
   "source": [
    "# Clustering"
   ]
  },
  {
   "cell_type": "code",
   "execution_count": 94,
   "metadata": {},
   "outputs": [],
   "source": [
    "gmm = GaussianMixture(n_components=4)"
   ]
  },
  {
   "cell_type": "code",
   "execution_count": 95,
   "metadata": {},
   "outputs": [],
   "source": [
    "clust = np.array(df[['Retirement', 'Health/Dental']])"
   ]
  },
  {
   "cell_type": "code",
   "execution_count": 96,
   "metadata": {},
   "outputs": [
    {
     "data": {
      "text/plain": [
       "(213202, 2)"
      ]
     },
     "execution_count": 96,
     "metadata": {},
     "output_type": "execute_result"
    }
   ],
   "source": [
    "clust.shape"
   ]
  },
  {
   "cell_type": "code",
   "execution_count": 97,
   "metadata": {},
   "outputs": [
    {
     "data": {
      "text/plain": [
       "GaussianMixture(covariance_type='full', init_params='kmeans', max_iter=100,\n",
       "        means_init=None, n_components=4, n_init=1, precisions_init=None,\n",
       "        random_state=None, reg_covar=1e-06, tol=0.001, verbose=0,\n",
       "        verbose_interval=10, warm_start=False, weights_init=None)"
      ]
     },
     "execution_count": 97,
     "metadata": {},
     "output_type": "execute_result"
    }
   ],
   "source": [
    "gmm.fit(clust)"
   ]
  },
  {
   "cell_type": "code",
   "execution_count": 98,
   "metadata": {},
   "outputs": [
    {
     "data": {
      "text/plain": [
       "array([[[ 1.09833957e+08,  1.80298816e+07],\n",
       "        [ 1.80298816e+07,  1.16407893e+07]],\n",
       "\n",
       "       [[ 1.85768107e+07,  1.59106886e+07],\n",
       "        [ 1.59106886e+07,  1.60533298e+07]],\n",
       "\n",
       "       [[ 1.00000000e-06,  1.69123030e-17],\n",
       "        [ 1.69123030e-17,  5.01211593e+06]],\n",
       "\n",
       "       [[ 2.78352056e+07, -1.65801303e+05],\n",
       "        [-1.65801303e+05,  3.20121411e+05]]])"
      ]
     },
     "execution_count": 98,
     "metadata": {},
     "output_type": "execute_result"
    }
   ],
   "source": [
    "gmm.means_\n",
    "gmm.covariances_\n",
    "#gmm.predict(X)"
   ]
  },
  {
   "cell_type": "code",
   "execution_count": 99,
   "metadata": {},
   "outputs": [
    {
     "data": {
      "image/png": "[encoded data removed]",
      "text/plain": [
       "<Figure size 432x288 with 1 Axes>"
      ]
     },
     "metadata": {},
     "output_type": "display_data"
    }
   ],
   "source": [
    "plt.scatter(clust[:,0], clust[:,1], s=2, c= gmm.predict(clust))\n",
    "plt.scatter(gmm.means_[:, 0], gmm.means_[:,1])\n",
    "plt.show()"
   ]
  },
  {
   "cell_type": "code",
   "execution_count": 100,
   "metadata": {},
   "outputs": [],
   "source": [
    "gmm = GaussianMixture(n_components=8)"
   ]
  },
  {
   "cell_type": "code",
   "execution_count": 101,
   "metadata": {},
   "outputs": [
    {
     "data": {
      "text/plain": [
       "GaussianMixture(covariance_type='full', init_params='kmeans', max_iter=100,\n",
       "        means_init=None, n_components=8, n_init=1, precisions_init=None,\n",
       "        random_state=None, reg_covar=1e-06, tol=0.001, verbose=0,\n",
       "        verbose_interval=10, warm_start=False, weights_init=None)"
      ]
     },
     "execution_count": 101,
     "metadata": {},
     "output_type": "execute_result"
    }
   ],
   "source": [
    "gmm.fit(clust)"
   ]
  },
  {
   "cell_type": "code",
   "execution_count": 102,
   "metadata": {},
   "outputs": [
    {
     "data": {
      "image/png": "[encoded data removed]",
      "text/plain": [
       "<Figure size 432x288 with 1 Axes>"
      ]
     },
     "metadata": {},
     "output_type": "display_data"
    }
   ],
   "source": [
    "plt.scatter(clust[:,0], clust[:,1], s=2, c= gmm.predict(clust))\n",
    "plt.scatter(gmm.means_[:, 0], gmm.means_[:,1])\n",
    "plt.show()"
   ]
  },
  {
   "cell_type": "code",
   "execution_count": 103,
   "metadata": {},
   "outputs": [],
   "source": [
    "clust_compensation = np.array(X_og[['Overtime', 'Other Salaries', 'Retirement', 'Health/Dental', 'Other Benefits']])"
   ]
  },
  {
   "cell_type": "code",
   "execution_count": 104,
   "metadata": {},
   "outputs": [],
   "source": [
    "gmm = GaussianMixture(n_components=4)"
   ]
  },
  {
   "cell_type": "code",
   "execution_count": 105,
   "metadata": {},
   "outputs": [],
   "source": [
    "clust_compensation_minmax = MinMaxScaler().fit_transform(clust_compensation)\n",
    "#pd.DataFrame(clust_compensation_minmax)"
   ]
  },
  {
   "cell_type": "code",
   "execution_count": 106,
   "metadata": {},
   "outputs": [
    {
     "data": {
      "text/plain": [
       "GaussianMixture(covariance_type='full', init_params='kmeans', max_iter=100,\n",
       "        means_init=None, n_components=4, n_init=1, precisions_init=None,\n",
       "        random_state=None, reg_covar=1e-06, tol=0.001, verbose=0,\n",
       "        verbose_interval=10, warm_start=False, weights_init=None)"
      ]
     },
     "execution_count": 106,
     "metadata": {},
     "output_type": "execute_result"
    }
   ],
   "source": [
    "gmm.fit(clust_compensation_minmax)\n",
    "#gmm.predict(clust_compensation)"
   ]
  },
  {
   "cell_type": "code",
   "execution_count": 107,
   "metadata": {},
   "outputs": [],
   "source": [
    "X_og['Clust Compensation'] = gmm.predict(clust_compensation_minmax)"
   ]
  },
  {
   "cell_type": "code",
   "execution_count": 108,
   "metadata": {},
   "outputs": [],
   "source": [
    "X_og = pd.get_dummies(X_og, columns=['Clust Compensation'])"
   ]
  },
  {
   "cell_type": "code",
   "execution_count": 109,
   "metadata": {},
   "outputs": [
    {
     "data": {
      "text/html": [
       "<div>\n",
       "<style scoped>\n",
       "    .dataframe tbody tr th:only-of-type {\n",
       "        vertical-align: middle;\n",
       "    }\n",
       "\n",
       "    .dataframe tbody tr th {\n",
       "        vertical-align: top;\n",
       "    }\n",
       "\n",
       "    .dataframe thead th {\n",
       "        text-align: right;\n",
       "    }\n",
       "</style>\n",
       "<table border=\"1\" class=\"dataframe\">\n",
       "  <thead>\n",
       "    <tr style=\"text-align: right;\">\n",
       "      <th></th>\n",
       "      <th>Overtime</th>\n",
       "      <th>Other Salaries</th>\n",
       "      <th>Retirement</th>\n",
       "      <th>Health/Dental</th>\n",
       "      <th>Other Benefits</th>\n",
       "      <th>Year_2013</th>\n",
       "      <th>Year_2014</th>\n",
       "      <th>Year_2015</th>\n",
       "      <th>Year_2016</th>\n",
       "      <th>Year_2017</th>\n",
       "      <th>Organization Group Code_1</th>\n",
       "      <th>Organization Group Code_2</th>\n",
       "      <th>Organization Group Code_3</th>\n",
       "      <th>Organization Group Code_4</th>\n",
       "      <th>Organization Group Code_5</th>\n",
       "      <th>Organization Group Code_6</th>\n",
       "      <th>Organization Group Code_7</th>\n",
       "      <th>Department Code_AAM</th>\n",
       "      <th>Department Code_ADM</th>\n",
       "      <th>Department Code_ADP</th>\n",
       "      <th>Department Code_AIR</th>\n",
       "      <th>Department Code_ART</th>\n",
       "      <th>Department Code_ASR</th>\n",
       "      <th>Department Code_BOS</th>\n",
       "      <th>Department Code_CAT</th>\n",
       "      <th>Department Code_CFC</th>\n",
       "      <th>Department Code_CHF</th>\n",
       "      <th>Department Code_CII</th>\n",
       "      <th>Department Code_CLP</th>\n",
       "      <th>Department Code_CON</th>\n",
       "      <th>Department Code_CPC</th>\n",
       "      <th>Department Code_CRT</th>\n",
       "      <th>Department Code_CSC</th>\n",
       "      <th>Department Code_CSS</th>\n",
       "      <th>Department Code_CWP</th>\n",
       "      <th>Department Code_DAT</th>\n",
       "      <th>Department Code_DBI</th>\n",
       "      <th>Department Code_DPH</th>\n",
       "      <th>Department Code_DPW</th>\n",
       "      <th>Department Code_DSS</th>\n",
       "      <th>...</th>\n",
       "      <th>Job Code_H022</th>\n",
       "      <th>Job Code_H030</th>\n",
       "      <th>Job Code_H032</th>\n",
       "      <th>Job Code_H033</th>\n",
       "      <th>Job Code_H040</th>\n",
       "      <th>Job Code_H050</th>\n",
       "      <th>Job Code_H051</th>\n",
       "      <th>Job Code_H053</th>\n",
       "      <th>Job Code_H110</th>\n",
       "      <th>Job Code_H120</th>\n",
       "      <th>Job Code_O030</th>\n",
       "      <th>Job Code_O035</th>\n",
       "      <th>Job Code_O535</th>\n",
       "      <th>Job Code_O590</th>\n",
       "      <th>Job Code_O615</th>\n",
       "      <th>Job Code_O695</th>\n",
       "      <th>Job Code_O775</th>\n",
       "      <th>Job Code_O840</th>\n",
       "      <th>Job Code_O865</th>\n",
       "      <th>Job Code_O890</th>\n",
       "      <th>Job Code_O970</th>\n",
       "      <th>Job Code_O990</th>\n",
       "      <th>Job Code_P103</th>\n",
       "      <th>Job Code_Q002</th>\n",
       "      <th>Job Code_Q003</th>\n",
       "      <th>Job Code_Q004</th>\n",
       "      <th>Job Code_Q035</th>\n",
       "      <th>Job Code_Q036</th>\n",
       "      <th>Job Code_Q037</th>\n",
       "      <th>Job Code_Q050</th>\n",
       "      <th>Job Code_Q051</th>\n",
       "      <th>Job Code_Q052</th>\n",
       "      <th>Job Code_Q060</th>\n",
       "      <th>Job Code_Q061</th>\n",
       "      <th>Job Code_Q062</th>\n",
       "      <th>Job Code_Q082</th>\n",
       "      <th>Clust Compensation_0</th>\n",
       "      <th>Clust Compensation_1</th>\n",
       "      <th>Clust Compensation_2</th>\n",
       "      <th>Clust Compensation_3</th>\n",
       "    </tr>\n",
       "  </thead>\n",
       "  <tbody>\n",
       "    <tr>\n",
       "      <th>0</th>\n",
       "      <td>76853.77</td>\n",
       "      <td>14922.05</td>\n",
       "      <td>24574.98</td>\n",
       "      <td>14920.13</td>\n",
       "      <td>3589.87</td>\n",
       "      <td>1</td>\n",
       "      <td>0</td>\n",
       "      <td>0</td>\n",
       "      <td>0</td>\n",
       "      <td>0</td>\n",
       "      <td>1</td>\n",
       "      <td>0</td>\n",
       "      <td>0</td>\n",
       "      <td>0</td>\n",
       "      <td>0</td>\n",
       "      <td>0</td>\n",
       "      <td>0</td>\n",
       "      <td>0</td>\n",
       "      <td>0</td>\n",
       "      <td>0</td>\n",
       "      <td>0</td>\n",
       "      <td>0</td>\n",
       "      <td>0</td>\n",
       "      <td>0</td>\n",
       "      <td>0</td>\n",
       "      <td>0</td>\n",
       "      <td>0</td>\n",
       "      <td>0</td>\n",
       "      <td>0</td>\n",
       "      <td>0</td>\n",
       "      <td>0</td>\n",
       "      <td>0</td>\n",
       "      <td>0</td>\n",
       "      <td>0</td>\n",
       "      <td>0</td>\n",
       "      <td>0</td>\n",
       "      <td>0</td>\n",
       "      <td>0</td>\n",
       "      <td>0</td>\n",
       "      <td>0</td>\n",
       "      <td>...</td>\n",
       "      <td>0</td>\n",
       "      <td>0</td>\n",
       "      <td>0</td>\n",
       "      <td>0</td>\n",
       "      <td>0</td>\n",
       "      <td>0</td>\n",
       "      <td>0</td>\n",
       "      <td>0</td>\n",
       "      <td>0</td>\n",
       "      <td>0</td>\n",
       "      <td>0</td>\n",
       "      <td>0</td>\n",
       "      <td>0</td>\n",
       "      <td>0</td>\n",
       "      <td>0</td>\n",
       "      <td>0</td>\n",
       "      <td>0</td>\n",
       "      <td>0</td>\n",
       "      <td>0</td>\n",
       "      <td>0</td>\n",
       "      <td>0</td>\n",
       "      <td>0</td>\n",
       "      <td>0</td>\n",
       "      <td>0</td>\n",
       "      <td>0</td>\n",
       "      <td>0</td>\n",
       "      <td>0</td>\n",
       "      <td>0</td>\n",
       "      <td>0</td>\n",
       "      <td>0</td>\n",
       "      <td>0</td>\n",
       "      <td>0</td>\n",
       "      <td>0</td>\n",
       "      <td>0</td>\n",
       "      <td>0</td>\n",
       "      <td>0</td>\n",
       "      <td>1</td>\n",
       "      <td>0</td>\n",
       "      <td>0</td>\n",
       "      <td>0</td>\n",
       "    </tr>\n",
       "    <tr>\n",
       "      <th>1</th>\n",
       "      <td>7341.04</td>\n",
       "      <td>9218.74</td>\n",
       "      <td>14897.71</td>\n",
       "      <td>12516.70</td>\n",
       "      <td>6117.99</td>\n",
       "      <td>0</td>\n",
       "      <td>1</td>\n",
       "      <td>0</td>\n",
       "      <td>0</td>\n",
       "      <td>0</td>\n",
       "      <td>0</td>\n",
       "      <td>1</td>\n",
       "      <td>0</td>\n",
       "      <td>0</td>\n",
       "      <td>0</td>\n",
       "      <td>0</td>\n",
       "      <td>0</td>\n",
       "      <td>0</td>\n",
       "      <td>0</td>\n",
       "      <td>0</td>\n",
       "      <td>0</td>\n",
       "      <td>0</td>\n",
       "      <td>0</td>\n",
       "      <td>0</td>\n",
       "      <td>0</td>\n",
       "      <td>0</td>\n",
       "      <td>0</td>\n",
       "      <td>0</td>\n",
       "      <td>0</td>\n",
       "      <td>0</td>\n",
       "      <td>0</td>\n",
       "      <td>0</td>\n",
       "      <td>0</td>\n",
       "      <td>0</td>\n",
       "      <td>0</td>\n",
       "      <td>0</td>\n",
       "      <td>0</td>\n",
       "      <td>0</td>\n",
       "      <td>0</td>\n",
       "      <td>0</td>\n",
       "      <td>...</td>\n",
       "      <td>0</td>\n",
       "      <td>0</td>\n",
       "      <td>0</td>\n",
       "      <td>0</td>\n",
       "      <td>0</td>\n",
       "      <td>0</td>\n",
       "      <td>0</td>\n",
       "      <td>0</td>\n",
       "      <td>0</td>\n",
       "      <td>0</td>\n",
       "      <td>0</td>\n",
       "      <td>0</td>\n",
       "      <td>0</td>\n",
       "      <td>0</td>\n",
       "      <td>0</td>\n",
       "      <td>0</td>\n",
       "      <td>0</td>\n",
       "      <td>0</td>\n",
       "      <td>0</td>\n",
       "      <td>0</td>\n",
       "      <td>0</td>\n",
       "      <td>0</td>\n",
       "      <td>0</td>\n",
       "      <td>0</td>\n",
       "      <td>0</td>\n",
       "      <td>0</td>\n",
       "      <td>0</td>\n",
       "      <td>0</td>\n",
       "      <td>0</td>\n",
       "      <td>0</td>\n",
       "      <td>0</td>\n",
       "      <td>0</td>\n",
       "      <td>0</td>\n",
       "      <td>0</td>\n",
       "      <td>0</td>\n",
       "      <td>0</td>\n",
       "      <td>1</td>\n",
       "      <td>0</td>\n",
       "      <td>0</td>\n",
       "      <td>0</td>\n",
       "    </tr>\n",
       "    <tr>\n",
       "      <th>2</th>\n",
       "      <td>0.00</td>\n",
       "      <td>390.00</td>\n",
       "      <td>6996.41</td>\n",
       "      <td>11308.96</td>\n",
       "      <td>3200.69</td>\n",
       "      <td>0</td>\n",
       "      <td>0</td>\n",
       "      <td>0</td>\n",
       "      <td>1</td>\n",
       "      <td>0</td>\n",
       "      <td>0</td>\n",
       "      <td>1</td>\n",
       "      <td>0</td>\n",
       "      <td>0</td>\n",
       "      <td>0</td>\n",
       "      <td>0</td>\n",
       "      <td>0</td>\n",
       "      <td>0</td>\n",
       "      <td>0</td>\n",
       "      <td>0</td>\n",
       "      <td>1</td>\n",
       "      <td>0</td>\n",
       "      <td>0</td>\n",
       "      <td>0</td>\n",
       "      <td>0</td>\n",
       "      <td>0</td>\n",
       "      <td>0</td>\n",
       "      <td>0</td>\n",
       "      <td>0</td>\n",
       "      <td>0</td>\n",
       "      <td>0</td>\n",
       "      <td>0</td>\n",
       "      <td>0</td>\n",
       "      <td>0</td>\n",
       "      <td>0</td>\n",
       "      <td>0</td>\n",
       "      <td>0</td>\n",
       "      <td>0</td>\n",
       "      <td>0</td>\n",
       "      <td>0</td>\n",
       "      <td>...</td>\n",
       "      <td>0</td>\n",
       "      <td>0</td>\n",
       "      <td>0</td>\n",
       "      <td>0</td>\n",
       "      <td>0</td>\n",
       "      <td>0</td>\n",
       "      <td>0</td>\n",
       "      <td>0</td>\n",
       "      <td>0</td>\n",
       "      <td>0</td>\n",
       "      <td>0</td>\n",
       "      <td>0</td>\n",
       "      <td>0</td>\n",
       "      <td>0</td>\n",
       "      <td>0</td>\n",
       "      <td>0</td>\n",
       "      <td>0</td>\n",
       "      <td>0</td>\n",
       "      <td>0</td>\n",
       "      <td>0</td>\n",
       "      <td>0</td>\n",
       "      <td>0</td>\n",
       "      <td>0</td>\n",
       "      <td>0</td>\n",
       "      <td>0</td>\n",
       "      <td>0</td>\n",
       "      <td>0</td>\n",
       "      <td>0</td>\n",
       "      <td>0</td>\n",
       "      <td>0</td>\n",
       "      <td>0</td>\n",
       "      <td>0</td>\n",
       "      <td>0</td>\n",
       "      <td>0</td>\n",
       "      <td>0</td>\n",
       "      <td>0</td>\n",
       "      <td>0</td>\n",
       "      <td>0</td>\n",
       "      <td>1</td>\n",
       "      <td>0</td>\n",
       "    </tr>\n",
       "    <tr>\n",
       "      <th>3</th>\n",
       "      <td>26633.83</td>\n",
       "      <td>4494.98</td>\n",
       "      <td>21231.91</td>\n",
       "      <td>13417.45</td>\n",
       "      <td>7449.63</td>\n",
       "      <td>0</td>\n",
       "      <td>0</td>\n",
       "      <td>1</td>\n",
       "      <td>0</td>\n",
       "      <td>0</td>\n",
       "      <td>0</td>\n",
       "      <td>1</td>\n",
       "      <td>0</td>\n",
       "      <td>0</td>\n",
       "      <td>0</td>\n",
       "      <td>0</td>\n",
       "      <td>0</td>\n",
       "      <td>0</td>\n",
       "      <td>0</td>\n",
       "      <td>0</td>\n",
       "      <td>0</td>\n",
       "      <td>0</td>\n",
       "      <td>0</td>\n",
       "      <td>0</td>\n",
       "      <td>0</td>\n",
       "      <td>0</td>\n",
       "      <td>0</td>\n",
       "      <td>0</td>\n",
       "      <td>0</td>\n",
       "      <td>0</td>\n",
       "      <td>0</td>\n",
       "      <td>0</td>\n",
       "      <td>0</td>\n",
       "      <td>0</td>\n",
       "      <td>0</td>\n",
       "      <td>0</td>\n",
       "      <td>0</td>\n",
       "      <td>0</td>\n",
       "      <td>0</td>\n",
       "      <td>0</td>\n",
       "      <td>...</td>\n",
       "      <td>0</td>\n",
       "      <td>0</td>\n",
       "      <td>0</td>\n",
       "      <td>0</td>\n",
       "      <td>0</td>\n",
       "      <td>0</td>\n",
       "      <td>0</td>\n",
       "      <td>0</td>\n",
       "      <td>0</td>\n",
       "      <td>0</td>\n",
       "      <td>0</td>\n",
       "      <td>0</td>\n",
       "      <td>0</td>\n",
       "      <td>0</td>\n",
       "      <td>0</td>\n",
       "      <td>0</td>\n",
       "      <td>0</td>\n",
       "      <td>0</td>\n",
       "      <td>0</td>\n",
       "      <td>0</td>\n",
       "      <td>0</td>\n",
       "      <td>0</td>\n",
       "      <td>0</td>\n",
       "      <td>0</td>\n",
       "      <td>0</td>\n",
       "      <td>0</td>\n",
       "      <td>0</td>\n",
       "      <td>0</td>\n",
       "      <td>0</td>\n",
       "      <td>0</td>\n",
       "      <td>0</td>\n",
       "      <td>0</td>\n",
       "      <td>0</td>\n",
       "      <td>0</td>\n",
       "      <td>0</td>\n",
       "      <td>0</td>\n",
       "      <td>1</td>\n",
       "      <td>0</td>\n",
       "      <td>0</td>\n",
       "      <td>0</td>\n",
       "    </tr>\n",
       "    <tr>\n",
       "      <th>4</th>\n",
       "      <td>0.00</td>\n",
       "      <td>0.00</td>\n",
       "      <td>13522.95</td>\n",
       "      <td>11989.39</td>\n",
       "      <td>5977.19</td>\n",
       "      <td>1</td>\n",
       "      <td>0</td>\n",
       "      <td>0</td>\n",
       "      <td>0</td>\n",
       "      <td>0</td>\n",
       "      <td>0</td>\n",
       "      <td>1</td>\n",
       "      <td>0</td>\n",
       "      <td>0</td>\n",
       "      <td>0</td>\n",
       "      <td>0</td>\n",
       "      <td>0</td>\n",
       "      <td>0</td>\n",
       "      <td>0</td>\n",
       "      <td>0</td>\n",
       "      <td>0</td>\n",
       "      <td>0</td>\n",
       "      <td>0</td>\n",
       "      <td>0</td>\n",
       "      <td>0</td>\n",
       "      <td>0</td>\n",
       "      <td>0</td>\n",
       "      <td>0</td>\n",
       "      <td>0</td>\n",
       "      <td>0</td>\n",
       "      <td>0</td>\n",
       "      <td>0</td>\n",
       "      <td>0</td>\n",
       "      <td>0</td>\n",
       "      <td>0</td>\n",
       "      <td>0</td>\n",
       "      <td>0</td>\n",
       "      <td>0</td>\n",
       "      <td>1</td>\n",
       "      <td>0</td>\n",
       "      <td>...</td>\n",
       "      <td>0</td>\n",
       "      <td>0</td>\n",
       "      <td>0</td>\n",
       "      <td>0</td>\n",
       "      <td>0</td>\n",
       "      <td>0</td>\n",
       "      <td>0</td>\n",
       "      <td>0</td>\n",
       "      <td>0</td>\n",
       "      <td>0</td>\n",
       "      <td>0</td>\n",
       "      <td>0</td>\n",
       "      <td>0</td>\n",
       "      <td>0</td>\n",
       "      <td>0</td>\n",
       "      <td>0</td>\n",
       "      <td>0</td>\n",
       "      <td>0</td>\n",
       "      <td>0</td>\n",
       "      <td>0</td>\n",
       "      <td>0</td>\n",
       "      <td>0</td>\n",
       "      <td>0</td>\n",
       "      <td>0</td>\n",
       "      <td>0</td>\n",
       "      <td>0</td>\n",
       "      <td>0</td>\n",
       "      <td>0</td>\n",
       "      <td>0</td>\n",
       "      <td>0</td>\n",
       "      <td>0</td>\n",
       "      <td>0</td>\n",
       "      <td>0</td>\n",
       "      <td>0</td>\n",
       "      <td>0</td>\n",
       "      <td>0</td>\n",
       "      <td>0</td>\n",
       "      <td>0</td>\n",
       "      <td>0</td>\n",
       "      <td>1</td>\n",
       "    </tr>\n",
       "  </tbody>\n",
       "</table>\n",
       "</div>"
      ],
      "text/plain": [
       "   Overtime          ...           Clust Compensation_3\n",
       "0  76853.77          ...                              0\n",
       "1   7341.04          ...                              0\n",
       "2      0.00          ...                              0\n",
       "3  26633.83          ...                              0\n",
       "4      0.00          ...                              1\n",
       "\n",
       "[5 rows x 1314 columns]"
      ]
     },
     "execution_count": 109,
     "metadata": {},
     "output_type": "execute_result"
    }
   ],
   "source": [
    "X_og.head()"
   ]
  },
  {
   "cell_type": "code",
   "execution_count": 110,
   "metadata": {},
   "outputs": [
    {
     "name": "stdout",
     "output_type": "stream",
     "text": [
      "(110977, 1314) (110977,)\n",
      "(36993, 1314) (36993,)\n"
     ]
    }
   ],
   "source": [
    "X_train_og, X_test_og, y_train_og, y_test_og = split(X_og, y_og)\n",
    "print(X_train_og.shape, y_train_og.shape)\n",
    "print(X_test_og.shape, y_test_og.shape)"
   ]
  },
  {
   "cell_type": "code",
   "execution_count": 111,
   "metadata": {},
   "outputs": [
    {
     "name": "stdout",
     "output_type": "stream",
     "text": [
      "[7645.50647177 7533.31285808 7737.28790243 7670.44394639 7826.26886779\n",
      " 7671.67460467 7883.85720908 7541.15221855 7732.95128022 7774.77558735]\n",
      "Mean: 7701.723094630628\n",
      "Std: 107.44665031958867\n"
     ]
    }
   ],
   "source": [
    "scores = cross_val_score(lr, X_train_og, y_train_og, \n",
    "                         scoring='neg_mean_squared_error', cv=10)\n",
    "\n",
    "show_results(scores)"
   ]
  },
  {
   "cell_type": "code",
   "execution_count": 112,
   "metadata": {},
   "outputs": [],
   "source": [
    "y_train_pred_og = lr.fit(X_train_og, y_train_og).predict(X_train_og)"
   ]
  },
  {
   "cell_type": "code",
   "execution_count": 113,
   "metadata": {},
   "outputs": [
    {
     "name": "stderr",
     "output_type": "stream",
     "text": [
      "/opt/conda/lib/python3.6/site-packages/matplotlib/figure.py:98: MatplotlibDeprecationWarning: \n",
      "Adding an axes using the same arguments as a previous axes currently reuses the earlier instance.  In a future version, a new instance will always be created and returned.  Meanwhile, this warning can be suppressed, and the future behavior ensured, by passing a unique label to each axes instance.\n",
      "  \"Adding an axes using the same arguments as a previous axes \"\n"
     ]
    },
    {
     "data": {
      "text/plain": [
       "<matplotlib.legend.Legend at 0x7f1edb0efcf8>"
      ]
     },
     "execution_count": 113,
     "metadata": {},
     "output_type": "execute_result"
    },
    {
     "data": {
      "image/png": "[encoded data removed]",
      "text/plain": [
       "<Figure size 432x288 with 1 Axes>"
      ]
     },
     "metadata": {},
     "output_type": "display_data"
    }
   ],
   "source": [
    "plt.plot(y_train_og, y_train_pred_og, '.', label='Data')\n",
    "plt.plot([0, 400000], [0, 400000], label='Ideal')\n",
    "plt.axes().set_aspect('equal')\n",
    "plt.legend()"
   ]
  }
 ],
 "metadata": {
  "kernelspec": {
   "display_name": "Python 3",
   "language": "python",
   "name": "python3"
  },
  "language_info": {
   "codemirror_mode": {
    "name": "ipython",
    "version": 3
   },
   "file_extension": ".py",
   "mimetype": "text/x-python",
   "name": "python",
   "nbconvert_exporter": "python",
   "pygments_lexer": "ipython3",
   "version": "3.6.4"
  }
 },
 "nbformat": 4,
 "nbformat_minor": 1
}
