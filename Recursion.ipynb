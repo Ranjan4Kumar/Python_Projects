{
  "nbformat": 4,
  "nbformat_minor": 0,
  "metadata": {
    "colab": {
      "provenance": [],
      "authorship_tag": "ABX9TyNK9ptFtqMyO1uqG836eH2H",
      "include_colab_link": true
    },
    "kernelspec": {
      "name": "python3",
      "display_name": "Python 3"
    },
    "language_info": {
      "name": "python"
    }
  },
  "cells": [
    {
      "cell_type": "markdown",
      "metadata": {
        "id": "view-in-github",
        "colab_type": "text"
      },
      "source": [
        "<a href=\"https://colab.research.google.com/github/Ranjan4Kumar/Python_Projects/blob/main/Recursion.ipynb\" target=\"_parent\"><img src=\"https://colab.research.google.com/assets/colab-badge.svg\" alt=\"Open In Colab\"/></a>"
      ]
    },
    {
      "cell_type": "code",
      "execution_count": null,
      "metadata": {
        "id": "nsNMaqdWLFFz"
      },
      "outputs": [],
      "source": [
        "# Direct recursion\n",
        "# print number from 1 to 10\n",
        "def natural(n):\n",
        "  if n<=0:\n",
        "    return\n",
        "  print(n, end = \" \")\n",
        "  natural(n-1)\n"
      ]
    },
    {
      "cell_type": "code",
      "source": [
        "natural(5)"
      ],
      "metadata": {
        "colab": {
          "base_uri": "https://localhost:8080/"
        },
        "id": "pbxp3va6MrTd",
        "outputId": "59073b27-f050-481f-e612-dcc830e83d97"
      },
      "execution_count": null,
      "outputs": [
        {
          "output_type": "stream",
          "name": "stdout",
          "text": [
            "5 4 3 2 1 "
          ]
        }
      ]
    },
    {
      "cell_type": "code",
      "source": [
        "# for printing a number from 1 to 10 using recursion\n",
        "def num(n):\n",
        "  if n<=0:\n",
        "    return n\n",
        "  print(n,end=' ')\n",
        "  num(n-1)"
      ],
      "metadata": {
        "id": "CiwzLB0EMxhW"
      },
      "execution_count": null,
      "outputs": []
    },
    {
      "cell_type": "code",
      "source": [
        "num(10)"
      ],
      "metadata": {
        "colab": {
          "base_uri": "https://localhost:8080/"
        },
        "id": "luftwS8LNS2_",
        "outputId": "d54f8948-edeb-4a81-996c-5b8d9e1bb89c"
      },
      "execution_count": null,
      "outputs": [
        {
          "output_type": "stream",
          "name": "stdout",
          "text": [
            "10 9 8 7 6 5 4 3 2 1 "
          ]
        }
      ]
    },
    {
      "cell_type": "code",
      "source": [
        "# multiply two number withour using any sign(*)\n",
        "# without for loop\n",
        "def multiply(x,y):\n",
        "  print(\"x:\",x,\"y:\",y)\n",
        "  if y==0:\n",
        "    return 0\n",
        "  else:\n",
        "    return x+multiply(x,y-1)"
      ],
      "metadata": {
        "id": "jl0b1mdyNV0j"
      },
      "execution_count": null,
      "outputs": []
    },
    {
      "cell_type": "code",
      "source": [
        "multiply(3,5)"
      ],
      "metadata": {
        "colab": {
          "base_uri": "https://localhost:8080/"
        },
        "id": "G0GGk3JZOBjP",
        "outputId": "99abcba8-35fc-4892-ca35-bba641bff956"
      },
      "execution_count": null,
      "outputs": [
        {
          "output_type": "stream",
          "name": "stdout",
          "text": [
            "x: 3 y: 5\n",
            "x: 3 y: 4\n",
            "x: 3 y: 3\n",
            "x: 3 y: 2\n",
            "x: 3 y: 1\n",
            "x: 3 y: 0\n"
          ]
        },
        {
          "output_type": "execute_result",
          "data": {
            "text/plain": [
              "15"
            ]
          },
          "metadata": {},
          "execution_count": 13
        }
      ]
    },
    {
      "cell_type": "code",
      "source": [
        "# sum of all the values in a list using recursion.\n",
        "def sum(list):\n",
        "  if len(list)==0:\n",
        "    return 0\n",
        "  else:\n",
        "    return list[0] + sum(list[1:])\n"
      ],
      "metadata": {
        "id": "BGwuHQv7OElW"
      },
      "execution_count": null,
      "outputs": []
    },
    {
      "cell_type": "code",
      "source": [
        "list1 = [1,2,3,4,5]\n",
        "sum(list1)"
      ],
      "metadata": {
        "colab": {
          "base_uri": "https://localhost:8080/"
        },
        "id": "4MZWg9Z-U9Zq",
        "outputId": "2eb42f96-fafb-4b10-dbce-ad368d7a3a20"
      },
      "execution_count": null,
      "outputs": [
        {
          "output_type": "execute_result",
          "data": {
            "text/plain": [
              "15"
            ]
          },
          "metadata": {},
          "execution_count": 15
        }
      ]
    },
    {
      "cell_type": "code",
      "source": [
        "# Reverse a string using recursion\n",
        "# We have to pass one string and other is length of string.\n",
        "def rev(str,l):\n",
        "  if l > 0:\n",
        "    print(str[l], end = \" \")\n",
        "    return rev(str,l-1)\n",
        "  if l==0:\n",
        "    return(str[0])"
      ],
      "metadata": {
        "id": "lVFykvHlVHpr"
      },
      "execution_count": null,
      "outputs": []
    },
    {
      "cell_type": "code",
      "source": [
        "str = input('Enter your string')\n",
        "print(rev(str, len(str)-1))"
      ],
      "metadata": {
        "colab": {
          "base_uri": "https://localhost:8080/"
        },
        "id": "ft6v0PvKWSzC",
        "outputId": "8d6dee7e-1abd-4a36-a376-041c26e9c5bc"
      },
      "execution_count": null,
      "outputs": [
        {
          "output_type": "stream",
          "name": "stdout",
          "text": [
            "Enter your stringRanjan\n",
            "n a j n a R\n"
          ]
        }
      ]
    },
    {
      "cell_type": "code",
      "source": [
        "# for reversing a string we have pass 2 parameters in the string and 1st is the string and other is the length of string.\n",
        "def rev1(str,l):\n",
        "  if l >0:\n",
        "    print(str[l], end=' ')\n",
        "    return rev(str,l-1)\n",
        "  if l==0:\n",
        "    return(str[0])"
      ],
      "metadata": {
        "id": "YRQDsIvKW-Lb"
      },
      "execution_count": null,
      "outputs": []
    },
    {
      "cell_type": "code",
      "source": [
        "str = input('Enter the string')\n",
        "print(rev1(str, len(str)-1))"
      ],
      "metadata": {
        "colab": {
          "base_uri": "https://localhost:8080/"
        },
        "id": "0ukdwuUhYM3r",
        "outputId": "f614e229-08f5-473c-e66c-dbb98a359732"
      },
      "execution_count": null,
      "outputs": [
        {
          "output_type": "stream",
          "name": "stdout",
          "text": [
            "Enter the stringmadam\n",
            "m a d a m\n"
          ]
        }
      ]
    },
    {
      "cell_type": "code",
      "source": [
        "## Using recursion checking string is palindrom or not.\n",
        "## Palindrom means the string written from back side or front side it should return same output\n",
        "def palindrom1(string):\n",
        "  if (len(string)<=1):\n",
        "    return True\n",
        "  if string[0] == string[len(string)-1]:\n",
        "    return palindrom1(string[1:len(string)-1])"
      ],
      "metadata": {
        "id": "f553x-xsYaqi"
      },
      "execution_count": null,
      "outputs": []
    },
    {
      "cell_type": "code",
      "source": [
        "##\n",
        "def pal(string):\n",
        "  if (len(string)<=1):\n",
        "    return True\n",
        "  if string[0] == string[len(string)-1]:\n",
        "    return pal(string[1:len(string)-1])\n",
        "  else:\n",
        "    return False"
      ],
      "metadata": {
        "id": "IVZZIT1XcWoH"
      },
      "execution_count": null,
      "outputs": []
    },
    {
      "cell_type": "code",
      "source": [
        "string = input('Enter your string')\n",
        "if pal(string):\n",
        "  print(string, 'is palindrom string')\n",
        "else:\n",
        "  print(string,'Not a palindrom string')"
      ],
      "metadata": {
        "colab": {
          "base_uri": "https://localhost:8080/"
        },
        "id": "lgluRCfUddlx",
        "outputId": "5625d52a-2ba5-4b65-aa95-f09e5a70c483"
      },
      "execution_count": null,
      "outputs": [
        {
          "output_type": "stream",
          "name": "stdout",
          "text": [
            "Enter your stringmadam\n",
            "madam is palindrom string\n"
          ]
        }
      ]
    },
    {
      "cell_type": "code",
      "source": [
        "# Pallindrom of string\n",
        "# Suppose we have a string\n",
        "def pal(string):\n",
        "  if (len(string)<=1):\n",
        "    return True\n",
        "  if string[0]==string[len(string)-1]:\n",
        "    return pal(string[1:len(string)-1])\n",
        "  else:\n",
        "    return False"
      ],
      "metadata": {
        "id": "tYij3P7zdmXN"
      },
      "execution_count": null,
      "outputs": []
    },
    {
      "cell_type": "code",
      "source": [
        "st = input('Enter your string')\n",
        "if pal(st):\n",
        "  print(st, 'is Pallindrome')\n",
        "else:\n",
        "  print('Not a pallindrome')"
      ],
      "metadata": {
        "colab": {
          "base_uri": "https://localhost:8080/"
        },
        "id": "QEcKW-RIUOn1",
        "outputId": "85e9c8c8-3dc9-48c0-c888-a5961c3e4ce1"
      },
      "execution_count": null,
      "outputs": [
        {
          "output_type": "stream",
          "name": "stdout",
          "text": [
            "Enter your stringmaam\n",
            "maam is Pallindrome\n"
          ]
        }
      ]
    },
    {
      "cell_type": "code",
      "source": [
        "# pallindrom of string\n",
        "def pali(string):\n",
        "  if (len(string)<=1):\n",
        "    return True\n",
        "  if string[0] == string[len(string)-1]:\n",
        "    return pali(string[1:len(string)-1])\n",
        "  else:\n",
        "    return False"
      ],
      "metadata": {
        "id": "LzA9CVB6UV1b"
      },
      "execution_count": null,
      "outputs": []
    },
    {
      "cell_type": "code",
      "source": [
        "stri = input('Enter your string')\n",
        "if pali(stri):\n",
        "  print(stri,\"Is a pallindrome string\")\n",
        "else:\n",
        "  print(stri, 'is not a pallindrom')"
      ],
      "metadata": {
        "colab": {
          "base_uri": "https://localhost:8080/"
        },
        "id": "jOGxW9dFWoga",
        "outputId": "a99bd1b3-773c-4f97-c2ea-50ab5197964c"
      },
      "execution_count": null,
      "outputs": [
        {
          "output_type": "stream",
          "name": "stdout",
          "text": [
            "Enter your string121\n",
            "121 Is a pallindrome string\n"
          ]
        }
      ]
    },
    {
      "cell_type": "code",
      "source": [
        "'''\n",
        "For checking the number is pallindrome or not we have to check it by converting into a string\n",
        "'''"
      ],
      "metadata": {
        "id": "_rYeMVXXXE-1"
      },
      "execution_count": null,
      "outputs": []
    },
    {
      "cell_type": "markdown",
      "source": [
        "### Binary Search in python using recursion"
      ],
      "metadata": {
        "id": "Ds25k_arcfLl"
      }
    },
    {
      "cell_type": "code",
      "source": [
        "# In binary search programm our array need to be sorted array than only it will work properly.\n",
        "# Binary search works after fiding the middle point/value\n",
        "# mid = (beigning + last/2) will retunr us the mid value.\n",
        "# the value which we have search we will find where it lies before beigning or at last.\n",
        "# our mid value wil become beigning, mid = beigning\n",
        "# if it lies at last we have to add 1 to = beg+1 , so beigning will get  increase by 1 and last is always a last\n",
        "# mid = (beigning+1 + last/2) = mid\n",
        "# mid = beigning\n",
        "# we check the value with the mid and compare that value and we will find the value of it matches its fine otherwise we will again find the mid.\n",
        "# and we will repeate the value\n",
        "# the value will get add with 1 because our search is in our greater part .\n",
        "# that's why we are adding it\n",
        "#\n",
        "\n",
        "# The process will be reversed if we find mid and our value of search is before our mid value\n",
        "# beigning = 0 alwyas but the\n",
        "# last will updated by last = last-1\n",
        "# And till we will find our value it will repeate the process.\n",
        "#\n",
        "\n",
        "# we will define a function in that we will pass and array and an element whihc we want to search and"
      ],
      "metadata": {
        "id": "mFIziT46bQfl"
      },
      "execution_count": null,
      "outputs": []
    },
    {
      "cell_type": "code",
      "source": [
        "\n",
        "def bsearch(ar, item):\n",
        "  beg = 0\n",
        "  last = len(ar)-1\n",
        "  while (beg <= last):\n",
        "    mid = int((beg+last)/2)\n",
        "    if (item==ar[mid]):\n",
        "      return mid\n",
        "    if item > ar[mid]:\n",
        "      beg  = mid+1\n",
        "    else:\n",
        "        last = mid - 1\n",
        "  else:\n",
        "    return False\n"
      ],
      "metadata": {
        "id": "waEFeSb5bcwM"
      },
      "execution_count": null,
      "outputs": []
    },
    {
      "cell_type": "code",
      "source": [
        "n = int(input('Enter size of Array or list'))\n",
        "print('enter number in ascendin order')\n",
        "a = []\n",
        "for i in range(n):\n",
        "  i = int(input(\"Enter number in POCKET [\"+str(i)+\"]\"))\n",
        "  a.append(i)\n",
        "item = int(input('Enter Search Item'))\n",
        "index=bsearch(a,item)\n",
        "if index:\n",
        "  print(\"Element found in position \",index)\n",
        "else:\n",
        "  print('Not found')"
      ],
      "metadata": {
        "colab": {
          "base_uri": "https://localhost:8080/"
        },
        "id": "f49CWaXQn0Hl",
        "outputId": "d2ac6c77-2582-4b97-cd4a-a98129937226"
      },
      "execution_count": null,
      "outputs": [
        {
          "output_type": "stream",
          "name": "stdout",
          "text": [
            "Enter size of Array or list10\n",
            "enter number in ascendin order\n",
            "Enter number in POCKET [0]11\n",
            "Enter number in POCKET [1]22\n",
            "Enter number in POCKET [2]33\n",
            "Enter number in POCKET [3]44\n",
            "Enter number in POCKET [4]55\n",
            "Enter number in POCKET [5]66\n",
            "Enter number in POCKET [6]77\n",
            "Enter number in POCKET [7]88\n",
            "Enter number in POCKET [8]99\n",
            "Enter number in POCKET [9]100\n",
            "Enter Search Item99\n",
            "Element found in position  8\n"
          ]
        }
      ]
    },
    {
      "cell_type": "code",
      "source": [
        "import math\n",
        "import os\n",
        "import random\n",
        "import re\n",
        "import sys\n",
        "def miniMaxSum(arr):\n",
        "    # Write your code here\n",
        "    arr = sorted(arr)\n",
        "    print(sum(arr[:-1]),sum(arr[1:]))\n",
        "if __name__ == '__main__':\n",
        "    arr = list(map(int, input().rstrip().split()))\n",
        "    miniMaxSum(arr)"
      ],
      "metadata": {
        "id": "judwnPU3o9Xg",
        "colab": {
          "base_uri": "https://localhost:8080/",
          "height": 373
        },
        "outputId": "8e56239f-424e-4a70-ba74-3697367e3036"
      },
      "execution_count": 1,
      "outputs": [
        {
          "output_type": "error",
          "ename": "KeyboardInterrupt",
          "evalue": "ignored",
          "traceback": [
            "\u001b[0;31m---------------------------------------------------------------------------\u001b[0m",
            "\u001b[0;31mKeyboardInterrupt\u001b[0m                         Traceback (most recent call last)",
            "\u001b[0;32m<ipython-input-1-6da6206e9380>\u001b[0m in \u001b[0;36m<cell line: 10>\u001b[0;34m()\u001b[0m\n\u001b[1;32m      9\u001b[0m     \u001b[0mprint\u001b[0m\u001b[0;34m(\u001b[0m\u001b[0msum\u001b[0m\u001b[0;34m(\u001b[0m\u001b[0marr\u001b[0m\u001b[0;34m[\u001b[0m\u001b[0;34m:\u001b[0m\u001b[0;34m-\u001b[0m\u001b[0;36m1\u001b[0m\u001b[0;34m]\u001b[0m\u001b[0;34m)\u001b[0m\u001b[0;34m,\u001b[0m\u001b[0msum\u001b[0m\u001b[0;34m(\u001b[0m\u001b[0marr\u001b[0m\u001b[0;34m[\u001b[0m\u001b[0;36m1\u001b[0m\u001b[0;34m:\u001b[0m\u001b[0;34m]\u001b[0m\u001b[0;34m)\u001b[0m\u001b[0;34m)\u001b[0m\u001b[0;34m\u001b[0m\u001b[0;34m\u001b[0m\u001b[0m\n\u001b[1;32m     10\u001b[0m \u001b[0;32mif\u001b[0m \u001b[0m__name__\u001b[0m \u001b[0;34m==\u001b[0m \u001b[0;34m'__main__'\u001b[0m\u001b[0;34m:\u001b[0m\u001b[0;34m\u001b[0m\u001b[0;34m\u001b[0m\u001b[0m\n\u001b[0;32m---> 11\u001b[0;31m     \u001b[0marr\u001b[0m \u001b[0;34m=\u001b[0m \u001b[0mlist\u001b[0m\u001b[0;34m(\u001b[0m\u001b[0mmap\u001b[0m\u001b[0;34m(\u001b[0m\u001b[0mint\u001b[0m\u001b[0;34m,\u001b[0m \u001b[0minput\u001b[0m\u001b[0;34m(\u001b[0m\u001b[0;34m)\u001b[0m\u001b[0;34m.\u001b[0m\u001b[0mrstrip\u001b[0m\u001b[0;34m(\u001b[0m\u001b[0;34m)\u001b[0m\u001b[0;34m.\u001b[0m\u001b[0msplit\u001b[0m\u001b[0;34m(\u001b[0m\u001b[0;34m)\u001b[0m\u001b[0;34m)\u001b[0m\u001b[0;34m)\u001b[0m\u001b[0;34m\u001b[0m\u001b[0;34m\u001b[0m\u001b[0m\n\u001b[0m\u001b[1;32m     12\u001b[0m     \u001b[0mminiMaxSum\u001b[0m\u001b[0;34m(\u001b[0m\u001b[0marr\u001b[0m\u001b[0;34m)\u001b[0m\u001b[0;34m\u001b[0m\u001b[0;34m\u001b[0m\u001b[0m\n",
            "\u001b[0;32m/usr/local/lib/python3.10/dist-packages/ipykernel/kernelbase.py\u001b[0m in \u001b[0;36mraw_input\u001b[0;34m(self, prompt)\u001b[0m\n\u001b[1;32m    849\u001b[0m                 \u001b[0;34m\"raw_input was called, but this frontend does not support input requests.\"\u001b[0m\u001b[0;34m\u001b[0m\u001b[0;34m\u001b[0m\u001b[0m\n\u001b[1;32m    850\u001b[0m             )\n\u001b[0;32m--> 851\u001b[0;31m         return self._input_request(str(prompt),\n\u001b[0m\u001b[1;32m    852\u001b[0m             \u001b[0mself\u001b[0m\u001b[0;34m.\u001b[0m\u001b[0m_parent_ident\u001b[0m\u001b[0;34m,\u001b[0m\u001b[0;34m\u001b[0m\u001b[0;34m\u001b[0m\u001b[0m\n\u001b[1;32m    853\u001b[0m             \u001b[0mself\u001b[0m\u001b[0;34m.\u001b[0m\u001b[0m_parent_header\u001b[0m\u001b[0;34m,\u001b[0m\u001b[0;34m\u001b[0m\u001b[0;34m\u001b[0m\u001b[0m\n",
            "\u001b[0;32m/usr/local/lib/python3.10/dist-packages/ipykernel/kernelbase.py\u001b[0m in \u001b[0;36m_input_request\u001b[0;34m(self, prompt, ident, parent, password)\u001b[0m\n\u001b[1;32m    893\u001b[0m             \u001b[0;32mexcept\u001b[0m \u001b[0mKeyboardInterrupt\u001b[0m\u001b[0;34m:\u001b[0m\u001b[0;34m\u001b[0m\u001b[0;34m\u001b[0m\u001b[0m\n\u001b[1;32m    894\u001b[0m                 \u001b[0;31m# re-raise KeyboardInterrupt, to truncate traceback\u001b[0m\u001b[0;34m\u001b[0m\u001b[0;34m\u001b[0m\u001b[0m\n\u001b[0;32m--> 895\u001b[0;31m                 \u001b[0;32mraise\u001b[0m \u001b[0mKeyboardInterrupt\u001b[0m\u001b[0;34m(\u001b[0m\u001b[0;34m\"Interrupted by user\"\u001b[0m\u001b[0;34m)\u001b[0m \u001b[0;32mfrom\u001b[0m \u001b[0;32mNone\u001b[0m\u001b[0;34m\u001b[0m\u001b[0;34m\u001b[0m\u001b[0m\n\u001b[0m\u001b[1;32m    896\u001b[0m             \u001b[0;32mexcept\u001b[0m \u001b[0mException\u001b[0m \u001b[0;32mas\u001b[0m \u001b[0me\u001b[0m\u001b[0;34m:\u001b[0m\u001b[0;34m\u001b[0m\u001b[0;34m\u001b[0m\u001b[0m\n\u001b[1;32m    897\u001b[0m                 \u001b[0mself\u001b[0m\u001b[0;34m.\u001b[0m\u001b[0mlog\u001b[0m\u001b[0;34m.\u001b[0m\u001b[0mwarning\u001b[0m\u001b[0;34m(\u001b[0m\u001b[0;34m\"Invalid Message:\"\u001b[0m\u001b[0;34m,\u001b[0m \u001b[0mexc_info\u001b[0m\u001b[0;34m=\u001b[0m\u001b[0;32mTrue\u001b[0m\u001b[0;34m)\u001b[0m\u001b[0;34m\u001b[0m\u001b[0;34m\u001b[0m\u001b[0m\n",
            "\u001b[0;31mKeyboardInterrupt\u001b[0m: Interrupted by user"
          ]
        }
      ]
    },
    {
      "cell_type": "code",
      "source": [
        "# Example list of numbers\n",
        "numbers = [2, 4, 6, 8, 10]\n",
        "\n",
        "# Calculate the sum of all numbers in the list\n",
        "total_sum = sum(numbers)\n",
        "\n",
        "# Print the total sum\n",
        "print(\"Sum of all numbers:\", total_sum)"
      ],
      "metadata": {
        "colab": {
          "base_uri": "https://localhost:8080/"
        },
        "id": "S9h3I7pLQYkn",
        "outputId": "a2bfd3a2-afad-4bbd-f261-b583b8066fc8"
      },
      "execution_count": 2,
      "outputs": [
        {
          "output_type": "stream",
          "name": "stdout",
          "text": [
            "Sum of all numbers: 30\n"
          ]
        }
      ]
    },
    {
      "cell_type": "code",
      "source": [],
      "metadata": {
        "id": "ShbvgAGfVbGC"
      },
      "execution_count": null,
      "outputs": []
    }
  ]
}