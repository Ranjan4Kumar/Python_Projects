{
  "nbformat": 4,
  "nbformat_minor": 0,
  "metadata": {
    "colab": {
      "provenance": [],
      "authorship_tag": "ABX9TyPUv9maxg3bbrygHKZpcL/e",
      "include_colab_link": true
    },
    "kernelspec": {
      "name": "python3",
      "display_name": "Python 3"
    },
    "language_info": {
      "name": "python"
    }
  },
  "cells": [
    {
      "cell_type": "markdown",
      "metadata": {
        "id": "view-in-github",
        "colab_type": "text"
      },
      "source": [
        "<a href=\"https://colab.research.google.com/github/Ranjan4Kumar/Python_Projects/blob/main/New_id_generator.ipynb\" target=\"_parent\"><img src=\"https://colab.research.google.com/assets/colab-badge.svg\" alt=\"Open In Colab\"/></a>"
      ]
    },
    {
      "cell_type": "code",
      "execution_count": 4,
      "metadata": {
        "colab": {
          "base_uri": "https://localhost:8080/"
        },
        "id": "nkmAMTMbnnKy",
        "outputId": "e30d7a3a-97a5-4f60-8acf-853c5be6ced8"
      },
      "outputs": [
        {
          "output_type": "stream",
          "name": "stdout",
          "text": [
            "What is your name:Ranjan1234\n",
            "Invalid Entry : Enter the correct anme\n",
            "What is your name:RK\n",
            "Invalid Entry : Enter the correct anme\n",
            "What is your name:RK\n",
            "Invalid Entry : Enter the correct anme\n",
            "What is your name:Rk\n",
            "Invalid Entry : Enter the correct anme\n",
            "What is your name:Ran\n",
            "Invalid Entry : Enter the correct anme\n",
            "What is your name:Ranjan\n",
            "Enter your age23r\n",
            "Invalid Age\n",
            "Enter your age22\n",
            "======================================\n",
            "Personal Details:\n",
            "=====================================\n",
            "Name: Ranjan\n",
            "Age: 22\n"
          ]
        }
      ],
      "source": [
        "\"\"\"\n",
        "This programe will enter valid details \n",
        "any invalid data will not be entered\n",
        "\"\"\"\n",
        "\n",
        "# This function will only take name as input any ohter fucky name will not be allowed\n",
        "\n",
        "def name_ask():\n",
        "\n",
        "  while True:\n",
        "    name = input(\"What is your name:\")\n",
        "    if name.replace(\" \",\"\").isalpha() and len(name)>3 :# The code will check that the name is alphabet and name is greater than 3\n",
        "      break\n",
        "    else:\n",
        "      print(\"Invalid Entry : Enter the correct name\")\n",
        "  return name\n",
        "\n",
        "def age_ask(): # checking if the entered age is valid\n",
        "  while True:\n",
        "    age = input(\"Enter your age\")\n",
        "    if age.isnumeric() and int(age)<100:\n",
        "      break\n",
        "    else:\n",
        "      print('Invalid Age')\n",
        "\n",
        "  return age\n",
        "\n",
        "\n",
        "def main():\n",
        "  entered_name = name_ask()\n",
        "  entered_age = age_ask()\n",
        "\n",
        "  print(\"======================================\")\n",
        "  print(\"Personal Details:\")\n",
        "  print(\"=====================================\")\n",
        "  print(f\"Name: {entered_name}\")\n",
        "  print(f\"Age: {entered_age}\")\n",
        "main()"
      ]
    },
    {
      "cell_type": "code",
      "source": [],
      "metadata": {
        "id": "FeqF13xhq1mV"
      },
      "execution_count": null,
      "outputs": []
    }
  ]
}