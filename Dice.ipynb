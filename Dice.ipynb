{
  "nbformat": 4,
  "nbformat_minor": 0,
  "metadata": {
    "colab": {
      "provenance": [],
      "authorship_tag": "ABX9TyO8t7GPncm6mwHwiKED2vpu",
      "include_colab_link": true
    },
    "kernelspec": {
      "name": "python3",
      "display_name": "Python 3"
    },
    "language_info": {
      "name": "python"
    }
  },
  "cells": [
    {
      "cell_type": "markdown",
      "metadata": {
        "id": "view-in-github",
        "colab_type": "text"
      },
      "source": [
        "<a href=\"https://colab.research.google.com/github/Ranjan4Kumar/Python_Projects/blob/main/Dice.ipynb\" target=\"_parent\"><img src=\"https://colab.research.google.com/assets/colab-badge.svg\" alt=\"Open In Colab\"/></a>"
      ]
    },
    {
      "cell_type": "code",
      "execution_count": 8,
      "metadata": {
        "id": "PUfcIfKZuKEt"
      },
      "outputs": [],
      "source": [
        "import random"
      ]
    },
    {
      "cell_type": "code",
      "source": [
        "def roll_dice(num_dice):\n",
        "  \"\"\" It will return a list of integers is a random numbers between 1 to 6\"\"\"\n",
        "\n",
        "  roll_results = []\n",
        "  for i in range(num_dice):\n",
        "    roll = random.randint(1,6)\n",
        "    roll_results.append(roll)\n",
        "  return roll_results\n",
        "\n",
        "def parse_input(input_string):\n",
        "  \"\"\" \n",
        "  return input as an integer between 1 to 6.\n",
        "  check the input value between 1 to 6\n",
        "  if so return the integer with same value otherwise tell the user to enter a valid value.\n",
        "  \"\"\"\n",
        "\n",
        "  if input_string.strip() in {\"1\",\"2\",\"3\",\"4\",\"5\",\"6\"}:\n",
        "    return int(input_string)\n",
        "  else:\n",
        "    print(\"Enter a number between 1 to 6\")\n",
        "    raise SystemExit(1)\n",
        "\n",
        "# 1 get user input \n",
        "num_dice_input = input(\"how many dice you want to roll? (Select [1-6]): \")\n",
        "num_dice = parse_input(num_dice_input)\n",
        "\n",
        "# 2 roll the dice\n",
        "roll_result = roll_dice(num_dice)"
      ],
      "metadata": {
        "colab": {
          "base_uri": "https://localhost:8080/"
        },
        "id": "rh25mUnJuOT_",
        "outputId": "55c84d06-4e21-4a71-d930-c0ccc70ac8fc"
      },
      "execution_count": 9,
      "outputs": [
        {
          "name": "stdout",
          "output_type": "stream",
          "text": [
            "how many dice you want to roll? (Select [1-6]): 5\n"
          ]
        }
      ]
    },
    {
      "cell_type": "code",
      "source": [
        "import random\n",
        "\n",
        "def roll_dice(num_dice):\n",
        "    \"\"\"Return a list of integers as random numbers between 1 and 6\"\"\"\n",
        "    roll_results = []\n",
        "    for _ in range(num_dice):\n",
        "        roll = random.randint(1, 6)\n",
        "        roll_results.append(roll)\n",
        "    return roll_results\n",
        "\n",
        "def parse_input(input_string):\n",
        "    \"\"\"Return input as an integer between 1 and 6.\"\"\"\n",
        "    input_value = int(input_string)\n",
        "    if input_value in range(1, 7):\n",
        "        return input_value\n",
        "    else:\n",
        "        print(\"Enter a number between 1 and 6\")\n",
        "        raise SystemExit(1)\n",
        "\n",
        "# Get user input\n",
        "num_dice_input = input(\"How many dice do you want to roll? (Select [1-6]): \")\n",
        "num_dice = parse_input(num_dice_input)\n",
        "\n",
        "# Roll the dice\n",
        "roll_result = roll_dice(num_dice)\n",
        "print(\"Dice roll result:\", roll_result)\n"
      ],
      "metadata": {
        "colab": {
          "base_uri": "https://localhost:8080/"
        },
        "id": "ty6xD0RcDZKi",
        "outputId": "bc1bdc11-9259-49c4-a9db-accc59fff658"
      },
      "execution_count": 10,
      "outputs": [
        {
          "output_type": "stream",
          "name": "stdout",
          "text": [
            "How many dice do you want to roll? (Select [1-6]): 5\n",
            "Dice roll result: [6, 5, 3, 6, 3]\n"
          ]
        }
      ]
    },
    {
      "cell_type": "code",
      "source": [],
      "metadata": {
        "id": "EVIQZHumPJgo"
      },
      "execution_count": null,
      "outputs": []
    }
  ]
}