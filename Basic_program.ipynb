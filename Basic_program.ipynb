{
  "nbformat": 4,
  "nbformat_minor": 0,
  "metadata": {
    "colab": {
      "provenance": [],
      "include_colab_link": true
    },
    "kernelspec": {
      "name": "python3",
      "display_name": "Python 3"
    },
    "language_info": {
      "name": "python"
    }
  },
  "cells": [
    {
      "cell_type": "markdown",
      "metadata": {
        "id": "view-in-github",
        "colab_type": "text"
      },
      "source": [
        "<a href=\"https://colab.research.google.com/github/Ranjan4Kumar/Python-Projects/blob/main/Basic_program.ipynb\" target=\"_parent\"><img src=\"https://colab.research.google.com/assets/colab-badge.svg\" alt=\"Open In Colab\"/></a>"
      ]
    },
    {
      "cell_type": "code",
      "execution_count": null,
      "metadata": {
        "id": "GlCZI4bnAchP",
        "colab": {
          "base_uri": "https://localhost:8080/"
        },
        "outputId": "6e779fab-f3fc-4334-fd54-c87efbdf58cd"
      },
      "outputs": [
        {
          "output_type": "execute_result",
          "data": {
            "text/plain": [
              "dict"
            ]
          },
          "metadata": {},
          "execution_count": 2
        }
      ],
      "source": [
        "#write a program to convert dict into list\n",
        "\n",
        "dict1= {'a':1, 'b':2, 'c':3}\n",
        "\n",
        "type(dict1)"
      ]
    },
    {
      "cell_type": "code",
      "source": [
        "list1= print(list(dict1.items()))"
      ],
      "metadata": {
        "colab": {
          "base_uri": "https://localhost:8080/"
        },
        "id": "ulRK16-988O-",
        "outputId": "3adcba47-2a4b-40fc-974c-cfe11273cf5f"
      },
      "execution_count": null,
      "outputs": [
        {
          "output_type": "stream",
          "name": "stdout",
          "text": [
            "[('a', 1), ('b', 2), ('c', 3)]\n"
          ]
        }
      ]
    },
    {
      "cell_type": "code",
      "source": [
        "list2= print(list(dict1.values()))"
      ],
      "metadata": {
        "colab": {
          "base_uri": "https://localhost:8080/"
        },
        "id": "XtnNWYJl9VAP",
        "outputId": "2c098307-a971-4fd9-c161-4a4ebd0ad0b1"
      },
      "execution_count": null,
      "outputs": [
        {
          "output_type": "stream",
          "name": "stdout",
          "text": [
            "[1, 2, 3]\n"
          ]
        }
      ]
    },
    {
      "cell_type": "code",
      "source": [
        "list3 = print(list(dict1.keys()))"
      ],
      "metadata": {
        "colab": {
          "base_uri": "https://localhost:8080/"
        },
        "id": "o2abzZfE9jm-",
        "outputId": "fa79ddfa-43b1-45d6-a978-10fda7c724a5"
      },
      "execution_count": null,
      "outputs": [
        {
          "output_type": "stream",
          "name": "stdout",
          "text": [
            "['a', 'b', 'c']\n"
          ]
        }
      ]
    },
    {
      "cell_type": "code",
      "source": [
        "# method-3 by using zip()\n",
        "l_1 = ['a','b','c']\n",
        "l_2 = [1,2,3]\n",
        "dict_4 = dict(zip(l_1 , l_2))"
      ],
      "metadata": {
        "id": "F3-6Ghtm9q2p"
      },
      "execution_count": null,
      "outputs": []
    },
    {
      "cell_type": "code",
      "source": [
        "print(dict_4)"
      ],
      "metadata": {
        "colab": {
          "base_uri": "https://localhost:8080/"
        },
        "id": "8Kcl7-mpAV-Q",
        "outputId": "80df7f00-707f-4007-aa5f-01ac3722bd10"
      },
      "execution_count": null,
      "outputs": [
        {
          "output_type": "stream",
          "name": "stdout",
          "text": [
            "{'a': 1, 'b': 2, 'c': 3}\n"
          ]
        }
      ]
    },
    {
      "cell_type": "code",
      "source": [
        "# Navie method by using loop\n",
        "\n",
        "res = {}\n",
        "for key in l_1:\n",
        "  for value in l_2:\n",
        "    res[key] = value\n",
        "    l_2.remove(value)\n",
        "    break\n",
        "    "
      ],
      "metadata": {
        "id": "rtLU8W0LAzNf"
      },
      "execution_count": null,
      "outputs": []
    },
    {
      "cell_type": "code",
      "source": [
        "print('resultant dict is:' + str(res))"
      ],
      "metadata": {
        "colab": {
          "base_uri": "https://localhost:8080/"
        },
        "id": "N60d0nrhBbRJ",
        "outputId": "9f2ab773-7a97-41ac-e58c-e2f617f67257"
      },
      "execution_count": null,
      "outputs": [
        {
          "output_type": "stream",
          "name": "stdout",
          "text": [
            "resultant dict is:{'a': 1, 'b': 2, 'c': 3}\n"
          ]
        }
      ]
    },
    {
      "cell_type": "code",
      "source": [
        "# write a program to reverse a no.\n",
        "i = int(input('Enter a valid no.'))\n",
        "rev = 0\n",
        "while(i>0):\n",
        "  d = i%10\n",
        "  rev = rev*10+ d\n",
        "  i = i//10\n",
        "print(rev)\n"
      ],
      "metadata": {
        "colab": {
          "base_uri": "https://localhost:8080/"
        },
        "id": "sWjBi_tdBnaP",
        "outputId": "97c931fd-0a42-4483-f161-8b2ddb5c7e93"
      },
      "execution_count": null,
      "outputs": [
        {
          "output_type": "stream",
          "name": "stdout",
          "text": [
            "Enter a valid no.321\n",
            "123\n"
          ]
        }
      ]
    },
    {
      "cell_type": "code",
      "source": [
        "# write a program for a pallindrom no.\n",
        "m =int(input('Enter the value'))\n",
        "m_1 = m\n",
        "rev = 0\n",
        "while(m>0):\n",
        "  d = m%10\n",
        "  rev = rev*10 + d\n",
        "  m = m//10\n",
        "\n",
        "if rev == m_1:\n",
        "  print('no. is pallindrom no.')\n",
        "else:\n",
        "  print('no is not pallindrom')"
      ],
      "metadata": {
        "colab": {
          "base_uri": "https://localhost:8080/"
        },
        "id": "F2hvuvEXCQvy",
        "outputId": "de6ee4de-8b54-4033-f9d4-ca76284fc8c9"
      },
      "execution_count": null,
      "outputs": [
        {
          "output_type": "stream",
          "name": "stdout",
          "text": [
            "Enter the value321\n",
            "no is not pallindrom\n"
          ]
        }
      ]
    },
    {
      "cell_type": "code",
      "source": [
        "# reverse a string\n",
        "# by creating a function\n",
        "\n",
        "def revstr(s):\n",
        "  str = \"\"\n",
        "  for i in s:\n",
        "    str = i + str\n",
        "  return str\n",
        "\n"
      ],
      "metadata": {
        "id": "5wGSQxVpDY-e"
      },
      "execution_count": null,
      "outputs": []
    },
    {
      "cell_type": "code",
      "source": [
        "print(revstr('I am a boy'))"
      ],
      "metadata": {
        "colab": {
          "base_uri": "https://localhost:8080/"
        },
        "id": "rP5oipsXEWr6",
        "outputId": "40905d6b-f896-495e-ac64-20909822b280"
      },
      "execution_count": null,
      "outputs": [
        {
          "output_type": "stream",
          "name": "stdout",
          "text": [
            "yob a ma I\n"
          ]
        }
      ]
    },
    {
      "cell_type": "code",
      "source": [
        "# Type-2 for reversing a string\n",
        "\n",
        "def reverse(string):\n",
        "  string = string[::-1]\n",
        "  return string"
      ],
      "metadata": {
        "id": "T2DphdgIEccg"
      },
      "execution_count": null,
      "outputs": []
    },
    {
      "cell_type": "code",
      "source": [
        "string = input('enter is my name')\n",
        "print(reverse(string))"
      ],
      "metadata": {
        "colab": {
          "base_uri": "https://localhost:8080/"
        },
        "id": "cPTrq62TFUMG",
        "outputId": "eb65e7cd-83f6-460b-ca2e-92d0c4e19d64"
      },
      "execution_count": null,
      "outputs": [
        {
          "output_type": "stream",
          "name": "stdout",
          "text": [
            "enter is my namegeekforgeeks\n",
            "skeegrofkeeg\n"
          ]
        }
      ]
    },
    {
      "cell_type": "code",
      "source": [
        "# write a program for revsersing a natural no\n",
        "\n",
        "n_no = int(input('enter natural nos'))\n",
        "while n_no:\n",
        "  n_no -=1\n",
        "  print(n_no)"
      ],
      "metadata": {
        "colab": {
          "base_uri": "https://localhost:8080/"
        },
        "id": "6Wk7MJ-8FcBq",
        "outputId": "2407e58d-f81d-45f0-886a-605bed636e1e"
      },
      "execution_count": null,
      "outputs": [
        {
          "output_type": "stream",
          "name": "stdout",
          "text": [
            "enter natural nos5\n",
            "4\n",
            "3\n",
            "2\n",
            "1\n",
            "0\n"
          ]
        }
      ]
    },
    {
      "cell_type": "code",
      "source": [
        "# write a program for armstrong number\n",
        "# what is armstrong no. a armstrong is a number is the sum of the each term with the cube of that number\n",
        "# 123 = 1^3 + 2^3 + 3^3\n",
        "\n",
        "x = int(input('ENTER THE VALUE TO CHECK '))\n",
        "x_1 = x\n",
        "sum = 0\n",
        "order = len(str(x))\n",
        "\n",
        "while(x>0):\n",
        "  d = x%10\n",
        "  sum = sum + d**order\n",
        "  x = x//10\n",
        "\n",
        "if (sum == x_1):\n",
        "  print('No. entered is an aemstrong no.')\n",
        "else:\n",
        "  print('No. is not armstrong')"
      ],
      "metadata": {
        "colab": {
          "base_uri": "https://localhost:8080/"
        },
        "id": "CEqST94ZGRc8",
        "outputId": "4538306c-efee-467a-a34b-62bdd5fa7609"
      },
      "execution_count": null,
      "outputs": [
        {
          "output_type": "stream",
          "name": "stdout",
          "text": [
            "ENTER THE VALUE TO CHECK 153\n",
            "No. entered is an aemstrong no.\n"
          ]
        }
      ]
    },
    {
      "cell_type": "code",
      "source": [
        "# write a program to find out fibonaaci series of a number\n",
        "\n",
        "def fiboiter(n):\n",
        "  fpre= 0\n",
        "  fcrrt = 1\n",
        "  for i in range(1,n):\n",
        "    fprepre = fpre\n",
        "    fpre = fcrrt\n",
        "    fcrrt= fprepre+ fpre\n",
        "  return fcrrt\n",
        "\n"
      ],
      "metadata": {
        "id": "XtcNgLbbIA3P"
      },
      "execution_count": null,
      "outputs": []
    },
    {
      "cell_type": "code",
      "source": [
        "n = int(input('enter no'))\n",
        "print(fiboiter(n))"
      ],
      "metadata": {
        "colab": {
          "base_uri": "https://localhost:8080/"
        },
        "id": "jqtVLP5JI_Wk",
        "outputId": "511877b1-7baf-443c-f75f-6c1ceb16e185"
      },
      "execution_count": null,
      "outputs": [
        {
          "output_type": "stream",
          "name": "stdout",
          "text": [
            "enter no5\n",
            "5\n"
          ]
        }
      ]
    },
    {
      "cell_type": "code",
      "source": [
        "# write a program to fid out the factorial of a number\n",
        "\n",
        "v = int(input('Enter your number'))\n",
        "fact = 1\n",
        "\n",
        "if(v<0):\n",
        "  print(\"factorila doen't exist\")\n",
        "\n",
        "elif(v == 0):\n",
        "  print(\"factorila of 0 is always 1\")\n",
        "\n",
        "else:\n",
        "  for i in range(1 , v+1):\n",
        "    fact = fact*i\n",
        "\n",
        "  print('{}! = {}'.format(v, fact))"
      ],
      "metadata": {
        "colab": {
          "base_uri": "https://localhost:8080/"
        },
        "id": "W_qGRDfzJD4K",
        "outputId": "75830e51-138f-4885-e68a-182b5426253c"
      },
      "execution_count": null,
      "outputs": [
        {
          "output_type": "stream",
          "name": "stdout",
          "text": [
            "Enter your number5\n",
            "5! = 120\n"
          ]
        }
      ]
    },
    {
      "cell_type": "code",
      "source": [
        "# print 1 12 123 1234\n",
        "\n",
        "k = int(input('enter the value'))\n",
        "count = 0\n",
        "\n",
        "for i in range(1,k+1):\n",
        "  for j in range(1,i+1):\n",
        "    print(j, end = '')\n",
        "  print(end = ' ')\n"
      ],
      "metadata": {
        "colab": {
          "base_uri": "https://localhost:8080/"
        },
        "id": "MXtsQAy7LNtW",
        "outputId": "21db5171-0a30-4d28-8345-b16db8844ef1"
      },
      "execution_count": null,
      "outputs": [
        {
          "output_type": "stream",
          "name": "stdout",
          "text": [
            "enter the value5\n",
            "1 12 123 1234 12345 "
          ]
        }
      ]
    },
    {
      "cell_type": "code",
      "source": [
        "# print seiies of numbers as 1 12 123 1234\n",
        "n = int(input('Enter the nos whos series you want'))\n",
        "for i in range(1, n+1):\n",
        "  for j in range(1, i+1):\n",
        "     print(j, end = \"\")\n",
        "  print( end = \" \")"
      ],
      "metadata": {
        "id": "4JF3pw7lMWDs",
        "colab": {
          "base_uri": "https://localhost:8080/"
        },
        "outputId": "7fc670ef-11e3-45a7-b34c-7dea611f2be6"
      },
      "execution_count": null,
      "outputs": [
        {
          "output_type": "stream",
          "name": "stdout",
          "text": [
            "Enter the nos whos series you want6\n",
            "1 12 123 1234 12345 123456 "
          ]
        }
      ]
    },
    {
      "cell_type": "code",
      "source": [
        "# write a programe for fibbonaci series\n",
        "\n",
        "def fiboiter(u):\n",
        "  pre = 0\n",
        "  crrt = 1\n",
        "  for i in range(1,u):\n",
        "    prepre = pre\n",
        "    pre = crrt\n",
        "    crrt = prepre+pre\n",
        "  return crrt"
      ],
      "metadata": {
        "id": "oOhcgQm6U-xR"
      },
      "execution_count": null,
      "outputs": []
    },
    {
      "cell_type": "code",
      "source": [
        "u = int(input('Enter your number'))\n",
        "print(fiboiter(u))"
      ],
      "metadata": {
        "colab": {
          "base_uri": "https://localhost:8080/"
        },
        "id": "ZqXt9DZIWGfX",
        "outputId": "b706a53b-e80d-436e-b5a0-4cc108d5d655"
      },
      "execution_count": null,
      "outputs": [
        {
          "output_type": "stream",
          "name": "stdout",
          "text": [
            "Enter your number6\n",
            "8\n"
          ]
        }
      ]
    },
    {
      "cell_type": "code",
      "source": [
        "#write a programm to rev\n",
        "n = int(input('Enter a number'))\n",
        "rev = 0\n",
        "while(n>0):\n",
        "  d = n%10\n",
        "  rev = rev*10 + d\n",
        "  n = n//10\n",
        "print(rev)\n"
      ],
      "metadata": {
        "colab": {
          "base_uri": "https://localhost:8080/"
        },
        "id": "qM0EcnlCWdyj",
        "outputId": "97935593-e69d-4193-dc56-facd898f3ea5"
      },
      "execution_count": null,
      "outputs": [
        {
          "output_type": "stream",
          "name": "stdout",
          "text": [
            "Enter a number153\n",
            "351\n"
          ]
        }
      ]
    },
    {
      "cell_type": "code",
      "source": [
        "# write a program to find\n",
        "#pallindrom no\n",
        "\n",
        "n =int(input('Enter you no.'))\n",
        "n_1 = n\n",
        "rev = 0\n",
        "while(n>0):\n",
        "  d = n%10\n",
        "  rev = rev*10+d\n",
        "  n = n//10\n",
        "\n",
        "if rev == n_1:\n",
        "    print('no is pallindrom')\n",
        "else:\n",
        "  print('no is not a pallindrom')\n"
      ],
      "metadata": {
        "colab": {
          "base_uri": "https://localhost:8080/"
        },
        "id": "VLM-qPNUYNx8",
        "outputId": "10464e23-5a5d-406c-c18b-5a7351125021"
      },
      "execution_count": null,
      "outputs": [
        {
          "output_type": "stream",
          "name": "stdout",
          "text": [
            "Enter you no.121\n",
            "no is pallindrom\n"
          ]
        }
      ]
    },
    {
      "cell_type": "code",
      "source": [
        "# write a program for finding armstrong number\n",
        "n = int(input('Enter your no.'))\n",
        "n_1 = n\n",
        "order = len(str(n))\n",
        "arm = 0\n",
        "while(n>0):\n",
        "  d = n%10\n",
        "  arm = d**order+ arm\n",
        "  n = n//10\n",
        "if arm == n_1:\n",
        "    print('no. is armstrong')\n",
        "else:\n",
        "    print('no. is not armstrong')\n",
        "\n"
      ],
      "metadata": {
        "colab": {
          "base_uri": "https://localhost:8080/"
        },
        "id": "58O1cpWCY2_z",
        "outputId": "6f2e3648-b476-4f3d-f62f-e85a8f10a48a"
      },
      "execution_count": null,
      "outputs": [
        {
          "output_type": "stream",
          "name": "stdout",
          "text": [
            "Enter your no.153\n",
            "no. is armstrong\n"
          ]
        }
      ]
    },
    {
      "cell_type": "code",
      "source": [
        "# find factorial of a number\n",
        "\n",
        "#\n",
        "def fact(n):\n",
        "  fact = 1\n",
        "  for i in range(1, n+1):\n",
        "    fact = fact*i\n",
        "  print(\"{}! = {} is factorial of a number\".format(n,fact))\n",
        "  return fact\n"
      ],
      "metadata": {
        "id": "x3P9-01-a1ga"
      },
      "execution_count": null,
      "outputs": []
    },
    {
      "cell_type": "code",
      "source": [
        "n = int(input('Enter your number'))\n",
        "print(fact(n))"
      ],
      "metadata": {
        "colab": {
          "base_uri": "https://localhost:8080/"
        },
        "id": "0bhwImyWg45a",
        "outputId": "f830affd-d9cb-4ad6-a87f-d1a5a4ac0513"
      },
      "execution_count": null,
      "outputs": [
        {
          "output_type": "stream",
          "name": "stdout",
          "text": [
            "Enter your number5\n",
            "5! = 120 is factorial of a number\n",
            "120\n"
          ]
        }
      ]
    },
    {
      "cell_type": "code",
      "source": [
        "import os\n",
        "print(os.listdir(\"/\"))\n"
      ],
      "metadata": {
        "colab": {
          "base_uri": "https://localhost:8080/"
        },
        "id": "8sLCimjVhKs9",
        "outputId": "f7838150-cece-49c0-b4f6-180283f84466"
      },
      "execution_count": null,
      "outputs": [
        {
          "output_type": "stream",
          "name": "stdout",
          "text": [
            "['bin', 'home', 'opt', 'sys', 'dev', 'tmp', 'srv', 'run', 'usr', 'boot', 'proc', 'lib', 'etc', 'media', 'sbin', 'lib64', 'root', 'mnt', 'var', '.dockerenv', 'tools', 'datalab', 'tensorflow-1.15.2', 'content', 'lib32', 'python-apt']\n"
          ]
        }
      ]
    },
    {
      "cell_type": "code",
      "source": [
        "# use of if __name__ = '__main__'\n",
        "# CASE - 1\n",
        "'''suppose we created a project file in a python IDE and we define some function in it and we also mentoine some other functions or print satement there\n",
        "but we need to print only those statements which is written in the function . so for that we use (if__name__ = '__main__) so that in the next file where\n",
        " we are calling that function that doesn't give all the prints which i don't required'''\n",
        "\n",
        " # Example\n",
        "\n",
        "def mostimportant():\n",
        "  print('I am the lord king')\n",
        "\n",
        "''' and we wrote something else also but we dont need that print statement so in that case we write this (if __name__ = '__main__') before that print\n",
        "so that we cannot get those other print options\n",
        "'''\n",
        "#case - 2\n",
        "''' suppose if we need that statement too we will simply define that print statement in a function and we call that function inside other file\n",
        "so that we can choose according to our requirement'''\n",
        "\n"
      ],
      "metadata": {
        "id": "j4RpqcbjBwsR"
      },
      "execution_count": null,
      "outputs": []
    },
    {
      "cell_type": "code",
      "source": [
        "## * args & **kwarg\n",
        "\n",
        "def function_1(name, age, rollno):\n",
        "  print(\"the name of the student is\", name ,\"and age is\", age , \"and roll no is\", rollno)"
      ],
      "metadata": {
        "id": "VNsz4oyIKPpy"
      },
      "execution_count": null,
      "outputs": []
    },
    {
      "cell_type": "code",
      "source": [
        "function_1('harry',22,33)"
      ],
      "metadata": {
        "colab": {
          "base_uri": "https://localhost:8080/"
        },
        "id": "fSiOCTaTKr6h",
        "outputId": "ceff7079-937d-4892-ed7c-d3e4040aa23b"
      },
      "execution_count": null,
      "outputs": [
        {
          "output_type": "stream",
          "name": "stdout",
          "text": [
            "the name of the student is harry and age is 22 and roll no is 33\n"
          ]
        }
      ]
    },
    {
      "cell_type": "code",
      "source": [
        "# suppose one argument is missing then how we will find it\n",
        "# so here *arg and **kwarg comes into light\n",
        "\n",
        "def function_2(*args):\n",
        "   print(\"Name of the student is\", args[0], \"Age of student is\", args[1], \"Roll no of the student is\", args[2])"
      ],
      "metadata": {
        "id": "v4ttc6DHLdeM"
      },
      "execution_count": null,
      "outputs": []
    },
    {
      "cell_type": "code",
      "source": [
        "# function_2('raj', 22, 44)"
      ],
      "metadata": {
        "colab": {
          "base_uri": "https://localhost:8080/"
        },
        "id": "EU6qJDruMIJQ",
        "outputId": "ffa04317-25eb-4dd4-e644-5eca4ef7885c"
      },
      "execution_count": null,
      "outputs": [
        {
          "output_type": "stream",
          "name": "stdout",
          "text": [
            "Name of the student is raj Age of student is 22 Roll no of the student is 44\n"
          ]
        }
      ]
    },
    {
      "cell_type": "code",
      "source": [
        "# args is type of tuple\n",
        "\n",
        "# case - 2 when we don't have all arguments in that case we use this\n",
        "\n",
        "#we already have a function we use that one here and we make some chages in the print statement."
      ],
      "metadata": {
        "id": "EMMwJ2K0MLf2"
      },
      "execution_count": null,
      "outputs": []
    },
    {
      "cell_type": "code",
      "source": [
        "def function_2(*args):\n",
        "  if (len(args)== 3):\n",
        "    print(\"My name is\", args[0], \"My age is\", args[1], \"My roll no. is\", args[2])\n",
        "\n",
        "  else:\n",
        "    print(\"My name is\", args[0], \"And my age is\", args[1])"
      ],
      "metadata": {
        "id": "CdZcfyAvNVKm"
      },
      "execution_count": null,
      "outputs": []
    },
    {
      "cell_type": "code",
      "source": [
        "function_2('harry',22)"
      ],
      "metadata": {
        "colab": {
          "base_uri": "https://localhost:8080/"
        },
        "id": "3jSalHmqN-Zx",
        "outputId": "16b3c954-2a40-428d-ec77-2b2d09b211c4"
      },
      "execution_count": null,
      "outputs": [
        {
          "output_type": "stream",
          "name": "stdout",
          "text": [
            "My name is harry And my age is 22\n"
          ]
        }
      ]
    },
    {
      "cell_type": "code",
      "source": [
        "function_2('marry', 24, 352)"
      ],
      "metadata": {
        "colab": {
          "base_uri": "https://localhost:8080/"
        },
        "id": "LJnJj1YDOCAa",
        "outputId": "02bf9621-6092-4c4b-dde0-929f4a7e9ba6"
      },
      "execution_count": null,
      "outputs": [
        {
          "output_type": "stream",
          "name": "stdout",
          "text": [
            "My name is marry My age is 24 My roll no. is 352\n"
          ]
        }
      ]
    },
    {
      "cell_type": "code",
      "source": [
        "## ** kwarg it will take the value with key value pair and it will give the result\n",
        "\n",
        "#suppose we define a function\n",
        "def printmarks(**kwargs):\n",
        "  print(type(kwargs))\n",
        "  for key, value in kwargs.items():\n",
        "    print(key, value)\n"
      ],
      "metadata": {
        "id": "fPvnyncMOKxv"
      },
      "execution_count": null,
      "outputs": []
    },
    {
      "cell_type": "code",
      "source": [
        "dict_1 = {'harry': 100, 'marry':200, 'asu': 300}\n",
        "printmarks(**dict_1)"
      ],
      "metadata": {
        "colab": {
          "base_uri": "https://localhost:8080/"
        },
        "id": "d6dka5PQSNHt",
        "outputId": "c08f9afc-a132-42f8-feb4-686c800ea591"
      },
      "execution_count": null,
      "outputs": [
        {
          "output_type": "stream",
          "name": "stdout",
          "text": [
            "<class 'dict'>\n",
            "harry 100\n",
            "marry 200\n",
            "asu 300\n"
          ]
        }
      ]
    },
    {
      "cell_type": "code",
      "source": [
        "def fun_1(*args):\n",
        "  for i in args.index[(args)]:\n",
        "    print(i)\n",
        "\n",
        "  \n"
      ],
      "metadata": {
        "id": "nGuu7oQDSkRg"
      },
      "execution_count": null,
      "outputs": []
    },
    {
      "cell_type": "code",
      "source": [
        "t1 = ('ranjan', 44, 344,2.2)\n",
        "fun_1(*t1)"
      ],
      "metadata": {
        "colab": {
          "base_uri": "https://localhost:8080/",
          "height": 312
        },
        "id": "tV8bxO2IfHhI",
        "outputId": "6679af72-f62e-4ab8-982f-cea203fbcf2e"
      },
      "execution_count": null,
      "outputs": [
        {
          "output_type": "error",
          "ename": "TypeError",
          "evalue": "ignored",
          "traceback": [
            "\u001b[0;31m---------------------------------------------------------------------------\u001b[0m",
            "\u001b[0;31mTypeError\u001b[0m                                 Traceback (most recent call last)",
            "\u001b[0;32m<ipython-input-35-0aeb99d59563>\u001b[0m in \u001b[0;36m<module>\u001b[0;34m()\u001b[0m\n\u001b[1;32m      1\u001b[0m \u001b[0mt1\u001b[0m \u001b[0;34m=\u001b[0m \u001b[0;34m(\u001b[0m\u001b[0;34m'ranjan'\u001b[0m\u001b[0;34m,\u001b[0m \u001b[0;36m44\u001b[0m\u001b[0;34m,\u001b[0m \u001b[0;36m344\u001b[0m\u001b[0;34m,\u001b[0m\u001b[0;36m2.2\u001b[0m\u001b[0;34m)\u001b[0m\u001b[0;34m\u001b[0m\u001b[0;34m\u001b[0m\u001b[0m\n\u001b[0;32m----> 2\u001b[0;31m \u001b[0mfun_1\u001b[0m\u001b[0;34m(\u001b[0m\u001b[0;34m*\u001b[0m\u001b[0mt1\u001b[0m\u001b[0;34m)\u001b[0m\u001b[0;34m\u001b[0m\u001b[0;34m\u001b[0m\u001b[0m\n\u001b[0m",
            "\u001b[0;32m<ipython-input-33-f42100521e7e>\u001b[0m in \u001b[0;36mfun_1\u001b[0;34m(*args)\u001b[0m\n\u001b[1;32m      1\u001b[0m \u001b[0;32mdef\u001b[0m \u001b[0mfun_1\u001b[0m\u001b[0;34m(\u001b[0m\u001b[0;34m*\u001b[0m\u001b[0margs\u001b[0m\u001b[0;34m)\u001b[0m\u001b[0;34m:\u001b[0m\u001b[0;34m\u001b[0m\u001b[0;34m\u001b[0m\u001b[0m\n\u001b[0;32m----> 2\u001b[0;31m   \u001b[0;32mfor\u001b[0m \u001b[0mi\u001b[0m \u001b[0;32min\u001b[0m \u001b[0margs\u001b[0m\u001b[0;34m.\u001b[0m\u001b[0mindex\u001b[0m\u001b[0;34m[\u001b[0m\u001b[0;34m(\u001b[0m\u001b[0margs\u001b[0m\u001b[0;34m)\u001b[0m\u001b[0;34m]\u001b[0m\u001b[0;34m:\u001b[0m\u001b[0;34m\u001b[0m\u001b[0;34m\u001b[0m\u001b[0m\n\u001b[0m\u001b[1;32m      3\u001b[0m     \u001b[0mprint\u001b[0m\u001b[0;34m(\u001b[0m\u001b[0mi\u001b[0m\u001b[0;34m)\u001b[0m\u001b[0;34m\u001b[0m\u001b[0;34m\u001b[0m\u001b[0m\n\u001b[1;32m      4\u001b[0m \u001b[0;34m\u001b[0m\u001b[0m\n\u001b[1;32m      5\u001b[0m \u001b[0;34m\u001b[0m\u001b[0m\n",
            "\u001b[0;31mTypeError\u001b[0m: 'builtin_function_or_method' object is not subscriptable"
          ]
        }
      ]
    },
    {
      "cell_type": "code",
      "source": [
        "# if we want to pass a normal argument, a *args , a **kwargs to any functiion then what we need to do is.\n",
        "# we need to creat a function in which we can pass the argument\n",
        "def master(normal, *args, **kwargs):\n",
        "  print(normal)\n",
        "  for i in args:\n",
        "    print(i)\n",
        "  for key, value in kwargs.items():\n",
        "    print(key, value)"
      ],
      "metadata": {
        "id": "b7e9NWHUgLrc"
      },
      "execution_count": null,
      "outputs": []
    },
    {
      "cell_type": "code",
      "source": [
        "l1 = ['ram', 'mohan', 'ritesh']\n",
        "di1 = {'ashis': 100, 'navneet': 150, 'piyush': 175}\n",
        "\n",
        "master('normal argument', *l1, **di1)"
      ],
      "metadata": {
        "colab": {
          "base_uri": "https://localhost:8080/"
        },
        "id": "U3QiKZH38NqL",
        "outputId": "6fdc8d89-737b-454c-d1c5-87913aa792be"
      },
      "execution_count": null,
      "outputs": [
        {
          "output_type": "stream",
          "name": "stdout",
          "text": [
            "normal argument\n",
            "ram\n",
            "mohan\n",
            "ritesh\n",
            "ashis 100\n",
            "navneet 150\n",
            "piyush 175\n"
          ]
        }
      ]
    },
    {
      "cell_type": "code",
      "source": [
        "# In this way we can use *arg **kwarg & normal in a same squence it will give us the values in the same way.\n"
      ],
      "metadata": {
        "id": "kyauwZ8o9PsW"
      },
      "execution_count": null,
      "outputs": []
    },
    {
      "cell_type": "code",
      "source": [
        "# TRY & EXCEPT\n",
        "#exception handling method\n",
        "\n",
        "try:\n",
        "  open('this.txt')\n",
        "except Exception as e:\n",
        "  print(e)\n",
        "print('my program is alive')"
      ],
      "metadata": {
        "colab": {
          "base_uri": "https://localhost:8080/"
        },
        "id": "ySNKRhzaBPg8",
        "outputId": "f22dab3c-05f7-4d46-b6d6-c25151340736"
      },
      "execution_count": null,
      "outputs": [
        {
          "output_type": "stream",
          "name": "stdout",
          "text": [
            "[Errno 2] No such file or directory: 'this.txt'\n",
            "my program is alive\n"
          ]
        }
      ]
    },
    {
      "cell_type": "code",
      "source": [
        "''' what is happeing in above output you see that we are not getting errors in red colour code instead of we are getting normal print\n",
        "that such file is not present in the directory\n",
        "\n",
        "which means if we have codes after this line it will excecute our program works properly if we use try & Except block for writing code\n",
        "\n",
        "This is the importance of using this try & Except block.'''\n"
      ],
      "metadata": {
        "id": "5tOPlyd1Bi-k"
      },
      "execution_count": null,
      "outputs": []
    },
    {
      "cell_type": "code",
      "source": [
        "# Multiple eception handling where we can hndle multiple exception cases and print as per our requirement\n",
        "# Here we can use Finally: statement which excecutes even it goes to try or except block does't matter\n",
        "\n",
        "try:\n",
        "  file = open('this.txt')\n",
        "except EOFError as e:\n",
        "  print('eof error')\n",
        "except IOError as e:\n",
        "  print('we can handle this error')\n",
        "\n",
        "finally:\n",
        "  print('This will be printed irrespective of exception occurance')"
      ],
      "metadata": {
        "colab": {
          "base_uri": "https://localhost:8080/"
        },
        "id": "ZWZgJALTHNnk",
        "outputId": "e5d54d77-b7ac-4ce2-924b-8a0e54f54229"
      },
      "execution_count": null,
      "outputs": [
        {
          "output_type": "stream",
          "name": "stdout",
          "text": [
            "we can handle this error\n",
            "This will be printed irrespective of exception occurance\n"
          ]
        }
      ]
    },
    {
      "cell_type": "code",
      "source": [
        "# printing list using try and except method\n",
        "l = [\"harry\",\"carry\",\"jerry\",\"stawberry\"]\n",
        "\n",
        "try:\n",
        "  print(l[4])\n",
        "except IndexError as e:\n",
        "  print(len(l))\n",
        "finally:\n",
        "  print('we have only 4 items in our list')"
      ],
      "metadata": {
        "colab": {
          "base_uri": "https://localhost:8080/"
        },
        "id": "6Ia7JA3DWTSd",
        "outputId": "cbbdce8f-0195-4412-d8e8-221ae906f77a"
      },
      "execution_count": null,
      "outputs": [
        {
          "output_type": "stream",
          "name": "stdout",
          "text": [
            "4\n",
            "we have only 4 items in our list\n"
          ]
        }
      ]
    },
    {
      "cell_type": "code",
      "source": [],
      "metadata": {
        "id": "y_WWDzf-WTPk"
      },
      "execution_count": null,
      "outputs": []
    },
    {
      "cell_type": "code",
      "source": [
        "#.    List and list functions\n",
        "\n",
        "# It has only one arguments.list of items as per our requirement\n",
        "l = [\"harry\",\"carry\",\"jerry\",\"stawberry\"]\n",
        "l.count('harry')\n"
      ],
      "metadata": {
        "colab": {
          "base_uri": "https://localhost:8080/"
        },
        "id": "q-lsjf09ILiK",
        "outputId": "31c800b0-dced-4e76-c925-cb38be932cf6"
      },
      "execution_count": null,
      "outputs": [
        {
          "output_type": "execute_result",
          "data": {
            "text/plain": [
              "1"
            ]
          },
          "metadata": {},
          "execution_count": 1
        }
      ]
    },
    {
      "cell_type": "code",
      "source": [
        "i = 0\n",
        "while i < len(l):\n",
        "  print(l[i])\n",
        "  i = i+1"
      ],
      "metadata": {
        "colab": {
          "base_uri": "https://localhost:8080/"
        },
        "id": "ApuPBYndTQ_W",
        "outputId": "aaadc6e1-46ae-4cc6-f431-3bf1f4a34e53"
      },
      "execution_count": null,
      "outputs": [
        {
          "output_type": "stream",
          "name": "stdout",
          "text": [
            "harry\n",
            "carry\n",
            "jerry\n",
            "stawberry\n"
          ]
        }
      ]
    },
    {
      "cell_type": "code",
      "source": [
        "for i in l:\n",
        "  print(i)"
      ],
      "metadata": {
        "colab": {
          "base_uri": "https://localhost:8080/"
        },
        "id": "778lNQV98ZAb",
        "outputId": "17116c01-2d3f-4399-cfe7-323b0b91829e"
      },
      "execution_count": null,
      "outputs": [
        {
          "output_type": "stream",
          "name": "stdout",
          "text": [
            "harry\n",
            "carry\n",
            "jerry\n",
            "stawberry\n"
          ]
        }
      ]
    },
    {
      "cell_type": "code",
      "source": [
        "for i in range(len(l)):\n",
        "  print(l[i])"
      ],
      "metadata": {
        "colab": {
          "base_uri": "https://localhost:8080/"
        },
        "id": "RuzNwqvY8tsU",
        "outputId": "7b0df882-6f35-4af9-dd19-5e9bec240606"
      },
      "execution_count": null,
      "outputs": [
        {
          "output_type": "stream",
          "name": "stdout",
          "text": [
            "harry\n",
            "carry\n",
            "jerry\n",
            "stawberry\n"
          ]
        }
      ]
    },
    {
      "cell_type": "code",
      "source": [
        "print (x for x in l)"
      ],
      "metadata": {
        "colab": {
          "base_uri": "https://localhost:8080/"
        },
        "id": "hAYnPZOJ8xtF",
        "outputId": "35b0d52a-6649-4e20-c37c-64d69ad0c84b"
      },
      "execution_count": null,
      "outputs": [
        {
          "output_type": "stream",
          "name": "stdout",
          "text": [
            "<generator object <genexpr> at 0x7f520cd49ad0>\n"
          ]
        }
      ]
    },
    {
      "cell_type": "code",
      "source": [
        "# List comprehension\n",
        "l1 = [\"apple\",\"banana\", \"lichi\"]\n",
        "newlist = []\n",
        "for i in l1:\n",
        "  if \"a\" in i:\n",
        "    newlist.append(i)\n",
        "print(newlist)"
      ],
      "metadata": {
        "colab": {
          "base_uri": "https://localhost:8080/"
        },
        "id": "WtiLgaM19BGD",
        "outputId": "6b10d474-88fa-4f89-c51b-e5808d4e911e"
      },
      "execution_count": null,
      "outputs": [
        {
          "output_type": "stream",
          "name": "stdout",
          "text": [
            "['apple', 'banana']\n"
          ]
        }
      ]
    },
    {
      "cell_type": "code",
      "source": [
        "# Above example in one line code\n",
        "\n",
        "l1 = [\"a\",\"b\",\"c\",\"d\"]\n",
        "newlist = [i for i in l1 if \"a\" in i]\n",
        "print(newlist)"
      ],
      "metadata": {
        "colab": {
          "base_uri": "https://localhost:8080/"
        },
        "id": "Bc_-PA38zOu_",
        "outputId": "f44dc9bf-8096-4382-ac2a-0427a87cdea8"
      },
      "execution_count": null,
      "outputs": [
        {
          "output_type": "stream",
          "name": "stdout",
          "text": [
            "['a']\n"
          ]
        }
      ]
    },
    {
      "cell_type": "code",
      "source": [
        "# for numbers you can do \n",
        "n1 = [1,2,3,4,5,6,7]\n",
        "newlist = []\n",
        "newlist = [i for i in n1 if i >=5]\n",
        "print(newlist)"
      ],
      "metadata": {
        "colab": {
          "base_uri": "https://localhost:8080/"
        },
        "id": "afzhhe_Yz8PG",
        "outputId": "70a1c581-b31e-4a3e-9e6b-18ed00cacbfb"
      },
      "execution_count": null,
      "outputs": [
        {
          "output_type": "stream",
          "name": "stdout",
          "text": [
            "[5, 6, 7]\n"
          ]
        }
      ]
    },
    {
      "cell_type": "code",
      "source": [
        "newlist = [i for i in n1 if i!=5]\n",
        "print(newlist)"
      ],
      "metadata": {
        "colab": {
          "base_uri": "https://localhost:8080/"
        },
        "id": "23ljwWXt0qL-",
        "outputId": "a4c55555-e1c1-4c03-f0d4-de3af2944712"
      },
      "execution_count": null,
      "outputs": [
        {
          "output_type": "stream",
          "name": "stdout",
          "text": [
            "[1, 2, 3, 4, 6, 7]\n"
          ]
        }
      ]
    },
    {
      "cell_type": "code",
      "source": [
        "n2 = [100,85,95,25,56,65]\n",
        "# so we can reverse the number using reverse function\n",
        "n2.reverse()\n",
        "print(n2)"
      ],
      "metadata": {
        "colab": {
          "base_uri": "https://localhost:8080/"
        },
        "id": "wDb0KC-f03aI",
        "outputId": "d87b815f-40fe-4750-b383-888cdec685a6"
      },
      "execution_count": null,
      "outputs": [
        {
          "output_type": "stream",
          "name": "stdout",
          "text": [
            "[65, 56, 25, 95, 85, 100]\n"
          ]
        }
      ]
    },
    {
      "cell_type": "code",
      "source": [
        "# But in the above sinerio we saw that the number is not sorted\n",
        "# for gettig values in sorted and reverse way we need to do\n",
        "n2.sort(reverse = True)\n",
        "print(n2)"
      ],
      "metadata": {
        "colab": {
          "base_uri": "https://localhost:8080/"
        },
        "id": "VUQgwF5r1Uit",
        "outputId": "b42ad947-f738-42ad-fe9c-f869e0ac51fe"
      },
      "execution_count": null,
      "outputs": [
        {
          "output_type": "stream",
          "name": "stdout",
          "text": [
            "[100, 95, 85, 65, 56, 25]\n"
          ]
        }
      ]
    },
    {
      "cell_type": "code",
      "source": [
        "# There are two ways of copying the data of one list to another list\n",
        "n2 = [100,85,95,25,56,65]\n",
        "newn2 = n2.copy()\n",
        "print(newn2)"
      ],
      "metadata": {
        "colab": {
          "base_uri": "https://localhost:8080/"
        },
        "id": "SlqzPFkR1qys",
        "outputId": "5805b4b9-d019-4d32-81dd-a728bb5e947e"
      },
      "execution_count": null,
      "outputs": [
        {
          "output_type": "stream",
          "name": "stdout",
          "text": [
            "[100, 85, 95, 25, 56, 65]\n"
          ]
        }
      ]
    },
    {
      "cell_type": "code",
      "source": [
        "# or we can also do it another way\n",
        "\n",
        "newn3 = list(n2)\n",
        "print(newn3)"
      ],
      "metadata": {
        "colab": {
          "base_uri": "https://localhost:8080/"
        },
        "id": "tWcemFFR2Kq_",
        "outputId": "89a1a9bb-2c23-4bf6-d3c0-26fe81024a4f"
      },
      "execution_count": null,
      "outputs": [
        {
          "output_type": "stream",
          "name": "stdout",
          "text": [
            "[100, 85, 95, 25, 56, 65]\n"
          ]
        }
      ]
    },
    {
      "cell_type": "code",
      "source": [
        "# joining of a list by simply using \"+\" operator or by using append or extent method we can do that\n",
        "\n",
        "l3 = ['a','b','c','d','e']\n",
        "l4 = [1,2,3,4,5,6]\n",
        "# here we have two lists and now we need to join both the lists we do\n",
        "l5 = l3+l4\n",
        "print(l5)"
      ],
      "metadata": {
        "colab": {
          "base_uri": "https://localhost:8080/"
        },
        "id": "Qw99MXb12SXZ",
        "outputId": "fcd053e8-8b7e-4044-dc86-b0c6befa9686"
      },
      "execution_count": null,
      "outputs": [
        {
          "output_type": "stream",
          "name": "stdout",
          "text": [
            "['a', 'b', 'c', 'd', 'e', 1, 2, 3, 4, 5, 6]\n"
          ]
        }
      ]
    },
    {
      "cell_type": "code",
      "source": [
        "# 2nd method of adding two list\n",
        "l3 = ['a','b','c']\n",
        "l4 = [1,2,3]\n",
        "\n",
        "for i in l4:\n",
        "  l3.append(i)\n",
        "print(l3)"
      ],
      "metadata": {
        "colab": {
          "base_uri": "https://localhost:8080/"
        },
        "id": "kJXliYK4387k",
        "outputId": "463f6ee1-2c04-4f48-bc0c-e935fbe2ee61"
      },
      "execution_count": null,
      "outputs": [
        {
          "output_type": "stream",
          "name": "stdout",
          "text": [
            "['a', 'b', 'c', 1, 2, 3]\n"
          ]
        }
      ]
    },
    {
      "cell_type": "code",
      "source": [
        "# 3rd way using extend function\n",
        "\n",
        "l5 = ['a','b','c','d']\n",
        "l6 = [1,2,3,4,5]\n",
        "\n",
        "l5.extend(l6)\n",
        "print(l5)"
      ],
      "metadata": {
        "colab": {
          "base_uri": "https://localhost:8080/"
        },
        "id": "W-ivPnM_4HE_",
        "outputId": "da221730-e7bf-445b-e249-51b56eb9f04f"
      },
      "execution_count": null,
      "outputs": [
        {
          "output_type": "stream",
          "name": "stdout",
          "text": [
            "['a', 'b', 'c', 'd', 1, 2, 3, 4, 5]\n"
          ]
        }
      ]
    },
    {
      "cell_type": "code",
      "source": [
        "# Tuple method , by tuple method we can use tuple as a constructor\n",
        "\n",
        "t1 = tuple(('apple','banana','gauva'))\n",
        "print(type(t1))"
      ],
      "metadata": {
        "colab": {
          "base_uri": "https://localhost:8080/"
        },
        "id": "D5tISrIq4hvd",
        "outputId": "2cf92470-c1a6-4c4f-c1e5-b3ed6564527a"
      },
      "execution_count": null,
      "outputs": [
        {
          "output_type": "stream",
          "name": "stdout",
          "text": [
            "<class 'tuple'>\n"
          ]
        }
      ]
    },
    {
      "cell_type": "code",
      "source": [
        "print(t1)"
      ],
      "metadata": {
        "colab": {
          "base_uri": "https://localhost:8080/"
        },
        "id": "tKaL-eCk8aUi",
        "outputId": "17b188c1-1a7b-415b-9dd0-ff3cf080cd5a"
      },
      "execution_count": null,
      "outputs": [
        {
          "output_type": "stream",
          "name": "stdout",
          "text": [
            "('apple', 'banana', 'gauva')\n"
          ]
        }
      ]
    },
    {
      "cell_type": "code",
      "source": [
        "t_1 = (\"apple\",\"banana\",\"orange\")\n",
        "(green, yellow,red) = t_1\n",
        "print(green)\n",
        "print(yellow)\n",
        "print(red)"
      ],
      "metadata": {
        "colab": {
          "base_uri": "https://localhost:8080/"
        },
        "id": "QvVlxMnT8cE9",
        "outputId": "30baad66-7573-4508-a696-5378ee83c1ab"
      },
      "execution_count": null,
      "outputs": [
        {
          "output_type": "stream",
          "name": "stdout",
          "text": [
            "apple\n",
            "banana\n",
            "orange\n"
          ]
        }
      ]
    },
    {
      "cell_type": "code",
      "source": [
        "t_2 = (\"apple\",\"banana\",\"gauva\",\"papaya\",\"lichi\")\n",
        "(red,yellow,*green) = t_2\n",
        "print(red)\n",
        "print(yellow)\n",
        "print(green)\n"
      ],
      "metadata": {
        "colab": {
          "base_uri": "https://localhost:8080/"
        },
        "id": "K3MZTq2ENGZN",
        "outputId": "589a50af-765f-488b-ee54-e88d4f815924"
      },
      "execution_count": null,
      "outputs": [
        {
          "output_type": "stream",
          "name": "stdout",
          "text": [
            "apple\n",
            "banana\n",
            "['gauva', 'papaya', 'lichi']\n"
          ]
        }
      ]
    },
    {
      "cell_type": "code",
      "source": [
        "t_2 = (\"apple\",\"banana\",\"gauva\",\"papaya\",\"lichi\")\n",
        "(red,*yellow,green) = t_2\n",
        "print(red)\n",
        "print(yellow)\n",
        "print(green)"
      ],
      "metadata": {
        "colab": {
          "base_uri": "https://localhost:8080/"
        },
        "id": "Dd1VYtEnNpDh",
        "outputId": "6f6336aa-87f2-4565-8fe5-49ccfdbf3791"
      },
      "execution_count": null,
      "outputs": [
        {
          "output_type": "stream",
          "name": "stdout",
          "text": [
            "apple\n",
            "['banana', 'gauva', 'papaya']\n",
            "lichi\n"
          ]
        }
      ]
    },
    {
      "cell_type": "code",
      "source": [
        "t_1 = ('apple','banana','gauva','orange')\n",
        "i = 0\n",
        "while i < len(t_1):\n",
        "  print(t_1[i])\n",
        "  i = i+1\n"
      ],
      "metadata": {
        "colab": {
          "base_uri": "https://localhost:8080/"
        },
        "id": "7lWRvjWGPIEz",
        "outputId": "2e12da0b-7159-437e-cce8-90f5704f8818"
      },
      "execution_count": null,
      "outputs": [
        {
          "output_type": "stream",
          "name": "stdout",
          "text": [
            "apple\n",
            "banana\n",
            "gauva\n",
            "orange\n"
          ]
        }
      ]
    },
    {
      "cell_type": "code",
      "source": [
        "#          JOIN TWO TUPLES\n",
        "t_1 = ('apple','banana','gauva','orange')\n",
        "t_2 = (1,2,3,4)\n",
        "t_3 = t_1 + t_2\n",
        "print(t_3)"
      ],
      "metadata": {
        "colab": {
          "base_uri": "https://localhost:8080/"
        },
        "id": "JV40iBAfRGTD",
        "outputId": "4b63a0e3-b22b-47e4-b282-a8cb1392ef0d"
      },
      "execution_count": null,
      "outputs": [
        {
          "output_type": "stream",
          "name": "stdout",
          "text": [
            "('apple', 'banana', 'gauva', 'orange', 1, 2, 3, 4)\n"
          ]
        }
      ]
    },
    {
      "cell_type": "code",
      "source": [
        "#        MULTIPLY TWO TUPLES\n",
        "t_2 = (1,2,3,4)\n",
        "t_4 = t_2*2\n",
        "print(t_4)\n"
      ],
      "metadata": {
        "colab": {
          "base_uri": "https://localhost:8080/"
        },
        "id": "53KGbhmkSXcb",
        "outputId": "3308c6ea-7096-4d42-9d21-6074ac82cfd1"
      },
      "execution_count": null,
      "outputs": [
        {
          "output_type": "stream",
          "name": "stdout",
          "text": [
            "(1, 2, 3, 4, 1, 2, 3, 4)\n"
          ]
        }
      ]
    },
    {
      "cell_type": "code",
      "source": [
        "# Method of tuple\n",
        "# count\n",
        "t_4 = (1,1,1,11,1,2,2,2,2,22,3,3,3,33)\n",
        "x = t_4.count(2)\n",
        "print(x)"
      ],
      "metadata": {
        "colab": {
          "base_uri": "https://localhost:8080/"
        },
        "id": "KuNQ0KmSSnuY",
        "outputId": "28c174c1-06df-452b-bf7b-03a72e8f152a"
      },
      "execution_count": null,
      "outputs": [
        {
          "output_type": "stream",
          "name": "stdout",
          "text": [
            "4\n"
          ]
        }
      ]
    },
    {
      "cell_type": "code",
      "source": [
        "x=1\n",
        "y=2\n",
        "s = x+y\n",
        "print(s)"
      ],
      "metadata": {
        "id": "LZHXuh0YlMSO",
        "colab": {
          "base_uri": "https://localhost:8080/"
        },
        "outputId": "00a2ef0f-dffa-412f-e53d-ad078d080ea9"
      },
      "execution_count": null,
      "outputs": [
        {
          "output_type": "stream",
          "name": "stdout",
          "text": [
            "3\n"
          ]
        }
      ]
    },
    {
      "cell_type": "code",
      "source": [
        "set_1 = {1,2,3,4}\n",
        "for x in set_1:\n",
        "  print(x)"
      ],
      "metadata": {
        "id": "udDBXusTmKXW",
        "colab": {
          "base_uri": "https://localhost:8080/"
        },
        "outputId": "133b2db5-b24c-44cb-c035-8f83876e125c"
      },
      "execution_count": null,
      "outputs": [
        {
          "output_type": "stream",
          "name": "stdout",
          "text": [
            "1\n",
            "2\n",
            "3\n",
            "4\n"
          ]
        }
      ]
    },
    {
      "cell_type": "code",
      "source": [
        "print(1 in set_1)"
      ],
      "metadata": {
        "colab": {
          "base_uri": "https://localhost:8080/"
        },
        "id": "Q18GhzN1naB0",
        "outputId": "286326c2-16b9-4a19-e857-ee040982838a"
      },
      "execution_count": null,
      "outputs": [
        {
          "output_type": "stream",
          "name": "stdout",
          "text": [
            "True\n"
          ]
        }
      ]
    },
    {
      "cell_type": "code",
      "source": [
        "# ADD ITEMS to set\n",
        "set_1 = {1,2,3,4,5}\n",
        "set_1.add(100)\n",
        "print(set_1) # when we use set_name with add method and put some value in paranthese then we add some value to the last in the set.\n"
      ],
      "metadata": {
        "colab": {
          "base_uri": "https://localhost:8080/"
        },
        "id": "IA1PL8aBnnP5",
        "outputId": "a97e39bd-4496-44ce-cb44-08f8c42d2c0f"
      },
      "execution_count": null,
      "outputs": [
        {
          "output_type": "stream",
          "name": "stdout",
          "text": [
            "{1, 2, 3, 4, 5, 100}\n"
          ]
        }
      ]
    },
    {
      "cell_type": "code",
      "source": [
        "set_1.add(\"mohan\")\n",
        "print(set_1)"
      ],
      "metadata": {
        "colab": {
          "base_uri": "https://localhost:8080/"
        },
        "id": "dCWGHcD5oY1g",
        "outputId": "d41f8640-7010-4b0b-9a8e-cee64ef6612f"
      },
      "execution_count": null,
      "outputs": [
        {
          "output_type": "stream",
          "name": "stdout",
          "text": [
            "{1, 2, 3, 4, 5, 100, 'mohan'}\n"
          ]
        }
      ]
    },
    {
      "cell_type": "code",
      "source": [
        "set_2 = {\"apple\",\"banana\",\"guava\"}\n",
        "\n",
        "set_1.update(set_2)\n",
        "print(set_1)"
      ],
      "metadata": {
        "colab": {
          "base_uri": "https://localhost:8080/"
        },
        "id": "N3ghHa_dop--",
        "outputId": "4c730f3f-9ce2-4e23-ad5e-9488ad3d4e65"
      },
      "execution_count": null,
      "outputs": [
        {
          "output_type": "stream",
          "name": "stdout",
          "text": [
            "{'apple', 1, 2, 3, 4, 5, 100, 'banana', 'mohan', 'guava'}\n"
          ]
        }
      ]
    },
    {
      "cell_type": "code",
      "source": [
        "list_2 = [\"age\",\"name\",\"roll\"]\n",
        "\n",
        "set_2.update(list_2)\n",
        "print(set_2) # It is printing in this way because of unordered collection of data in set"
      ],
      "metadata": {
        "colab": {
          "base_uri": "https://localhost:8080/"
        },
        "id": "crJ9KQ7Vpze0",
        "outputId": "66b91f3d-b1de-459f-de03-a0fb93e2513c"
      },
      "execution_count": null,
      "outputs": [
        {
          "output_type": "stream",
          "name": "stdout",
          "text": [
            "{'apple', 'roll', 'name', 'age', 'banana', 'guava'}\n"
          ]
        }
      ]
    },
    {
      "cell_type": "code",
      "source": [
        "# Remove function is used to remove the items present in the set\n",
        "\n",
        "set_2.remove(\"oll\")\n",
        "print(set_2) # so here if we entered the value which doesn't exists it will throw an error"
      ],
      "metadata": {
        "colab": {
          "base_uri": "https://localhost:8080/",
          "height": 222
        },
        "id": "SB-L4-k_qSNQ",
        "outputId": "4cd8bc51-2a4b-4bf4-fc07-20962253783d"
      },
      "execution_count": null,
      "outputs": [
        {
          "output_type": "error",
          "ename": "KeyError",
          "evalue": "ignored",
          "traceback": [
            "\u001b[0;31m---------------------------------------------------------------------------\u001b[0m",
            "\u001b[0;31mKeyError\u001b[0m                                  Traceback (most recent call last)",
            "\u001b[0;32m<ipython-input-10-813d3078b4a3>\u001b[0m in \u001b[0;36m<module>\u001b[0;34m()\u001b[0m\n\u001b[1;32m      1\u001b[0m \u001b[0;31m# Remove function is used to remove the items present in the set\u001b[0m\u001b[0;34m\u001b[0m\u001b[0;34m\u001b[0m\u001b[0;34m\u001b[0m\u001b[0m\n\u001b[1;32m      2\u001b[0m \u001b[0;34m\u001b[0m\u001b[0m\n\u001b[0;32m----> 3\u001b[0;31m \u001b[0mset_2\u001b[0m\u001b[0;34m.\u001b[0m\u001b[0mremove\u001b[0m\u001b[0;34m(\u001b[0m\u001b[0;34m\"oll\"\u001b[0m\u001b[0;34m)\u001b[0m\u001b[0;34m\u001b[0m\u001b[0;34m\u001b[0m\u001b[0m\n\u001b[0m\u001b[1;32m      4\u001b[0m \u001b[0mprint\u001b[0m\u001b[0;34m(\u001b[0m\u001b[0mset_2\u001b[0m\u001b[0;34m)\u001b[0m\u001b[0;34m\u001b[0m\u001b[0;34m\u001b[0m\u001b[0m\n",
            "\u001b[0;31mKeyError\u001b[0m: 'oll'"
          ]
        }
      ]
    },
    {
      "cell_type": "code",
      "source": [
        "# we use discard() method instead of remove() it won't show any error either if there is no items found inside the set.\n",
        "\n",
        "set_2 = {'apple', 'roll', 'name', 'age', 'banana', 'guava'}\n",
        "set_2.discard(\"roll\")\n",
        "print(set_2)"
      ],
      "metadata": {
        "colab": {
          "base_uri": "https://localhost:8080/"
        },
        "id": "d99frI1CrAu9",
        "outputId": "c9fb8310-113c-4c22-905f-e247d8cd1219"
      },
      "execution_count": null,
      "outputs": [
        {
          "output_type": "stream",
          "name": "stdout",
          "text": [
            "{'apple', 'name', 'age', 'banana', 'guava'}\n"
          ]
        }
      ]
    },
    {
      "cell_type": "code",
      "source": [
        "set_2.discard(\"roll\")\n",
        "print(set_2)"
      ],
      "metadata": {
        "colab": {
          "base_uri": "https://localhost:8080/"
        },
        "id": "1ll7Gk_AsSpJ",
        "outputId": "7f569121-83a0-464b-9dd9-d0d0cd789859"
      },
      "execution_count": null,
      "outputs": [
        {
          "output_type": "stream",
          "name": "stdout",
          "text": [
            "{'apple', 'name', 'age', 'banana', 'guava'}\n"
          ]
        }
      ]
    },
    {
      "cell_type": "code",
      "source": [
        "# but if we use remove\n",
        "set_2.remove(\"roll\")\n",
        "print(set_2) # it will show error"
      ],
      "metadata": {
        "colab": {
          "base_uri": "https://localhost:8080/",
          "height": 204
        },
        "id": "grNegjbssbcq",
        "outputId": "2f148c84-b5c3-4dbb-dfb2-5f97102363ca"
      },
      "execution_count": null,
      "outputs": [
        {
          "output_type": "error",
          "ename": "KeyError",
          "evalue": "ignored",
          "traceback": [
            "\u001b[0;31m---------------------------------------------------------------------------\u001b[0m",
            "\u001b[0;31mKeyError\u001b[0m                                  Traceback (most recent call last)",
            "\u001b[0;32m<ipython-input-14-5ae1a18d2bc8>\u001b[0m in \u001b[0;36m<module>\u001b[0;34m()\u001b[0m\n\u001b[1;32m      1\u001b[0m \u001b[0;31m# but if we use remove\u001b[0m\u001b[0;34m\u001b[0m\u001b[0;34m\u001b[0m\u001b[0;34m\u001b[0m\u001b[0m\n\u001b[0;32m----> 2\u001b[0;31m \u001b[0mset_2\u001b[0m\u001b[0;34m.\u001b[0m\u001b[0mremove\u001b[0m\u001b[0;34m(\u001b[0m\u001b[0;34m\"roll\"\u001b[0m\u001b[0;34m)\u001b[0m\u001b[0;34m\u001b[0m\u001b[0;34m\u001b[0m\u001b[0m\n\u001b[0m\u001b[1;32m      3\u001b[0m \u001b[0mprint\u001b[0m\u001b[0;34m(\u001b[0m\u001b[0mset_2\u001b[0m\u001b[0;34m)\u001b[0m\u001b[0;34m\u001b[0m\u001b[0;34m\u001b[0m\u001b[0m\n",
            "\u001b[0;31mKeyError\u001b[0m: 'roll'"
          ]
        }
      ]
    },
    {
      "cell_type": "code",
      "source": [
        "del set_2\n",
        "print(set_2)"
      ],
      "metadata": {
        "colab": {
          "base_uri": "https://localhost:8080/",
          "height": 187
        },
        "id": "FVioLXGAsj9z",
        "outputId": "36b2beb5-2fad-4ee7-86f7-7d39f3cdd0e7"
      },
      "execution_count": null,
      "outputs": [
        {
          "output_type": "error",
          "ename": "NameError",
          "evalue": "ignored",
          "traceback": [
            "\u001b[0;31m---------------------------------------------------------------------------\u001b[0m",
            "\u001b[0;31mNameError\u001b[0m                                 Traceback (most recent call last)",
            "\u001b[0;32m<ipython-input-16-601f805e2aaf>\u001b[0m in \u001b[0;36m<module>\u001b[0;34m()\u001b[0m\n\u001b[1;32m      1\u001b[0m \u001b[0;32mdel\u001b[0m \u001b[0mset_2\u001b[0m\u001b[0;34m\u001b[0m\u001b[0;34m\u001b[0m\u001b[0m\n\u001b[0;32m----> 2\u001b[0;31m \u001b[0mprint\u001b[0m\u001b[0;34m(\u001b[0m\u001b[0mset_2\u001b[0m\u001b[0;34m)\u001b[0m\u001b[0;34m\u001b[0m\u001b[0;34m\u001b[0m\u001b[0m\n\u001b[0m",
            "\u001b[0;31mNameError\u001b[0m: name 'set_2' is not defined"
          ]
        }
      ]
    },
    {
      "cell_type": "code",
      "source": [
        "set_2 = {'apple', 'roll', 'name', 'age', 'banana', 'guava'}\n",
        "set_2.clear()\n",
        "print(set_2)"
      ],
      "metadata": {
        "colab": {
          "base_uri": "https://localhost:8080/"
        },
        "id": "nh20PTlitMGR",
        "outputId": "6d1425b1-15d8-43ba-bcc0-f6b3ddae30ed"
      },
      "execution_count": null,
      "outputs": [
        {
          "output_type": "stream",
          "name": "stdout",
          "text": [
            "set()\n"
          ]
        }
      ]
    },
    {
      "cell_type": "code",
      "source": [
        "# we saw that using clear we are deleting all the values present inside set.\n",
        "# but by using del() we completely deleting the set."
      ],
      "metadata": {
        "id": "j3c2U-xctgX1"
      },
      "execution_count": null,
      "outputs": []
    },
    {
      "cell_type": "code",
      "source": [
        "# LOOPS In sets\n",
        "set_2 = {'apple', 'roll', 'name', 'age', 'banana', 'guava'}\n",
        "for x in set_2:\n",
        "  print(x)\n"
      ],
      "metadata": {
        "colab": {
          "base_uri": "https://localhost:8080/"
        },
        "id": "Tg9xmyiht18F",
        "outputId": "bb4eaad8-35a2-49b2-d12f-31af25e46091"
      },
      "execution_count": null,
      "outputs": [
        {
          "output_type": "stream",
          "name": "stdout",
          "text": [
            "apple\n",
            "roll\n",
            "name\n",
            "age\n",
            "banana\n",
            "guava\n"
          ]
        }
      ]
    },
    {
      "cell_type": "code",
      "source": [
        "set_2 = {'apple', 'roll', 'name', 'age', 'banana', 'guava'}\n",
        "set_3 = {1,2,3,4,5}\n",
        "# using Union in a set\n",
        "\n",
        "set_4 = set_2.union(set_3)\n",
        "print(set_4)\n",
        "\n"
      ],
      "metadata": {
        "colab": {
          "base_uri": "https://localhost:8080/"
        },
        "id": "fQLtHk8UuFsy",
        "outputId": "21638608-2a8d-455e-cdc4-e5d4c6e78aa0"
      },
      "execution_count": null,
      "outputs": [
        {
          "output_type": "stream",
          "name": "stdout",
          "text": [
            "{'apple', 1, 2, 3, 4, 5, 'roll', 'name', 'age', 'banana', 'guava'}\n"
          ]
        }
      ]
    },
    {
      "cell_type": "code",
      "source": [
        "set_1 = {100,200,300,400}\n",
        "\n",
        "set_1.update(set_2)\n",
        "print(set_1)"
      ],
      "metadata": {
        "colab": {
          "base_uri": "https://localhost:8080/"
        },
        "id": "coX68CLjutDe",
        "outputId": "5b9e4472-cc58-4836-92d3-a782913bafdb"
      },
      "execution_count": null,
      "outputs": [
        {
          "output_type": "stream",
          "name": "stdout",
          "text": [
            "{'apple', 100, 200, 'roll', 300, 'name', 400, 'age', 'banana', 'guava'}\n"
          ]
        }
      ]
    },
    {
      "cell_type": "code",
      "source": [
        "# add\n",
        "set_1.add('hey')\n",
        "print(set_1)"
      ],
      "metadata": {
        "colab": {
          "base_uri": "https://localhost:8080/"
        },
        "id": "mL5Y7XtxvBMP",
        "outputId": "20b891ec-7ae0-4260-e4b3-595e4df87a06"
      },
      "execution_count": null,
      "outputs": [
        {
          "output_type": "stream",
          "name": "stdout",
          "text": [
            "{'apple', 100, 200, 'roll', 300, 'name', 400, 'age', 'banana', 'hey', 'guava'}\n"
          ]
        }
      ]
    },
    {
      "cell_type": "code",
      "source": [
        "set_1.clear()\n",
        "print(set_1)"
      ],
      "metadata": {
        "colab": {
          "base_uri": "https://localhost:8080/"
        },
        "id": "0zChmLgvvPl9",
        "outputId": "801af1c0-c86f-4ed0-ff39-491223b2692a"
      },
      "execution_count": null,
      "outputs": [
        {
          "output_type": "stream",
          "name": "stdout",
          "text": [
            "set()\n"
          ]
        }
      ]
    },
    {
      "cell_type": "code",
      "source": [
        "set_1 = {100,200,300,400}"
      ],
      "metadata": {
        "id": "JKuM6YMDvWk8"
      },
      "execution_count": null,
      "outputs": []
    },
    {
      "cell_type": "code",
      "source": [
        "set_2 = {'apple', 'roll', 'name',400}\n",
        "z = set_1.difference(set_2)\n",
        "print(z) # what differece will do here the difference wil remove the common element from both the sets.\n",
        "\n"
      ],
      "metadata": {
        "colab": {
          "base_uri": "https://localhost:8080/"
        },
        "id": "D2TvdOgRvZpW",
        "outputId": "2c87aed9-cfff-47e7-a35b-1cab10d7b96b"
      },
      "execution_count": null,
      "outputs": [
        {
          "output_type": "stream",
          "name": "stdout",
          "text": [
            "{200, 100, 300}\n"
          ]
        }
      ]
    },
    {
      "cell_type": "code",
      "source": [
        "# use of intersection\n",
        "set_2 = {'apple', 'roll', 'name',400}\n",
        "set_1 = {100,200,300,400}\n",
        "\n",
        "z = set_1.intersection(set_2)\n",
        "print(z)"
      ],
      "metadata": {
        "colab": {
          "base_uri": "https://localhost:8080/"
        },
        "id": "O_-UEvdqv7T2",
        "outputId": "a7326da7-869c-41f0-b18a-331397bacab3"
      },
      "execution_count": null,
      "outputs": [
        {
          "output_type": "stream",
          "name": "stdout",
          "text": [
            "{400}\n"
          ]
        }
      ]
    },
    {
      "cell_type": "code",
      "source": [
        "set_1 = {100,200,300,400}\n",
        "set_2 = {'apple', 'roll', 'name',400}\n",
        "set_1.intersection_update(set_2)\n",
        "print(set_1)\n",
        "print(set_2)"
      ],
      "metadata": {
        "colab": {
          "base_uri": "https://localhost:8080/"
        },
        "id": "C7qwZDkDxxfP",
        "outputId": "2b100058-05d9-4df0-f657-e9f79045213d"
      },
      "execution_count": null,
      "outputs": [
        {
          "output_type": "stream",
          "name": "stdout",
          "text": [
            "{400}\n",
            "{'apple', 'roll', 400, 'name'}\n"
          ]
        }
      ]
    },
    {
      "cell_type": "code",
      "source": [
        "set_1 = {100,200,300,400}\n",
        "set_2 = {'apple', 'roll', 'name',400}\n",
        "z = set_1.difference(set_2)\n",
        "print(z)"
      ],
      "metadata": {
        "colab": {
          "base_uri": "https://localhost:8080/"
        },
        "id": "AsIn1gVhyhN6",
        "outputId": "d6a7b7c7-f536-40de-8f6b-153060299589"
      },
      "execution_count": null,
      "outputs": [
        {
          "output_type": "stream",
          "name": "stdout",
          "text": [
            "{200, 100, 300}\n"
          ]
        }
      ]
    },
    {
      "cell_type": "code",
      "source": [
        "set_1 = {100,200,300,400}\n",
        "set_2 = {'apple', 'roll', 'name',400}\n",
        "set_1.difference_update(set_2)\n",
        "print(set_1)"
      ],
      "metadata": {
        "colab": {
          "base_uri": "https://localhost:8080/"
        },
        "id": "BhT1Z0V0yweb",
        "outputId": "ace171ed-75cc-4ff0-cac8-1dcc9a111e3b"
      },
      "execution_count": null,
      "outputs": [
        {
          "output_type": "stream",
          "name": "stdout",
          "text": [
            "{200, 100, 300}\n"
          ]
        }
      ]
    },
    {
      "cell_type": "code",
      "source": [
        "print(set_2)"
      ],
      "metadata": {
        "colab": {
          "base_uri": "https://localhost:8080/"
        },
        "id": "Uu-oHss1y7s2",
        "outputId": "e28034f4-0c73-465a-bc01-9fe6afb7bfbe"
      },
      "execution_count": null,
      "outputs": [
        {
          "output_type": "stream",
          "name": "stdout",
          "text": [
            "{'apple', 'roll', 400, 'name'}\n"
          ]
        }
      ]
    },
    {
      "cell_type": "code",
      "source": [
        "# pattern making\n",
        "'''1. tringular/ Pyramid pattern for sequence of number from 1 to 5'''\n",
        "\n",
        "num = 6\n",
        "for i in range(num):\n",
        "  #row = '*' # if you want to print numbers simply remove row from there and keeo nothing\n",
        "  for j in range(i):\n",
        "    print(i, end =\" \")\n",
        "  print(\"\")\n"
      ],
      "metadata": {
        "colab": {
          "base_uri": "https://localhost:8080/"
        },
        "id": "ycboLAuiy-Nx",
        "outputId": "19f023a7-bba5-4ce4-d352-6a2fd247634a"
      },
      "execution_count": null,
      "outputs": [
        {
          "output_type": "stream",
          "name": "stdout",
          "text": [
            "\n",
            "1 \n",
            "2 2 \n",
            "3 3 3 \n",
            "4 4 4 4 \n",
            "5 5 5 5 5 \n"
          ]
        }
      ]
    },
    {
      "cell_type": "code",
      "source": [
        "''' Inverted payramid of inverted number'''\n",
        "row = 5\n",
        "for i in range(row,0,-1):\n",
        "  #num = i # instead of star \"i\" is given as a values\n",
        "  for j in range(1,i+1):\n",
        "    print(i, end = \" \")\n",
        "\n",
        "  print(\"\\r\")"
      ],
      "metadata": {
        "colab": {
          "base_uri": "https://localhost:8080/"
        },
        "id": "NLvZxFDRfysa",
        "outputId": "bab6048a-0f34-4368-b889-1a127f6b7c0b"
      },
      "execution_count": null,
      "outputs": [
        {
          "output_type": "stream",
          "name": "stdout",
          "text": [
            "5 5 5 5 5 \r\n",
            "4 4 4 4 \r\n",
            "3 3 3 \r\n",
            "2 2 \r\n",
            "1 \r\n"
          ]
        }
      ]
    },
    {
      "cell_type": "code",
      "source": [
        "row = 5\n",
        "b = 0\n",
        "for i in range(row,0,-1):\n",
        "  b += 1\n",
        "  for j in range(1, i+1):\n",
        "    print(b, end =\"\")\n",
        "  print(\"\\r\")"
      ],
      "metadata": {
        "colab": {
          "base_uri": "https://localhost:8080/"
        },
        "id": "MFblK1Ebg-pI",
        "outputId": "ff3d7bb7-6553-429c-e5c8-5564077f2e3b"
      },
      "execution_count": null,
      "outputs": [
        {
          "output_type": "stream",
          "name": "stdout",
          "text": [
            "11111\r\n",
            "2222\r\n",
            "333\r\n",
            "44\r\n",
            "5\r\n"
          ]
        }
      ]
    },
    {
      "cell_type": "code",
      "source": [
        "#logic to draw more than 10 pattern with a single logic for right angle triangle.\n",
        "row_no = int(input(\"Enter the no of rows : \"))\n",
        "\n",
        "for row in range(1,row_no+1):\n",
        "  for column in range(1, row+1):\n",
        "    print(row, end=\"\")# print function for printing total number of columns\n",
        "  print() # for changing the row we need to write print in 1st for loop.\n",
        "  "
      ],
      "metadata": {
        "colab": {
          "base_uri": "https://localhost:8080/"
        },
        "id": "6xSEVVQnP01j",
        "outputId": "c11c9359-e4d7-4781-c3fe-6849f159d5b4"
      },
      "execution_count": null,
      "outputs": [
        {
          "output_type": "stream",
          "name": "stdout",
          "text": [
            "Enter the no of rows : 4\n",
            "1\n",
            "22\n",
            "333\n",
            "4444\n"
          ]
        }
      ]
    },
    {
      "cell_type": "code",
      "source": [
        "# reversing the above pattern\n",
        "\n",
        "row_no = int(input(\"Enter the number of rows : \"))\n",
        "\n",
        "for row in range(row_no, 0, -1):\n",
        "  for column in range(1,row+1):\n",
        "    print(row, end = \"\")\n",
        "  print()"
      ],
      "metadata": {
        "colab": {
          "base_uri": "https://localhost:8080/"
        },
        "id": "fN5ZdDP2tX2T",
        "outputId": "2f64fc03-ac84-4b10-acd6-c42b1e15ddc4"
      },
      "execution_count": null,
      "outputs": [
        {
          "output_type": "stream",
          "name": "stdout",
          "text": [
            "Enter the number of rows : 4\n",
            "4444\n",
            "333\n",
            "22\n",
            "1\n"
          ]
        }
      ]
    },
    {
      "cell_type": "code",
      "source": [
        "row_no = int(input(\"Enter the no of rows :\"))\n",
        "\n",
        "for row in range(1, row_no+1):\n",
        "  for column in range(1, row+1):\n",
        "    print(\"*\", end=\"\")\n",
        "  print()\n",
        "\n",
        "for row in range(row_no-1, 0, -1):\n",
        "  for column in range(1, row+1):\n",
        "    print(\"*\", end=\"\")\n",
        "  print()"
      ],
      "metadata": {
        "colab": {
          "base_uri": "https://localhost:8080/"
        },
        "id": "mXBptY7i5uV8",
        "outputId": "c58697a4-f9a9-4d86-9824-40ce23c21e82"
      },
      "execution_count": null,
      "outputs": [
        {
          "output_type": "stream",
          "name": "stdout",
          "text": [
            "Enter the no of rows :10\n",
            "*\n",
            "**\n",
            "***\n",
            "****\n",
            "*****\n",
            "******\n",
            "*******\n",
            "********\n",
            "*********\n",
            "**********\n",
            "*********\n",
            "********\n",
            "*******\n",
            "******\n",
            "*****\n",
            "****\n",
            "***\n",
            "**\n",
            "*\n"
          ]
        }
      ]
    },
    {
      "cell_type": "code",
      "source": [
        "# Print the values in order form\n",
        "row_no = int(input(\"Enter the number\"))\n",
        "\n",
        "for row in range(1,row_no+1):\n",
        "  for column in range(1, row+1):\n",
        "    print(column, end=\"\")\n",
        "  print()"
      ],
      "metadata": {
        "colab": {
          "base_uri": "https://localhost:8080/"
        },
        "id": "AOAv5_8m6rjO",
        "outputId": "ccff04ce-5142-42b7-917b-d5636b012d4b"
      },
      "execution_count": null,
      "outputs": [
        {
          "output_type": "stream",
          "name": "stdout",
          "text": [
            "Enter the number4\n",
            "1\n",
            "12\n",
            "123\n",
            "1234\n"
          ]
        }
      ]
    },
    {
      "cell_type": "code",
      "source": [
        "row_no = int(input(\"Enter the row number\"))\n",
        "for row in range(row_no, 0, -1):\n",
        "  for column in range(1, row+1):\n",
        "    print(column, end=\"\")\n",
        "  print()"
      ],
      "metadata": {
        "colab": {
          "base_uri": "https://localhost:8080/"
        },
        "id": "h0IzwdCk8yQt",
        "outputId": "f133d543-63a1-49de-ada2-7c85b26fdd40"
      },
      "execution_count": null,
      "outputs": [
        {
          "output_type": "stream",
          "name": "stdout",
          "text": [
            "Enter the row number4\n",
            "1234\n",
            "123\n",
            "12\n",
            "1\n"
          ]
        }
      ]
    },
    {
      "cell_type": "code",
      "source": [
        "row_no = int(input(\"Enter the no of rows :\"))\n",
        "\n",
        "for row in range(1, row_no+1):\n",
        "  for column in range(1, row+1):\n",
        "    print(column, end=\"\")\n",
        "  print()\n",
        "\n",
        "for row in range(row_no-1, 0, -1):\n",
        "  for column in range(1, row+1):\n",
        "    print(column, end=\"\")\n",
        "  print()"
      ],
      "metadata": {
        "colab": {
          "base_uri": "https://localhost:8080/"
        },
        "id": "MxgBqavi9Jtt",
        "outputId": "ad9ae9ed-1277-414e-8f4b-1fc4eacddbb1"
      },
      "execution_count": null,
      "outputs": [
        {
          "output_type": "stream",
          "name": "stdout",
          "text": [
            "Enter the no of rows :4\n",
            "1\n",
            "12\n",
            "123\n",
            "1234\n",
            "123\n",
            "12\n",
            "1\n"
          ]
        }
      ]
    },
    {
      "cell_type": "code",
      "source": [
        "# print patern in the form of alphabet tomorrows task. for the same pattern.\n",
        "\n",
        "row_no = int(input(\"Enter the no of rows :\"))\n",
        "ch = 64 \n",
        "for row in range(1, row_no+1):\n",
        "  for column in range(1, row+1):\n",
        "    print(\"{0}\".format(chr(ch+column)), end = \"\")\n",
        "  print()"
      ],
      "metadata": {
        "colab": {
          "base_uri": "https://localhost:8080/"
        },
        "id": "YmeIzub99xAv",
        "outputId": "2e4f3501-368a-470d-b7e7-9deaa6fd4cc5"
      },
      "execution_count": null,
      "outputs": [
        {
          "output_type": "stream",
          "name": "stdout",
          "text": [
            "Enter the no of rows :4\n",
            "A\n",
            "AB\n",
            "ABC\n",
            "ABCD\n"
          ]
        }
      ]
    },
    {
      "cell_type": "code",
      "source": [
        "row_no = int(input(\"Enter the no of rows :\"))\n",
        "ch = 64 \n",
        "for row in range(1, row_no+1):\n",
        "  ch = ch+1\n",
        "  for column in range(1, row+1):\n",
        "    print(\"{0}\".format(chr(ch)), end = \"\")\n",
        "  print()"
      ],
      "metadata": {
        "colab": {
          "base_uri": "https://localhost:8080/"
        },
        "id": "t2nUjtlEBVtO",
        "outputId": "bbd8fef8-5f9d-4b65-bb48-583937587085"
      },
      "execution_count": null,
      "outputs": [
        {
          "output_type": "stream",
          "name": "stdout",
          "text": [
            "Enter the no of rows :4\n",
            "A\n",
            "BB\n",
            "CCC\n",
            "DDDD\n"
          ]
        }
      ]
    },
    {
      "cell_type": "code",
      "source": [
        "row_no = int(input(\"Enter the no of rows :\"))\n",
        "ch = 64 \n",
        "for row in range(1, row_no+1):\n",
        "  for column in range(1, row+1):\n",
        "    ch = ch+1\n",
        "    print(\"{0}\".format(chr(ch)), end = \"\")\n",
        "  print()\n",
        "\n",
        "# creat different patterns with your own"
      ],
      "metadata": {
        "colab": {
          "base_uri": "https://localhost:8080/"
        },
        "id": "uRXHPq-jCkZM",
        "outputId": "a8fcf003-aa0d-40ca-b812-53df691be70f"
      },
      "execution_count": null,
      "outputs": [
        {
          "output_type": "stream",
          "name": "stdout",
          "text": [
            "Enter the no of rows :4\n",
            "A\n",
            "BC\n",
            "DEF\n",
            "GHIJ\n"
          ]
        }
      ]
    },
    {
      "cell_type": "code",
      "source": [
        "# next pattern is\n",
        "\n",
        "row_no = int(input(\"Enter the number\"))\n",
        "\n",
        "sum = 0\n",
        "for i in range(1, row_no+1):\n",
        "  for j in range(1, i+1):\n",
        "    sum = sum+1\n",
        "    print(\"{0}\".format(sum), end = \"\")\n",
        "  print()"
      ],
      "metadata": {
        "colab": {
          "base_uri": "https://localhost:8080/"
        },
        "id": "KNkUMIB-C20-",
        "outputId": "d873545a-08b2-4b6f-84b8-752843c56955"
      },
      "execution_count": null,
      "outputs": [
        {
          "output_type": "stream",
          "name": "stdout",
          "text": [
            "Enter the number4\n",
            "1\n",
            "23\n",
            "456\n",
            "78910\n"
          ]
        }
      ]
    },
    {
      "cell_type": "code",
      "source": [
        "file_path = \"/content/drive/MyDrive/Machine_Learning_AI.txt\""
      ],
      "metadata": {
        "id": "F7HnsN0RPF58"
      },
      "execution_count": null,
      "outputs": []
    },
    {
      "cell_type": "code",
      "source": [
        "our_text_file = open(file_path,'r') "
      ],
      "metadata": {
        "id": "E31mdeTAPoR9"
      },
      "execution_count": null,
      "outputs": []
    },
    {
      "cell_type": "code",
      "source": [
        "with open(\"/content/drive/MyDrive/Machine_Learning_AI.txt\")"
      ],
      "metadata": {
        "colab": {
          "base_uri": "https://localhost:8080/",
          "height": 133
        },
        "id": "U_cZa1f7QlEa",
        "outputId": "5fec32d6-2b81-494d-acd0-c8489a872518"
      },
      "execution_count": null,
      "outputs": [
        {
          "output_type": "error",
          "ename": "SyntaxError",
          "evalue": "ignored",
          "traceback": [
            "\u001b[0;36m  File \u001b[0;32m\"<ipython-input-11-fe3a8f55cad0>\"\u001b[0;36m, line \u001b[0;32m1\u001b[0m\n\u001b[0;31m    with open(\"/content/drive/MyDrive/Machine_Learning_AI.txt\"):\u001b[0m\n\u001b[0m                                                                ^\u001b[0m\n\u001b[0;31mSyntaxError\u001b[0m\u001b[0;31m:\u001b[0m unexpected EOF while parsing\n"
          ]
        }
      ]
    },
    {
      "cell_type": "code",
      "source": [
        "List = []\n",
        "def minSumArray(arr: List[::]) -> int:\n",
        "    mono_stack = [-1]\n",
        "    result = 0\n",
        "\n",
        "    for right_index, number in enumerate(arr + [0]):\n",
        "\n",
        "        while len(mono_stack) > 1 and number < arr[mono_stack[-1]]:\n",
        "            number_index = mono_stack.pop()\n",
        "            left_boundary = mono_stack[-1]\n",
        "\n",
        "            left_length = number_index - left_boundary\n",
        "            right_length = right_index - number_index\n",
        "\n",
        "            result += (left_length * right_length) * arr[number_index] * arr[number_index]\n",
        "\n",
        "            left_idx_diff = left_length - 1\n",
        "            while left_idx_diff > 0:\n",
        "                result += left_idx_diff * right_length * arr[number_index - left_idx_diff] * arr[number_index]\n",
        "                left_idx_diff -= 1\n",
        "\n",
        "            right_length_diff = right_length - 1\n",
        "            while right_length_diff > 0:\n",
        "                result += right_length_diff * left_length * arr[number_index + right_length_diff]\n",
        "                right_length_diff -= 1\n",
        "\n",
        "        mono_stack.append(right_index)\n",
        "\n",
        "    return result % (10 ** 9 + 7)"
      ],
      "metadata": {
        "id": "ltKW07LBUiit"
      },
      "execution_count": null,
      "outputs": []
    },
    {
      "cell_type": "code",
      "source": [
        "List = [2,1,3]\n",
        "print(minSumArray(List))"
      ],
      "metadata": {
        "colab": {
          "base_uri": "https://localhost:8080/"
        },
        "id": "ZbtPE_omU3vH",
        "outputId": "78dbf84d-8fb4-47d9-ca94-183d3f1d6fe2"
      },
      "execution_count": null,
      "outputs": [
        {
          "output_type": "stream",
          "name": "stdout",
          "text": [
            "27\n"
          ]
        }
      ]
    },
    {
      "cell_type": "code",
      "source": [
        "arr = [2,1,3]\n",
        "def kadane(arr):\n",
        "  max_current = max_global= arr[0]\n",
        "  for i in range(1,len(arr)-1):\n",
        "    max_current = max(arr[i]), max_current+arr[i]\n",
        "    if max_current>max_global:\n",
        "      max_global = max_current\n",
        "    return(max_global)\n"
      ],
      "metadata": {
        "id": "xVXKff-PViOd"
      },
      "execution_count": null,
      "outputs": []
    },
    {
      "cell_type": "code",
      "source": [
        "arr = [2,1,3]\n",
        "print(kadane(arr))"
      ],
      "metadata": {
        "colab": {
          "base_uri": "https://localhost:8080/",
          "height": 312
        },
        "id": "1cp6ssLnqzMo",
        "outputId": "e86d3879-edd6-4cbd-9208-598c4eebdb49"
      },
      "execution_count": null,
      "outputs": [
        {
          "output_type": "error",
          "ename": "TypeError",
          "evalue": "ignored",
          "traceback": [
            "\u001b[0;31m---------------------------------------------------------------------------\u001b[0m",
            "\u001b[0;31mTypeError\u001b[0m                                 Traceback (most recent call last)",
            "\u001b[0;32m<ipython-input-93-c90f6f6adc5d>\u001b[0m in \u001b[0;36m<module>\u001b[0;34m()\u001b[0m\n\u001b[1;32m      1\u001b[0m \u001b[0marr\u001b[0m \u001b[0;34m=\u001b[0m \u001b[0;34m[\u001b[0m\u001b[0;36m2\u001b[0m\u001b[0;34m,\u001b[0m\u001b[0;36m1\u001b[0m\u001b[0;34m,\u001b[0m\u001b[0;36m3\u001b[0m\u001b[0;34m]\u001b[0m\u001b[0;34m\u001b[0m\u001b[0;34m\u001b[0m\u001b[0m\n\u001b[0;32m----> 2\u001b[0;31m \u001b[0mprint\u001b[0m\u001b[0;34m(\u001b[0m\u001b[0mkadane\u001b[0m\u001b[0;34m(\u001b[0m\u001b[0marr\u001b[0m\u001b[0;34m)\u001b[0m\u001b[0;34m)\u001b[0m\u001b[0;34m\u001b[0m\u001b[0;34m\u001b[0m\u001b[0m\n\u001b[0m",
            "\u001b[0;32m<ipython-input-92-9a360c738c15>\u001b[0m in \u001b[0;36mkadane\u001b[0;34m(arr)\u001b[0m\n\u001b[1;32m      3\u001b[0m   \u001b[0mmax_current\u001b[0m \u001b[0;34m=\u001b[0m \u001b[0mmax_global\u001b[0m\u001b[0;34m=\u001b[0m \u001b[0marr\u001b[0m\u001b[0;34m[\u001b[0m\u001b[0;36m0\u001b[0m\u001b[0;34m]\u001b[0m\u001b[0;34m\u001b[0m\u001b[0;34m\u001b[0m\u001b[0m\n\u001b[1;32m      4\u001b[0m   \u001b[0;32mfor\u001b[0m \u001b[0mi\u001b[0m \u001b[0;32min\u001b[0m \u001b[0mrange\u001b[0m\u001b[0;34m(\u001b[0m\u001b[0;36m1\u001b[0m\u001b[0;34m,\u001b[0m\u001b[0mlen\u001b[0m\u001b[0;34m(\u001b[0m\u001b[0marr\u001b[0m\u001b[0;34m)\u001b[0m\u001b[0;34m-\u001b[0m\u001b[0;36m1\u001b[0m\u001b[0;34m)\u001b[0m\u001b[0;34m:\u001b[0m\u001b[0;34m\u001b[0m\u001b[0;34m\u001b[0m\u001b[0m\n\u001b[0;32m----> 5\u001b[0;31m     \u001b[0mmax_current\u001b[0m \u001b[0;34m=\u001b[0m \u001b[0mmax\u001b[0m\u001b[0;34m(\u001b[0m\u001b[0marr\u001b[0m\u001b[0;34m[\u001b[0m\u001b[0;36m0\u001b[0m\u001b[0;34m:\u001b[0m\u001b[0mi\u001b[0m\u001b[0;34m]\u001b[0m\u001b[0;34m)\u001b[0m\u001b[0;34m,\u001b[0m \u001b[0mmax_current\u001b[0m\u001b[0;34m+\u001b[0m\u001b[0marr\u001b[0m\u001b[0;34m[\u001b[0m\u001b[0;36m0\u001b[0m\u001b[0;34m:\u001b[0m\u001b[0mi\u001b[0m\u001b[0;34m]\u001b[0m\u001b[0;34m\u001b[0m\u001b[0;34m\u001b[0m\u001b[0m\n\u001b[0m\u001b[1;32m      6\u001b[0m     \u001b[0;32mif\u001b[0m \u001b[0mmax_current\u001b[0m\u001b[0;34m>\u001b[0m\u001b[0mmax_global\u001b[0m\u001b[0;34m:\u001b[0m\u001b[0;34m\u001b[0m\u001b[0;34m\u001b[0m\u001b[0m\n\u001b[1;32m      7\u001b[0m       \u001b[0mmax_global\u001b[0m \u001b[0;34m=\u001b[0m \u001b[0mmax_current\u001b[0m\u001b[0;34m\u001b[0m\u001b[0;34m\u001b[0m\u001b[0m\n",
            "\u001b[0;31mTypeError\u001b[0m: unsupported operand type(s) for +: 'int' and 'list'"
          ]
        }
      ]
    },
    {
      "cell_type": "code",
      "source": [
        "arr = [2,1,3]\n",
        "n = len(arr)\n",
        "print(\"max is\", maxSubarrayProduct(arr,n))"
      ],
      "metadata": {
        "colab": {
          "base_uri": "https://localhost:8080/",
          "height": 329
        },
        "id": "SzEnIPpkhdlY",
        "outputId": "f3944d38-4306-4fb8-c623-4974b520d715"
      },
      "execution_count": null,
      "outputs": [
        {
          "output_type": "error",
          "ename": "TypeError",
          "evalue": "ignored",
          "traceback": [
            "\u001b[0;31m---------------------------------------------------------------------------\u001b[0m",
            "\u001b[0;31mTypeError\u001b[0m                                 Traceback (most recent call last)",
            "\u001b[0;32m<ipython-input-100-fd7858bfc828>\u001b[0m in \u001b[0;36m<module>\u001b[0;34m()\u001b[0m\n\u001b[1;32m      1\u001b[0m \u001b[0marr\u001b[0m \u001b[0;34m=\u001b[0m \u001b[0;34m[\u001b[0m\u001b[0;36m2\u001b[0m\u001b[0;34m,\u001b[0m\u001b[0;36m1\u001b[0m\u001b[0;34m,\u001b[0m\u001b[0;36m3\u001b[0m\u001b[0;34m]\u001b[0m\u001b[0;34m\u001b[0m\u001b[0;34m\u001b[0m\u001b[0m\n\u001b[1;32m      2\u001b[0m \u001b[0mn\u001b[0m \u001b[0;34m=\u001b[0m \u001b[0mlen\u001b[0m\u001b[0;34m(\u001b[0m\u001b[0marr\u001b[0m\u001b[0;34m)\u001b[0m\u001b[0;34m\u001b[0m\u001b[0;34m\u001b[0m\u001b[0m\n\u001b[0;32m----> 3\u001b[0;31m \u001b[0mprint\u001b[0m\u001b[0;34m(\u001b[0m\u001b[0;34m\"max is\"\u001b[0m\u001b[0;34m,\u001b[0m \u001b[0mmaxSubarrayProduct\u001b[0m\u001b[0;34m(\u001b[0m\u001b[0marr\u001b[0m\u001b[0;34m,\u001b[0m\u001b[0mn\u001b[0m\u001b[0;34m)\u001b[0m\u001b[0;34m)\u001b[0m\u001b[0;34m\u001b[0m\u001b[0;34m\u001b[0m\u001b[0m\n\u001b[0m",
            "\u001b[0;32m<ipython-input-99-125f1047eee1>\u001b[0m in \u001b[0;36mmaxSubarrayProduct\u001b[0;34m(arr, n)\u001b[0m\n\u001b[1;32m     15\u001b[0m             \u001b[0;31m# updating result every time\u001b[0m\u001b[0;34m\u001b[0m\u001b[0;34m\u001b[0m\u001b[0;34m\u001b[0m\u001b[0m\n\u001b[1;32m     16\u001b[0m             \u001b[0;31m# to keep an eye over the maximum product\u001b[0m\u001b[0;34m\u001b[0m\u001b[0;34m\u001b[0m\u001b[0;34m\u001b[0m\u001b[0m\n\u001b[0;32m---> 17\u001b[0;31m             \u001b[0mresult\u001b[0m \u001b[0;34m=\u001b[0m \u001b[0msum\u001b[0m\u001b[0;34m(\u001b[0m\u001b[0mresult\u001b[0m\u001b[0;34m,\u001b[0m \u001b[0mmul\u001b[0m\u001b[0;34m)\u001b[0m\u001b[0;34m\u001b[0m\u001b[0;34m\u001b[0m\u001b[0m\n\u001b[0m\u001b[1;32m     18\u001b[0m             \u001b[0mmul\u001b[0m \u001b[0;34m*=\u001b[0m \u001b[0marr\u001b[0m\u001b[0;34m[\u001b[0m\u001b[0mj\u001b[0m\u001b[0;34m]\u001b[0m\u001b[0;34m\u001b[0m\u001b[0;34m\u001b[0m\u001b[0m\n\u001b[1;32m     19\u001b[0m \u001b[0;34m\u001b[0m\u001b[0m\n",
            "\u001b[0;31mTypeError\u001b[0m: 'int' object is not iterable"
          ]
        }
      ]
    },
    {
      "cell_type": "code",
      "source": [
        "\n",
        "  # print \"r\"\n",
        "  \n",
        "  a = [2,3,4,{12:1,'hi':7,'g':[20,40,'er']}]\n",
        "\n",
        "  print(a[3]['g'][2][1])"
      ],
      "metadata": {
        "id": "9dmZC_uaqL2o",
        "colab": {
          "base_uri": "https://localhost:8080/"
        },
        "outputId": "a5027f21-010b-4d47-db6a-b2a4201adfcd"
      },
      "execution_count": null,
      "outputs": [
        {
          "output_type": "stream",
          "name": "stdout",
          "text": [
            "r\n"
          ]
        }
      ]
    },
    {
      "cell_type": "code",
      "source": [
        "# ' '-> single quotation\n",
        "# \"\"-> doubble quotation\n",
        "# ()-> paranthese\n",
        "# print()-> This will help you to print anything you want"
      ],
      "metadata": {
        "id": "Nm4GCkkpqR8E"
      },
      "execution_count": null,
      "outputs": []
    },
    {
      "cell_type": "code",
      "source": [
        "print('dennins')"
      ],
      "metadata": {
        "colab": {
          "base_uri": "https://localhost:8080/"
        },
        "id": "vqeJ3rc0qR-2",
        "outputId": "af3ade01-fa75-4580-cfd6-33619fb8dc53"
      },
      "execution_count": null,
      "outputs": [
        {
          "output_type": "stream",
          "name": "stdout",
          "text": [
            "dennins\n"
          ]
        }
      ]
    },
    {
      "cell_type": "code",
      "source": [
        "print(\"I am new to python\")"
      ],
      "metadata": {
        "colab": {
          "base_uri": "https://localhost:8080/"
        },
        "id": "owHEOHIhqSBY",
        "outputId": "951c33cc-08b7-4b9e-f677-0b9c0823aa76"
      },
      "execution_count": null,
      "outputs": [
        {
          "output_type": "stream",
          "name": "stdout",
          "text": [
            "I am new to python\n"
          ]
        }
      ]
    },
    {
      "cell_type": "code",
      "source": [
        "print(10)"
      ],
      "metadata": {
        "colab": {
          "base_uri": "https://localhost:8080/"
        },
        "id": "P2TVV0IoqSDr",
        "outputId": "5674f0be-686a-4440-fea8-0cda082a503e"
      },
      "execution_count": null,
      "outputs": [
        {
          "output_type": "stream",
          "name": "stdout",
          "text": [
            "10\n"
          ]
        }
      ]
    },
    {
      "cell_type": "code",
      "source": [
        "# type()\n",
        "# len()->"
      ],
      "metadata": {
        "id": "K4dWgHP9q8GM"
      },
      "execution_count": null,
      "outputs": []
    },
    {
      "cell_type": "code",
      "source": [
        "help(len)"
      ],
      "metadata": {
        "colab": {
          "base_uri": "https://localhost:8080/"
        },
        "id": "oxf6fTGJrAKD",
        "outputId": "c465cbc7-9870-45d0-e461-ad20c94616f1"
      },
      "execution_count": null,
      "outputs": [
        {
          "output_type": "stream",
          "name": "stdout",
          "text": [
            "Help on built-in function len in module builtins:\n",
            "\n",
            "len(obj, /)\n",
            "    Return the number of items in a container.\n",
            "\n"
          ]
        }
      ]
    },
    {
      "cell_type": "code",
      "source": [
        "help(type)"
      ],
      "metadata": {
        "colab": {
          "base_uri": "https://localhost:8080/"
        },
        "id": "FERx9GoFrWri",
        "outputId": "f7773e83-f54a-4b19-e3cd-eb71b6d41f3a"
      },
      "execution_count": null,
      "outputs": [
        {
          "output_type": "stream",
          "name": "stdout",
          "text": [
            "Help on class type in module builtins:\n",
            "\n",
            "class type(object)\n",
            " |  type(object_or_name, bases, dict)\n",
            " |  type(object) -> the object's type\n",
            " |  type(name, bases, dict) -> a new type\n",
            " |  \n",
            " |  Methods defined here:\n",
            " |  \n",
            " |  __call__(self, /, *args, **kwargs)\n",
            " |      Call self as a function.\n",
            " |  \n",
            " |  __delattr__(self, name, /)\n",
            " |      Implement delattr(self, name).\n",
            " |  \n",
            " |  __dir__(self, /)\n",
            " |      Specialized __dir__ implementation for types.\n",
            " |  \n",
            " |  __getattribute__(self, name, /)\n",
            " |      Return getattr(self, name).\n",
            " |  \n",
            " |  __init__(self, /, *args, **kwargs)\n",
            " |      Initialize self.  See help(type(self)) for accurate signature.\n",
            " |  \n",
            " |  __instancecheck__(self, instance, /)\n",
            " |      Check if an object is an instance.\n",
            " |  \n",
            " |  __repr__(self, /)\n",
            " |      Return repr(self).\n",
            " |  \n",
            " |  __setattr__(self, name, value, /)\n",
            " |      Implement setattr(self, name, value).\n",
            " |  \n",
            " |  __sizeof__(self, /)\n",
            " |      Return memory consumption of the type object.\n",
            " |  \n",
            " |  __subclasscheck__(self, subclass, /)\n",
            " |      Check if a class is a subclass.\n",
            " |  \n",
            " |  __subclasses__(self, /)\n",
            " |      Return a list of immediate subclasses.\n",
            " |  \n",
            " |  mro(self, /)\n",
            " |      Return a type's method resolution order.\n",
            " |  \n",
            " |  ----------------------------------------------------------------------\n",
            " |  Class methods defined here:\n",
            " |  \n",
            " |  __prepare__(...)\n",
            " |      __prepare__() -> dict\n",
            " |      used to create the namespace for the class statement\n",
            " |  \n",
            " |  ----------------------------------------------------------------------\n",
            " |  Static methods defined here:\n",
            " |  \n",
            " |  __new__(*args, **kwargs)\n",
            " |      Create and return a new object.  See help(type) for accurate signature.\n",
            " |  \n",
            " |  ----------------------------------------------------------------------\n",
            " |  Data descriptors defined here:\n",
            " |  \n",
            " |  __abstractmethods__\n",
            " |  \n",
            " |  __dict__\n",
            " |  \n",
            " |  __text_signature__\n",
            " |  \n",
            " |  ----------------------------------------------------------------------\n",
            " |  Data and other attributes defined here:\n",
            " |  \n",
            " |  __base__ = <class 'object'>\n",
            " |      The most base type\n",
            " |  \n",
            " |  __bases__ = (<class 'object'>,)\n",
            " |  \n",
            " |  __basicsize__ = 864\n",
            " |  \n",
            " |  __dictoffset__ = 264\n",
            " |  \n",
            " |  __flags__ = 2148291584\n",
            " |  \n",
            " |  __itemsize__ = 40\n",
            " |  \n",
            " |  __mro__ = (<class 'type'>, <class 'object'>)\n",
            " |  \n",
            " |  __weakrefoffset__ = 368\n",
            "\n"
          ]
        }
      ]
    },
    {
      "cell_type": "code",
      "source": [
        "# How to commect in python\n",
        "\n",
        "# hastag -> it is used for commeting in a sinle line\n",
        "\n"
      ],
      "metadata": {
        "id": "HqwVBJj0rdcn"
      },
      "execution_count": null,
      "outputs": []
    },
    {
      "cell_type": "code",
      "source": [
        "# Dennish is new to python\n",
        "#1234567\n",
        "#asdfghj"
      ],
      "metadata": {
        "id": "sI9pIVxyrqf9"
      },
      "execution_count": null,
      "outputs": []
    },
    {
      "cell_type": "code",
      "source": [
        "\"\"\"\n",
        "I\n",
        "Am\n",
        "new \n",
        "to python\n",
        "\"\"\""
      ],
      "metadata": {
        "colab": {
          "base_uri": "https://localhost:8080/",
          "height": 35
        },
        "id": "nwSRbB-zr377",
        "outputId": "0de8cd73-0b61-4eb9-828a-ee43e515a455"
      },
      "execution_count": null,
      "outputs": [
        {
          "output_type": "execute_result",
          "data": {
            "text/plain": [
              "'\\nI\\nAm\\nnew \\nto python\\n'"
            ],
            "application/vnd.google.colaboratory.intrinsic+json": {
              "type": "string"
            }
          },
          "metadata": {},
          "execution_count": 17
        }
      ]
    },
    {
      "cell_type": "code",
      "source": [
        "# variabes-> It is nothing but contianer\n",
        "\n",
        "x = 10\n",
        "print(x)"
      ],
      "metadata": {
        "colab": {
          "base_uri": "https://localhost:8080/"
        },
        "id": "EOn3H2G-r_py",
        "outputId": "1bb99e13-50c5-4816-af09-4c27f9c92832"
      },
      "execution_count": null,
      "outputs": [
        {
          "output_type": "stream",
          "name": "stdout",
          "text": [
            "10\n"
          ]
        }
      ]
    },
    {
      "cell_type": "code",
      "source": [
        "x = 'Dennis'\n",
        "print(x)"
      ],
      "metadata": {
        "colab": {
          "base_uri": "https://localhost:8080/"
        },
        "id": "1KwOZEsfr_xy",
        "outputId": "a073271d-43e9-4fdb-c311-59ad2fa18dc8"
      },
      "execution_count": null,
      "outputs": [
        {
          "output_type": "stream",
          "name": "stdout",
          "text": [
            "Dennis\n"
          ]
        }
      ]
    },
    {
      "cell_type": "code",
      "source": [
        "# While giving name to any avriable we have to keep "
      ],
      "metadata": {
        "id": "kADWBS4IsSm5"
      },
      "execution_count": null,
      "outputs": []
    },
    {
      "cell_type": "code",
      "source": [
        "a_b = 10\n",
        "print(a_b)"
      ],
      "metadata": {
        "colab": {
          "base_uri": "https://localhost:8080/"
        },
        "id": "MOKuNz3CsSw1",
        "outputId": "837ff417-efb6-4930-ebc9-00ee1ce4a326"
      },
      "execution_count": null,
      "outputs": [
        {
          "output_type": "stream",
          "name": "stdout",
          "text": [
            "10\n"
          ]
        }
      ]
    },
    {
      "cell_type": "code",
      "source": [
        "# input()->It will help you to ask user to give some input\n",
        "\n",
        "name = input(\"Enter your name\")\n",
        "print(name)"
      ],
      "metadata": {
        "colab": {
          "base_uri": "https://localhost:8080/"
        },
        "id": "BcZkdlAas6oU",
        "outputId": "9246913d-9859-4215-ba7d-818901265096"
      },
      "execution_count": null,
      "outputs": [
        {
          "output_type": "stream",
          "name": "stdout",
          "text": [
            "Enter your nameJoin\n",
            "Join\n"
          ]
        }
      ]
    },
    {
      "cell_type": "code",
      "source": [
        "name = input(\"Enter your name\")\n",
        "age = input(\"Enter your age\")\n",
        "print(name ,age)"
      ],
      "metadata": {
        "colab": {
          "base_uri": "https://localhost:8080/"
        },
        "id": "rpe2df_Ss7TZ",
        "outputId": "92be1b7c-33e2-4384-f970-eee17da69424"
      },
      "execution_count": null,
      "outputs": [
        {
          "output_type": "stream",
          "name": "stdout",
          "text": [
            "Enter your namedennis\n",
            "Enter your age26\n",
            "dennis 26\n"
          ]
        }
      ]
    },
    {
      "cell_type": "code",
      "source": [
        "# numeric data-> integer-> int()-> 0,1,2,3,4,5,6,7,999\n",
        "# float-> flaot()-> any value whihc has decimal valuye inside it-> 99.99, 88.90"
      ],
      "metadata": {
        "id": "8bRQOSZ8s7V4"
      },
      "execution_count": null,
      "outputs": []
    },
    {
      "cell_type": "code",
      "source": [
        "x = 10\n",
        "# if some as k you what is the data type\n",
        "type(x)"
      ],
      "metadata": {
        "colab": {
          "base_uri": "https://localhost:8080/"
        },
        "id": "Mx19KsRLs7Y6",
        "outputId": "a6130c24-1d5c-4a7b-ed70-ca3ae29d0c37"
      },
      "execution_count": null,
      "outputs": [
        {
          "output_type": "execute_result",
          "data": {
            "text/plain": [
              "int"
            ]
          },
          "metadata": {},
          "execution_count": 26
        }
      ]
    },
    {
      "cell_type": "code",
      "source": [
        "x = 10.0\n",
        "type(x)"
      ],
      "metadata": {
        "colab": {
          "base_uri": "https://localhost:8080/"
        },
        "id": "usdjy61as7cq",
        "outputId": "28e3ac8f-03a0-4d4a-bd5c-c01e47fb9c48"
      },
      "execution_count": null,
      "outputs": [
        {
          "output_type": "execute_result",
          "data": {
            "text/plain": [
              "float"
            ]
          },
          "metadata": {},
          "execution_count": 27
        }
      ]
    },
    {
      "cell_type": "code",
      "source": [
        "# Text Sequence types\n",
        "# Text-> String-> str()\n",
        "name = 'Dennis'\n",
        "x = \"how are you dennis\"\n",
        "type(x)"
      ],
      "metadata": {
        "colab": {
          "base_uri": "https://localhost:8080/"
        },
        "id": "uvEkwP2xs6rN",
        "outputId": "baafbaed-9358-45df-a914-af0f10f23a30"
      },
      "execution_count": null,
      "outputs": [
        {
          "output_type": "execute_result",
          "data": {
            "text/plain": [
              "str"
            ]
          },
          "metadata": {},
          "execution_count": 28
        }
      ]
    },
    {
      "cell_type": "code",
      "source": [
        "type(name)"
      ],
      "metadata": {
        "colab": {
          "base_uri": "https://localhost:8080/"
        },
        "id": "d4CGWsHduT0Q",
        "outputId": "b2576868-d0ba-4e23-c19b-28cbe191f038"
      },
      "execution_count": null,
      "outputs": [
        {
          "output_type": "execute_result",
          "data": {
            "text/plain": [
              "str"
            ]
          },
          "metadata": {},
          "execution_count": 29
        }
      ]
    },
    {
      "cell_type": "code",
      "source": [
        "x = '10'\n",
        "type(x)"
      ],
      "metadata": {
        "colab": {
          "base_uri": "https://localhost:8080/"
        },
        "id": "sc-l06hguT3E",
        "outputId": "626f775e-d31c-439e-e80b-2f34cafadc53"
      },
      "execution_count": null,
      "outputs": [
        {
          "output_type": "execute_result",
          "data": {
            "text/plain": [
              "str"
            ]
          },
          "metadata": {},
          "execution_count": 31
        }
      ]
    },
    {
      "cell_type": "code",
      "source": [
        "x = 10\n",
        "type(x)"
      ],
      "metadata": {
        "colab": {
          "base_uri": "https://localhost:8080/"
        },
        "id": "NB5qyQ6Xuh8a",
        "outputId": "404e0af0-0db0-4fc1-90a7-aba9aa8c3a8d"
      },
      "execution_count": null,
      "outputs": [
        {
          "output_type": "execute_result",
          "data": {
            "text/plain": [
              "int"
            ]
          },
          "metadata": {},
          "execution_count": 32
        }
      ]
    },
    {
      "cell_type": "code",
      "source": [
        "discount = 43.8\n",
        "type(discount)"
      ],
      "metadata": {
        "colab": {
          "base_uri": "https://localhost:8080/"
        },
        "id": "zVnMHEdFuh_s",
        "outputId": "ef483b2d-fdcb-4aef-c632-f92020611c57"
      },
      "execution_count": null,
      "outputs": [
        {
          "output_type": "execute_result",
          "data": {
            "text/plain": [
              "float"
            ]
          },
          "metadata": {},
          "execution_count": 34
        }
      ]
    },
    {
      "cell_type": "code",
      "source": [
        "address = '#301 , Pelican street'\n",
        "type(address)"
      ],
      "metadata": {
        "colab": {
          "base_uri": "https://localhost:8080/"
        },
        "id": "5Dl8OevJuiB8",
        "outputId": "a626ed34-8f92-4169-afad-4b400ee4402e"
      },
      "execution_count": null,
      "outputs": [
        {
          "output_type": "execute_result",
          "data": {
            "text/plain": [
              "str"
            ]
          },
          "metadata": {},
          "execution_count": 35
        }
      ]
    },
    {
      "cell_type": "code",
      "source": [
        "# Sequence  type\n",
        "\n",
        "# List\n",
        "\n",
        "list_1 = ['dennis' , 300 , 300.00]\n",
        "type(list_1)"
      ],
      "metadata": {
        "colab": {
          "base_uri": "https://localhost:8080/"
        },
        "id": "Y-wpLJoiuT5R",
        "outputId": "0cc862cf-5172-4395-a7ef-80444deaf388"
      },
      "execution_count": null,
      "outputs": [
        {
          "output_type": "execute_result",
          "data": {
            "text/plain": [
              "list"
            ]
          },
          "metadata": {},
          "execution_count": 37
        }
      ]
    },
    {
      "cell_type": "code",
      "source": [
        "tuple_1 = ('dennis' , 300 , 300.99)\n",
        "type(tuple_1)"
      ],
      "metadata": {
        "colab": {
          "base_uri": "https://localhost:8080/"
        },
        "id": "xNDYNhU8vdQ9",
        "outputId": "bb357d87-acf0-4bca-f007-8de2f9544673"
      },
      "execution_count": null,
      "outputs": [
        {
          "output_type": "execute_result",
          "data": {
            "text/plain": [
              "tuple"
            ]
          },
          "metadata": {},
          "execution_count": 39
        }
      ]
    },
    {
      "cell_type": "code",
      "source": [
        "my_favs = ['red' , 'Kebbab' , 'NY']\n",
        "\n",
        "print(my_favs)"
      ],
      "metadata": {
        "colab": {
          "base_uri": "https://localhost:8080/"
        },
        "id": "9udQQyL4vdTz",
        "outputId": "688a6d7b-519e-439c-fea9-90d24cef3345"
      },
      "execution_count": null,
      "outputs": [
        {
          "output_type": "stream",
          "name": "stdout",
          "text": [
            "['red', 'Kebbab', 'NY']\n"
          ]
        }
      ]
    },
    {
      "cell_type": "code",
      "source": [
        "# range-> write values between 0 to 10-> \n",
        "\n",
        "range_1 = range(5)\n",
        "print(type(range_1))"
      ],
      "metadata": {
        "colab": {
          "base_uri": "https://localhost:8080/"
        },
        "id": "eqw9U2o7vdWK",
        "outputId": "0ea7e662-8526-4ccc-9538-de7002cd32df"
      },
      "execution_count": null,
      "outputs": [
        {
          "output_type": "stream",
          "name": "stdout",
          "text": [
            "<class 'range'>\n"
          ]
        }
      ]
    },
    {
      "cell_type": "code",
      "source": [
        "#range(stop condition)\n",
        "# range(stopping condition) range(10)-> #0 to 10-> 0,1,2,3,4,5,6,7,8,9\n",
        "r\n",
        "\n",
        "for i in range(10):\n",
        "  print(i)"
      ],
      "metadata": {
        "colab": {
          "base_uri": "https://localhost:8080/"
        },
        "id": "Af8HXr9TvdYD",
        "outputId": "32c2294e-7b68-42be-d3a2-ed81ef7f111a"
      },
      "execution_count": null,
      "outputs": [
        {
          "output_type": "stream",
          "name": "stdout",
          "text": [
            "0\n",
            "1\n",
            "2\n",
            "3\n",
            "4\n",
            "5\n",
            "6\n",
            "7\n",
            "8\n",
            "9\n"
          ]
        }
      ]
    },
    {
      "cell_type": "code",
      "source": [
        "# range(start, stopping)\n",
        "for i in range(4,10):\n",
        "  print(i)"
      ],
      "metadata": {
        "colab": {
          "base_uri": "https://localhost:8080/"
        },
        "id": "h3zbfBVWw3on",
        "outputId": "4fe96ff1-ee9b-4d3f-a34b-49ac014d062c"
      },
      "execution_count": null,
      "outputs": [
        {
          "output_type": "stream",
          "name": "stdout",
          "text": [
            "4\n",
            "5\n",
            "6\n",
            "7\n",
            "8\n",
            "9\n"
          ]
        }
      ]
    },
    {
      "cell_type": "code",
      "source": [
        "# range(start, stopping ,step)\n",
        "for i in range(2,10, 2):\n",
        "  print(i)"
      ],
      "metadata": {
        "id": "NgzTiNRxw3tB"
      },
      "execution_count": null,
      "outputs": []
    },
    {
      "cell_type": "code",
      "source": [
        "# outer loop\n",
        "for i in range(1, 11):\n",
        "    # nested loop\n",
        "    # to iterate from 1 to 10\n",
        "    for j in range(1, 11):\n",
        "        # print multiplication\n",
        "        print(i * j, end=' ')\n",
        "    print()"
      ],
      "metadata": {
        "id": "D7G6GvcW-NA0",
        "colab": {
          "base_uri": "https://localhost:8080/"
        },
        "outputId": "79ff45c1-820a-4462-a426-c6a6579c2ac8"
      },
      "execution_count": null,
      "outputs": [
        {
          "output_type": "stream",
          "name": "stdout",
          "text": [
            "1 2 3 4 5 6 7 8 9 10 \n",
            "2 4 6 8 10 12 14 16 18 20 \n",
            "3 6 9 12 15 18 21 24 27 30 \n",
            "4 8 12 16 20 24 28 32 36 40 \n",
            "5 10 15 20 25 30 35 40 45 50 \n",
            "6 12 18 24 30 36 42 48 54 60 \n",
            "7 14 21 28 35 42 49 56 63 70 \n",
            "8 16 24 32 40 48 56 64 72 80 \n",
            "9 18 27 36 45 54 63 72 81 90 \n",
            "10 20 30 40 50 60 70 80 90 100 \n"
          ]
        }
      ]
    },
    {
      "cell_type": "code",
      "source": [
        "number = int(input (\"Enter the number of which the user wants to print the multiplication table: \"))      \n",
        "# We are using \"for loop\" to iterate the multiplication 10 times       \n",
        "# print (\"The Multiplication Table of: \", number)    \n",
        "for count in range(1, 11):      \n",
        "   print (number, 'x', count, '=', number * count) "
      ],
      "metadata": {
        "id": "_bd2qcdD-NDN",
        "colab": {
          "base_uri": "https://localhost:8080/"
        },
        "outputId": "5e4d8b7d-eeda-4740-e1ec-55b4180ec590"
      },
      "execution_count": null,
      "outputs": [
        {
          "output_type": "stream",
          "name": "stdout",
          "text": [
            "Enter the number of which the user wants to print the multiplication table: 5\n",
            "The Multiplication Table of:  5\n",
            "5 x 1 = 5\n",
            "5 x 2 = 10\n",
            "5 x 3 = 15\n",
            "5 x 4 = 20\n",
            "5 x 5 = 25\n",
            "5 x 6 = 30\n",
            "5 x 7 = 35\n",
            "5 x 8 = 40\n",
            "5 x 9 = 45\n",
            "5 x 10 = 50\n"
          ]
        }
      ]
    },
    {
      "cell_type": "code",
      "source": [
        "num = int(input('Enter the number'))\n",
        "for count in range(1,11):\n",
        "  print(num,'X', count, '=', num*count)"
      ],
      "metadata": {
        "id": "cBQtxbVF-NFV",
        "colab": {
          "base_uri": "https://localhost:8080/"
        },
        "outputId": "210a8724-11bb-4902-abbb-74d7a598d839"
      },
      "execution_count": null,
      "outputs": [
        {
          "output_type": "stream",
          "name": "stdout",
          "text": [
            "Enter the number10\n",
            "10 X 1 = 10\n",
            "10 X 2 = 20\n",
            "10 X 3 = 30\n",
            "10 X 4 = 40\n",
            "10 X 5 = 50\n",
            "10 X 6 = 60\n",
            "10 X 7 = 70\n",
            "10 X 8 = 80\n",
            "10 X 9 = 90\n",
            "10 X 10 = 100\n"
          ]
        }
      ]
    },
    {
      "cell_type": "code",
      "source": [
        "num = int(input('Enter the number'))\n",
        "def table(num):\n",
        "  for count in range(1,11):\n",
        "    print(num,'X', count, '=', num*count)"
      ],
      "metadata": {
        "colab": {
          "base_uri": "https://localhost:8080/"
        },
        "id": "b3bH31VV_bFl",
        "outputId": "6c649cda-1332-4fe2-fb9d-85a7a92ba00d"
      },
      "execution_count": null,
      "outputs": [
        {
          "name": "stdout",
          "output_type": "stream",
          "text": [
            "Enter the number10\n"
          ]
        }
      ]
    },
    {
      "cell_type": "code",
      "source": [
        "table(10)"
      ],
      "metadata": {
        "colab": {
          "base_uri": "https://localhost:8080/"
        },
        "id": "BKfrVkv-_bIS",
        "outputId": "7b599696-60c4-4c54-b082-55e36188259e"
      },
      "execution_count": null,
      "outputs": [
        {
          "output_type": "stream",
          "name": "stdout",
          "text": [
            "10 X 1 = 10\n",
            "10 X 2 = 20\n",
            "10 X 3 = 30\n",
            "10 X 4 = 40\n",
            "10 X 5 = 50\n",
            "10 X 6 = 60\n",
            "10 X 7 = 70\n",
            "10 X 8 = 80\n",
            "10 X 9 = 90\n",
            "10 X 10 = 100\n"
          ]
        }
      ]
    },
    {
      "cell_type": "code",
      "source": [],
      "metadata": {
        "id": "RKtNVLA-_bKq"
      },
      "execution_count": null,
      "outputs": []
    },
    {
      "cell_type": "code",
      "source": [],
      "metadata": {
        "id": "R7Josm5wDmW5"
      },
      "execution_count": null,
      "outputs": []
    },
    {
      "cell_type": "code",
      "source": [
        "print('Hello world')"
      ],
      "metadata": {
        "colab": {
          "base_uri": "https://localhost:8080/"
        },
        "id": "Th4zxyhUDmZj",
        "outputId": "94313ba2-9692-4eb6-fdea-5a70d52b80bc"
      },
      "execution_count": null,
      "outputs": [
        {
          "output_type": "stream",
          "name": "stdout",
          "text": [
            "Hello world\n"
          ]
        }
      ]
    },
    {
      "cell_type": "code",
      "source": [
        "num = input(\"Enter any value\")\n",
        "def table(num):\n",
        "  for count in range(1,11):\n",
        "    print(num , 'X' ,count, '=', num*count)"
      ],
      "metadata": {
        "colab": {
          "base_uri": "https://localhost:8080/"
        },
        "id": "kEdJYhL1DmcF",
        "outputId": "aa35304d-ebea-4f72-b45d-04904a7cb9f4"
      },
      "execution_count": null,
      "outputs": [
        {
          "name": "stdout",
          "output_type": "stream",
          "text": [
            "Enter any value5\n"
          ]
        }
      ]
    },
    {
      "cell_type": "code",
      "source": [
        "table(5)"
      ],
      "metadata": {
        "colab": {
          "base_uri": "https://localhost:8080/"
        },
        "id": "ZrG153zoDmee",
        "outputId": "38bcc4ef-8679-41ee-97fb-eedb16281204"
      },
      "execution_count": null,
      "outputs": [
        {
          "output_type": "stream",
          "name": "stdout",
          "text": [
            "5 X 1 = 5\n",
            "5 X 2 = 10\n",
            "5 X 3 = 15\n",
            "5 X 4 = 20\n",
            "5 X 5 = 25\n",
            "5 X 6 = 30\n",
            "5 X 7 = 35\n",
            "5 X 8 = 40\n",
            "5 X 9 = 45\n",
            "5 X 10 = 50\n"
          ]
        }
      ]
    },
    {
      "cell_type": "code",
      "source": [
        "table(19)"
      ],
      "metadata": {
        "colab": {
          "base_uri": "https://localhost:8080/"
        },
        "id": "xI0r_woJDmhT",
        "outputId": "585a62b5-8f19-40fd-a996-8846e26eee83"
      },
      "execution_count": null,
      "outputs": [
        {
          "output_type": "stream",
          "name": "stdout",
          "text": [
            "19 X 1 = 19\n",
            "19 X 2 = 38\n",
            "19 X 3 = 57\n",
            "19 X 4 = 76\n",
            "19 X 5 = 95\n",
            "19 X 6 = 114\n",
            "19 X 7 = 133\n",
            "19 X 8 = 152\n",
            "19 X 9 = 171\n",
            "19 X 10 = 190\n"
          ]
        }
      ]
    },
    {
      "cell_type": "code",
      "source": [
        "num = input(\"Enter your name or phone\")\n",
        "print(num)"
      ],
      "metadata": {
        "colab": {
          "base_uri": "https://localhost:8080/"
        },
        "id": "tIVPmMVGEVBu",
        "outputId": "c61693b5-ffba-4624-8c18-5025c2fae8fe"
      },
      "execution_count": null,
      "outputs": [
        {
          "output_type": "stream",
          "name": "stdout",
          "text": [
            "Enter your name or phoneRanjan\n",
            "Ranjan\n"
          ]
        }
      ]
    },
    {
      "cell_type": "code",
      "source": [],
      "metadata": {
        "id": "QdCNnr2HEVEr"
      },
      "execution_count": null,
      "outputs": []
    },
    {
      "cell_type": "code",
      "source": [
        "num = input('Enter a value: ')\n",
        "def table(num):\n",
        "  for count in range(1,11):\n",
        "    print(num, 'X', count, '=', num*count)"
      ],
      "metadata": {
        "id": "Xh_mZoceEVHS",
        "colab": {
          "base_uri": "https://localhost:8080/"
        },
        "outputId": "5ff512eb-97db-4782-fff7-bce4c36cd099"
      },
      "execution_count": null,
      "outputs": [
        {
          "name": "stdout",
          "output_type": "stream",
          "text": [
            "Enter a value: 9\n"
          ]
        }
      ]
    },
    {
      "cell_type": "code",
      "source": [
        "table(9)"
      ],
      "metadata": {
        "id": "d0EYcydtDmj1",
        "colab": {
          "base_uri": "https://localhost:8080/"
        },
        "outputId": "397763dc-2433-4fb3-aa06-58df73e8d0e6"
      },
      "execution_count": null,
      "outputs": [
        {
          "output_type": "stream",
          "name": "stdout",
          "text": [
            "9 X 1 = 9\n",
            "9 X 2 = 18\n",
            "9 X 3 = 27\n",
            "9 X 4 = 36\n",
            "9 X 5 = 45\n",
            "9 X 6 = 54\n",
            "9 X 7 = 63\n",
            "9 X 8 = 72\n",
            "9 X 9 = 81\n",
            "9 X 10 = 90\n"
          ]
        }
      ]
    },
    {
      "cell_type": "code",
      "source": [],
      "metadata": {
        "id": "8tJusQbJDmmw"
      },
      "execution_count": 5,
      "outputs": []
    },
    {
      "cell_type": "code",
      "source": [],
      "metadata": {
        "id": "eLMa7Z_GDmo3"
      },
      "execution_count": null,
      "outputs": []
    },
    {
      "cell_type": "code",
      "source": [],
      "metadata": {
        "id": "xOTDsKOyDmrR"
      },
      "execution_count": null,
      "outputs": []
    },
    {
      "cell_type": "code",
      "source": [],
      "metadata": {
        "id": "0CLqJnpC_bM_"
      },
      "execution_count": null,
      "outputs": []
    },
    {
      "cell_type": "code",
      "source": [],
      "metadata": {
        "id": "9oDXeNNa_bPI"
      },
      "execution_count": null,
      "outputs": []
    },
    {
      "cell_type": "code",
      "source": [],
      "metadata": {
        "id": "HHL8Zzaa_b_D"
      },
      "execution_count": null,
      "outputs": []
    },
    {
      "cell_type": "code",
      "source": [],
      "metadata": {
        "id": "MegeFpVz_cBn"
      },
      "execution_count": null,
      "outputs": []
    }
  ]
}