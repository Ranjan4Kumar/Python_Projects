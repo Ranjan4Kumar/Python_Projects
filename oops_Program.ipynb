{
  "nbformat": 4,
  "nbformat_minor": 0,
  "metadata": {
    "colab": {
      "provenance": []
    },
    "kernelspec": {
      "name": "python3",
      "display_name": "Python 3"
    },
    "language_info": {
      "name": "python"
    }
  },
  "cells": [
    {
      "cell_type": "code",
      "execution_count": null,
      "metadata": {
        "colab": {
          "base_uri": "https://localhost:8080/"
        },
        "id": "VwX2M_otsUOD",
        "outputId": "d07ff9e8-e148-47f0-d5dc-1b57a1ea563e"
      },
      "outputs": [
        {
          "output_type": "stream",
          "name": "stdout",
          "text": [
            "Price of CAR\n",
            "Price (Depending on Mileage) =  900000\n",
            "Price (Depending on Age) =  907200\n",
            "Price of Bike\n",
            "Price (Depending on Mileage) =  180000\n",
            "Price (Depending on Age) =  182400\n",
            "Price of Van\n",
            "Price (Depending on Mileage) =  1020000\n",
            "Price (Depending on Age) =  1032000\n"
          ]
        }
      ],
      "source": [
        "#INHERITANCE NEWW\n",
        "BRAND_DEFAULT_PRICE = {\n",
        "    'van': 30000,   # $30,000\n",
        "    'car': 100000,  # $100,000\n",
        "    'bike': 60000,  # $60,000\n",
        "}\n",
        "# Depreciate $80 per Kill Mile\n",
        "DEPRECIATE_PRICE_PER_MILEAGE_VAN = 70\n",
        "DEPRECIATE_PRICE_PER_MILEAGE_CAR = 100\n",
        "DEPRECIATE_PRICE_PER_MILEAGE_BIKE = 80\n",
        "# Depreciate $1200 per year\n",
        "DEPRECIATE_PRICE_PER_AGE = 1200\n",
        "class Vehicle():\n",
        "  def __init__(self, brand, mileage_km, age):\n",
        "    self.brand = brand\n",
        "    self.mileage_km = mileage_km\n",
        "    self.age = age\n",
        "  def get_price_car(self , vehicle_type):\n",
        "    price = BRAND_DEFAULT_PRICE[vehicle_type]\n",
        "    # Depreciate by mlileage\n",
        "    price = price - self.mileage_km * DEPRECIATE_PRICE_PER_MILEAGE_CAR\n",
        "    print(\"Price (Depending on Mileage) = \" , abs(price))\n",
        "    # Depreciate by age\n",
        "    price = price - self.age * DEPRECIATE_PRICE_PER_AGE\n",
        "    print(\"Price (Depending on Age) = \", abs(price))\n",
        "    return price\n",
        "  def get_price_van(self , vehicle_type):\n",
        "    price1 = BRAND_DEFAULT_PRICE[vehicle_type]\n",
        "    # Depreciate by mileage\n",
        "    price1 = price1 - self.mileage_km * DEPRECIATE_PRICE_PER_MILEAGE_VAN\n",
        "    print(\"Price (Depending on Mileage) = \" , abs(price1))\n",
        "    # Depreciate by age\n",
        "    price1 = price1 - self.age * DEPRECIATE_PRICE_PER_AGE\n",
        "    print(\"Price (Depending on Age) = \" , abs(price1))\n",
        "    return price1\n",
        "  def get_price_bike(self , vehicle_type):\n",
        "    price2 = BRAND_DEFAULT_PRICE[vehicle_type]\n",
        "    # Depreciate by mlileage\n",
        "    price2 = price2- self.mileage_km * DEPRECIATE_PRICE_PER_MILEAGE_BIKE\n",
        "    print(\"Price (Depending on Mileage) = \" , abs(price2))\n",
        "    # Depreciate by age\n",
        "    price2 = price2 - self.age * DEPRECIATE_PRICE_PER_AGE\n",
        "    print(\"Price (Depending on Age) = \" , abs(price2))\n",
        "    return price2\n",
        "class Car(Vehicle):\n",
        "  def run(self):\n",
        "    print(\"Price of CAR\")\n",
        "    super().get_price_car(\"car\")\n",
        "class Bike(Vehicle):\n",
        "  def run(self):\n",
        "    print(\"Price of Bike\")\n",
        "    super().get_price_bike(\"bike\")\n",
        "class Van(Vehicle):\n",
        "  def run(self):\n",
        "    print(\"Price of Van\")\n",
        "    super().get_price_van(\"van\")\n",
        "C = Car(\"BMW\" , 10000 , 6)\n",
        "C.run()\n",
        "B = Bike(\"Kawasaki\" , 3000 , 2)\n",
        "B.run()\n",
        "V = Van(\"OMNI\" , 15000 , 10)\n",
        "V.run()"
      ]
    },
    {
      "cell_type": "code",
      "source": [
        "#INHERITANCE NEWW\n",
        "BRAND_DEFAULT_PRICE = {\n",
        "    'van': 30000,   # $30,000\n",
        "    'car': 100000,  # $100,000\n",
        "    'bike': 60000,  # $60,000\n",
        "}\n",
        "# Depreciate $80 per Kill Mile\n",
        "DEPRECIATE_PRICE_PER_MILEAGE_VAN = 70\n",
        "DEPRECIATE_PRICE_PER_MILEAGE_CAR = 100\n",
        "DEPRECIATE_PRICE_PER_MILEAGE_BIKE = 80\n",
        "# Depreciate $1200 per year\n",
        "DEPRECIATE_PRICE_PER_AGE = 1200\n",
        "class Vehicle():\n",
        "  def __init__(self, brand, mileage_km, age):\n",
        "    self.brand = brand\n",
        "    self.mileage_km = mileage_km\n",
        "    self.age = age\n",
        "  def get_price_car(self , vehicle_type):\n",
        "    price = BRAND_DEFAULT_PRICE[vehicle_type]\n",
        "    # Depreciate by mlileage\n",
        "    price = price - self.mileage_km * DEPRECIATE_PRICE_PER_MILEAGE_CAR\n",
        "    print(\"Price (Depending on Mileage) = \" , abs(price))\n",
        "    # Depreciate by age\n",
        "    price = price - self.age * DEPRECIATE_PRICE_PER_AGE\n",
        "    print(\"Price (Depending on Age) = \", abs(price))\n",
        "    return price\n",
        "  def get_price_van(self , vehicle_type):\n",
        "    price1 = BRAND_DEFAULT_PRICE[vehicle_type]\n",
        "    # Depreciate by mileage\n",
        "    price1 = price1 - self.mileage_km * DEPRECIATE_PRICE_PER_MILEAGE_VAN\n",
        "    print(\"Price (Depending on Mileage) = \" , abs(price1))\n",
        "    # Depreciate by age\n",
        "    price1 = price1 - self.age * DEPRECIATE_PRICE_PER_AGE\n",
        "    print(\"Price (Depending on Age) = \" , abs(price1))\n",
        "    return price1\n",
        "  def get_price_bike(self , vehicle_type):\n",
        "    price2 = BRAND_DEFAULT_PRICE[vehicle_type]\n",
        "    # Depreciate by mlileage\n",
        "    price2 = price2- self.mileage_km * DEPRECIATE_PRICE_PER_MILEAGE_BIKE\n",
        "    print(\"Price (Depending on Mileage) = \" , abs(price2))\n",
        "    # Depreciate by age\n",
        "    price2 = price2 - self.age * DEPRECIATE_PRICE_PER_AGE\n",
        "    print(\"Price (Depending on Age) = \" , abs(price2))\n",
        "    return price2\n",
        "class Car(Vehicle):\n",
        "  def run(self):\n",
        "    print(\"Price of CAR\")\n",
        "    super().get_price_car(\"car\")\n",
        "class Bike(Vehicle):\n",
        "  def run(self):\n",
        "    print(\"Price of Bike\")\n",
        "    super().get_price_bike(\"bike\")\n",
        "class Van(Vehicle):\n",
        "  def run(self):\n",
        "    print(\"Price of Van\")\n",
        "    super().get_price_van(\"van\")\n",
        "C = Car(\"BMW\" , 10000 , 6)\n",
        "C.run()\n",
        "B = Bike(\"Kawasaki\" , 3000 , 2)\n",
        "B.run()\n",
        "V = Van(\"OMNI\" , 15000 , 10)\n",
        "V.run()"
      ],
      "metadata": {
        "colab": {
          "base_uri": "https://localhost:8080/"
        },
        "id": "PkglmD4Is0S4",
        "outputId": "385c2b86-431e-4c14-8d88-6cafc472ad95"
      },
      "execution_count": null,
      "outputs": [
        {
          "output_type": "stream",
          "name": "stdout",
          "text": [
            "Price of CAR\n",
            "Price (Depending on Mileage) =  900000\n",
            "Price (Depending on Age) =  907200\n",
            "Price of Bike\n",
            "Price (Depending on Mileage) =  180000\n",
            "Price (Depending on Age) =  182400\n",
            "Price of Van\n",
            "Price (Depending on Mileage) =  1020000\n",
            "Price (Depending on Age) =  1032000\n"
          ]
        }
      ]
    },
    {
      "cell_type": "code",
      "source": [
        "#encapsulation\n",
        "\n",
        "\n",
        "class Account:\n",
        "  def __init__ ( self, username, password):\n",
        "    # Variable \"username\" is Public - meaning it CAN be directly accessed\n",
        "    self.username =  username\n",
        "\n",
        "    # Variable \"password\" is Private - meaning it CANNOT be directly accessed\n",
        "    self.__password =  password\n",
        "   \n",
        "  def  displayUsername (self):\n",
        "    # Method \"displayUsername\" is Public - meaning it CAN be directly accessed\n",
        "    print(self.username)\n",
        "\n",
        "  def  __displaypassword(self):\n",
        "    # Method \"__displayPassword\" is Private - meaning it CANNOT be directly accessed\n",
        "    print(self.__password)\t\n",
        "\n",
        "# To use our class \"User\" - we create a new class object \"my_user\"\n",
        "my_user = Account (\"Techis\", \"262065909\")\t\n",
        "\n",
        "# Calling Public Method \"displayUsername\" - we can print the username \"TECHIS\"\n",
        "my_user.displayUsername()\t\t\t\n",
        "my_user.__displaypassword()"
      ],
      "metadata": {
        "colab": {
          "base_uri": "https://localhost:8080/",
          "height": 222
        },
        "id": "CBnw9TrJs570",
        "outputId": "5044dbc2-d236-4ff9-f58c-b3959dd97f15"
      },
      "execution_count": null,
      "outputs": [
        {
          "output_type": "stream",
          "name": "stdout",
          "text": [
            "Techis\n"
          ]
        },
        {
          "output_type": "error",
          "ename": "AttributeError",
          "evalue": "ignored",
          "traceback": [
            "\u001b[0;31m---------------------------------------------------------------------------\u001b[0m",
            "\u001b[0;31mAttributeError\u001b[0m                            Traceback (most recent call last)",
            "\u001b[0;32m<ipython-input-4-416f20b49a6e>\u001b[0m in \u001b[0;36m<module>\u001b[0;34m\u001b[0m\n\u001b[1;32m     16\u001b[0m \u001b[0;34m\u001b[0m\u001b[0m\n\u001b[1;32m     17\u001b[0m \u001b[0mmy_user\u001b[0m\u001b[0;34m.\u001b[0m\u001b[0mdisplayUsername\u001b[0m\u001b[0;34m(\u001b[0m\u001b[0;34m)\u001b[0m                       \u001b[0;31m# Calling Public Method \"displayUsername\" - we can print the username \"TECHIS\"\u001b[0m\u001b[0;34m\u001b[0m\u001b[0;34m\u001b[0m\u001b[0m\n\u001b[0;32m---> 18\u001b[0;31m \u001b[0mmy_user\u001b[0m\u001b[0;34m.\u001b[0m\u001b[0m__displaypassword\u001b[0m\u001b[0;34m(\u001b[0m\u001b[0;34m)\u001b[0m\u001b[0;34m\u001b[0m\u001b[0;34m\u001b[0m\u001b[0m\n\u001b[0m",
            "\u001b[0;31mAttributeError\u001b[0m: 'Account' object has no attribute '__displaypassword'"
          ]
        }
      ]
    },
    {
      "cell_type": "code",
      "source": [
        "#FORMALINTERFACE\n",
        "\n",
        "import abc\n",
        "\t\t# Importing \"abc\" package to implement a Formal interface\n",
        "\n",
        "class Boat (abc.ABC):\n",
        "  @abc.abstractmethod\t# Class \"Boat\" is a formal interface\n",
        "  def swim(self):\n",
        "    pass\t# Defining method \"swim\" via formal interface\t\t# Method \"swim\" is not implemented here\n",
        "\n",
        "class Titanic (Boat):\n",
        "  def swim(self):\n",
        "    print (\"Swimming\") \n",
        "             # Class \"Titanic\" has an implementation for formal interface class \"Boat\"\n",
        "\t\t# Method \"swim\" is implemented here\n",
        "\n",
        "class Fish (abc.ABC):              # Class \"Boat\" is a formal interface\n",
        "  @abc.abstractmethod\n",
        "  def swim(self):\n",
        "    pass\n",
        "\t\t# Defining method \"swim\" via formal interface\n",
        "\n",
        "\n",
        "class Tuna (Fish):\n",
        "  def swim(self):\n",
        "    print (\"Swimming!\")\n",
        "\t\t# Method \"swim\" is implemented here\n",
        "\n",
        "g = Titanic ()\t\t# Instance of class \"Titanic\"\n",
        "t = Tuna ( )\t\t# Instance of class \"Tuna\"\n",
        "\n",
        "print(isinstance(t, Boat))\t# Check if obj \"t\" is associated with the \"Boat\" class or not\n",
        "print(isinstance(g, Fish))\t# Check if obj \"g\" is associated with the \"Fish\" class or not\n",
        "print(isinstance(t, Fish))\t# Check if obj \"t\" is associated with the \"Fish\" class or not\n",
        "print(isinstance(g, Boat))\t# Check if obj \"g\" is associated with the \"Boat\" class or not\n",
        "\n",
        "\n",
        "\n",
        "\n",
        "#INFORMAL INTERFACE\n",
        "\n",
        "class Bike():\n",
        "  def run(self):\n",
        "    pass                                  \t\t\t\t# \"Informal interface\" is an informally implemented interface\n",
        "class Car():\n",
        "  def run(self):\n",
        "    pass \n",
        "\n"
      ],
      "metadata": {
        "colab": {
          "base_uri": "https://localhost:8080/"
        },
        "id": "_Qr6Sf4JtD0H",
        "outputId": "35bbdc72-6096-4717-c2c8-05c75c260aa5"
      },
      "execution_count": null,
      "outputs": [
        {
          "output_type": "stream",
          "name": "stdout",
          "text": [
            "False\n",
            "False\n",
            "True\n",
            "True\n"
          ]
        }
      ]
    },
    {
      "cell_type": "code",
      "source": [
        "#SINGLEINHERITANCE\n",
        "\n",
        "class Father:     #parent class \n",
        "  def haircolor(self):\n",
        "    print(\"My hair is brown in color\")\n",
        "class Child(Father):    #child class\n",
        "  pass \n",
        "\n",
        "obj1 = Child()\n",
        "obj1.haircolor()\n",
        "\n",
        "\n",
        "\n",
        "\n",
        "#MULTIPLE INHERITANCE\n",
        "#Parent class\n",
        "class Father:\n",
        "  def swimming(self):\n",
        "    print(\"I am a swimmer!\")\n",
        "\n",
        "#Child class of Vehicle class\n",
        "class Mother:\n",
        "  def chef(self):\n",
        "    print(\"I can cook delicious food\")\n",
        "\n",
        "#Child class of Car class \n",
        "class Child(Father,Mother):\n",
        "  def football(self):\n",
        "    print(\"I can play football\")\n",
        "\n",
        "ob = Child()\n",
        "ob.swimming()\n",
        "ob.chef()\n",
        "ob.football()\n",
        "\n"
      ],
      "metadata": {
        "colab": {
          "base_uri": "https://localhost:8080/"
        },
        "id": "hvlgi-iktKFd",
        "outputId": "19efc57a-5494-42e8-d976-512f41222f08"
      },
      "execution_count": null,
      "outputs": [
        {
          "output_type": "stream",
          "name": "stdout",
          "text": [
            "My hair is brown in color\n",
            "I am a swimmer!\n",
            "I can cook delicious food\n",
            "I can play football\n"
          ]
        }
      ]
    },
    {
      "cell_type": "code",
      "source": [
        "#MULTILEVEL INHERITANCE\n",
        "\n",
        "#Parent class\n",
        "class Grandparent:\n",
        "    def height(self):\n",
        "        print (\"I am 6 feet tall \")\n",
        "\n",
        "# Derived class 1 - parent\n",
        "class Parent(Grandparent):\n",
        "    def skincolor(self):\n",
        "        print (\"I have a fair complexion\")\n",
        "\n",
        "# Derivied class 2 - child\n",
        "class Child(Parent):\n",
        "    def sing(self):\n",
        "        print (\"I know how to sing\")\n",
        "\n",
        "obj1 = Parent()\n",
        "obj2 = Child()\n",
        "\n",
        "# Both the objects Inheriting the functions of parent class\n",
        "obj1.height()\n",
        "obj1.skincolor()\n",
        "\n",
        "obj2.skincolor()\n",
        "obj2.sing()"
      ],
      "metadata": {
        "colab": {
          "base_uri": "https://localhost:8080/"
        },
        "id": "3pjHFmV2tP6m",
        "outputId": "e515e67e-89c0-4008-fcff-0444ef57f8b7"
      },
      "execution_count": null,
      "outputs": [
        {
          "output_type": "stream",
          "name": "stdout",
          "text": [
            "I am 6 feet tall \n",
            "I have a fair complexion\n",
            "I have a fair complexion\n",
            "I know how to sing\n"
          ]
        }
      ]
    },
    {
      "cell_type": "code",
      "source": [
        "#HIERARCHICAL inheritance\n",
        "#Parent class\n",
        "class Mother():\n",
        "    def height(self):\n",
        "        print (\"I am 5.8 feet tall \")\n",
        "    def skincolor(self):\n",
        "      print(\"I have fair skin complexion\")\n",
        "\n",
        "class Child1(Mother):\n",
        "  def dance(self):\n",
        "    print(\"I can dance\")\n",
        "\n",
        "class Child2(Mother):\n",
        "  def sing(self):\n",
        "    print(\"I can sing\")\n",
        "\n",
        "class Child3(Mother):\n",
        "  def swim(self):\n",
        "    print(\"I can swim\")\n",
        "\n",
        "child1 = Child1()\n",
        "child1.height()\n",
        "child1.dance()\n",
        "child2 = Child2()\n",
        "child2.skincolor()\n",
        "child2.sing()\n",
        "child3 = Child3()\n",
        "child3.swim()\n",
        "child3.height()\n"
      ],
      "metadata": {
        "colab": {
          "base_uri": "https://localhost:8080/"
        },
        "id": "277AzerItVxn",
        "outputId": "a18ed7e0-c510-46c0-b83a-6e6a76cc26a2"
      },
      "execution_count": null,
      "outputs": [
        {
          "output_type": "stream",
          "name": "stdout",
          "text": [
            "I am 5.8 feet tall \n",
            "I can dance\n",
            "I have fair skin complexion\n",
            "I can sing\n",
            "I can swim\n",
            "I am 5.8 feet tall \n"
          ]
        }
      ]
    },
    {
      "cell_type": "code",
      "source": [
        "class Rectangle():\n",
        "  def __init__(self,length,breadth):\n",
        "    self.length = length\n",
        "    self.breadth = breadth\n",
        "  def calculate_area(self):\n",
        "    print(\"The area of given rectangle is\", self.length*self.breadth) #function to calculate the area of rectangle\n",
        "rect = Rectangle(5,6)\n",
        "rect.calculate_area()\n",
        "\n",
        "\n",
        "\n",
        "#for class SQUARE\n",
        "\n",
        "class Square():\n",
        "  def __init__(self,side):\n",
        "    self.side = side\n",
        "  def calculate_area(self):\n",
        "    print(\"The area of agiven square is\", self.side*self.side)\n",
        "\n",
        "sq = Square(4)\n",
        "sq.calculate_area()\n",
        "\n"
      ],
      "metadata": {
        "colab": {
          "base_uri": "https://localhost:8080/"
        },
        "id": "SM4Qw4oNta9X",
        "outputId": "80ef93af-75b4-40d5-b0df-31669d0abce6"
      },
      "execution_count": null,
      "outputs": [
        {
          "output_type": "stream",
          "name": "stdout",
          "text": [
            "The area of given rectangle is 30\n",
            "The area of agiven square is 16\n"
          ]
        }
      ]
    },
    {
      "cell_type": "code",
      "source": [
        "#POLYMORPHISM \n",
        "\n",
        "class School():\n",
        "  def student(self):\n",
        "    print('There are more than 1000students in our school')\n",
        "class Student1(School):\n",
        "  def student(self):\n",
        "    print('My name is Peter')\n",
        "class Student2(School):\n",
        "  def student(self):\n",
        "    print('My name is Tony')\n",
        "my_school = School()\n",
        "kid1 = Student1()\n",
        "kid2 = Student2()\n",
        "my_school.student()\n",
        "kid1.student()\n",
        "kid2.student()"
      ],
      "metadata": {
        "colab": {
          "base_uri": "https://localhost:8080/"
        },
        "id": "ZaWdK6zCtgQ-",
        "outputId": "7ccda085-1e73-4187-9236-e9632be996cd"
      },
      "execution_count": null,
      "outputs": [
        {
          "output_type": "stream",
          "name": "stdout",
          "text": [
            "There are more than 1000students in our school\n",
            "My name is Peter\n",
            "My name is Tony\n"
          ]
        }
      ]
    },
    {
      "cell_type": "code",
      "source": [
        "#Abstract class\n",
        "from abc import ABC , abstractmethod\n",
        "class Fruit: #Abstract Class Fruit \n",
        "  @abstractmethod\n",
        "  def taste(self): #Abstract Method taste()\n",
        "    pass\n",
        "  def color(self): #Abstract Method color()\n",
        "    pass\n",
        "class Mango(Fruit): #Dervied Class Mango\n",
        "  def taste(self): #Overriding Abstract Method taste()\n",
        "    print(\"Mango tastes Sweet\")\n",
        "  def color(self): #Overriding Abstract Method color()\n",
        "    print(\"Yellow\")\n",
        "\n",
        "class Apple(Fruit): #Dervied Class Apple\n",
        "  def taste(self): #Overriding Abstract Method taste()\n",
        "    print(\"Apple tastes Sweet & Sour\")\n",
        "  def color(self): #Overriding Abstract Method color()\n",
        "    print(\"Red\")\n",
        "\n",
        "m = Mango() #creating object mango\n",
        "m.taste()\n",
        "m.color()\n",
        "a = Apple() #creating object apple\n",
        "a.taste()\n",
        "a.color()"
      ],
      "metadata": {
        "id": "il44ZVtFtldx"
      },
      "execution_count": null,
      "outputs": []
    },
    {
      "cell_type": "code",
      "source": [
        "#encapsulation\n",
        "class Car:\n",
        "    def __init__(self, make, model, year, initial_value): #attributes of a car like make, model, year and initial value\n",
        "        self.__make = make\n",
        "        self.__model = model\n",
        "        self.__year = year\n",
        "        self.__value = initial_value\n",
        "\n",
        "    def __calculate_depreciation(self, years): #calculate depreciation per year\n",
        "        return self.__value * (0.1 ** years)\n",
        "\n",
        "    def get_make(self): #getter method for make\n",
        "        return self.__make\n",
        "\n",
        "    def get_model(self): #getter method for model\n",
        "        return self.__model\n",
        "\n",
        "    def get_year(self): #getter method for year\n",
        "        return self.__year\n",
        "\n",
        "    def get_value(self): #getter method for initial value\n",
        "        return self.__value\n",
        "\n",
        "    def set_value(self, new_value): #setter method for new value\n",
        "        self.__value = new_value\n",
        "\n",
        "    def get_depreciated_value(self, years): #getter method for depreciated value\n",
        "        return self.__value - self.__calculate_depreciation(years)\n",
        "\n",
        "car = Car(\"Toyota\", \"Corolla\", 2020, 20000) #object creation\n",
        "\n",
        "print(\"Make:\", car.get_make())\n",
        "print(\"Model:\", car.get_model())\n",
        "print(\"Year:\", car.get_year())\n",
        "print(\"Value:\", car.get_value())\n",
        "print(\"Depreciated Value (1 year):\", car.get_depreciated_value(1))\n",
        "print(\"Depreciated Value (2 years):\", car.get_depreciated_value(2))\n",
        "\n",
        "car.set_value(18000)\n",
        "print(\"New Value:\", car.get_value())"
      ],
      "metadata": {
        "colab": {
          "base_uri": "https://localhost:8080/"
        },
        "id": "M1y5DlnetsIW",
        "outputId": "694e48ae-855a-4ed7-c627-a251757a8cba"
      },
      "execution_count": null,
      "outputs": [
        {
          "output_type": "stream",
          "name": "stdout",
          "text": [
            "Make: Toyota\n",
            "Model: Corolla\n",
            "Year: 2020\n",
            "Value: 20000\n",
            "Depreciated Value (1 year): 18000.0\n",
            "Depreciated Value (2 years): 19800.0\n",
            "New Value: 18000\n"
          ]
        }
      ]
    }
  ]
}